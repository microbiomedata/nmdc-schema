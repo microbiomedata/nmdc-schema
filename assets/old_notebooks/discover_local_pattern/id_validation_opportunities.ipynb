{
 "cells": [
  {
   "cell_type": "code",
   "execution_count": 1,
   "id": "4e0c0671",
   "metadata": {},
   "outputs": [],
   "source": [
    "import pandas as pd\n",
    "import networkx as nx\n",
    "import matplotlib.pyplot as plt\n",
    "\n",
    "import os\n",
    "import yaml\n",
    "import re"
   ]
  },
  {
   "cell_type": "markdown",
   "id": "a988e0b1",
   "metadata": {},
   "source": [
    "Find classes with \n",
    "- id_prefixes\n",
    "- slot_usage:id:id_prefixes\n",
    "\n",
    "Consult https://bioregistry.io/\n",
    "\n",
    "- Where to implement?\n",
    "- How to tie prefix and local pattern together?\n",
    "- Where to find test data?"
   ]
  },
  {
   "cell_type": "code",
   "execution_count": 2,
   "id": "45c67285",
   "metadata": {},
   "outputs": [],
   "source": [
    "schema_files_prefix = \"../../src/schema/\"\n",
    "schema_files = os.listdir(schema_files_prefix)"
   ]
  },
  {
   "cell_type": "code",
   "execution_count": 3,
   "id": "5098b1f9",
   "metadata": {},
   "outputs": [
    {
     "name": "stdout",
     "output_type": "stream",
     "text": [
      "\n",
      "basic_slots.yaml\n",
      "\n",
      "annotation.yaml\n",
      "genome feature\n",
      "functional annotation term\n",
      "pathway\n",
      "    has id_prefixes\n",
      "reaction\n",
      "    has id_prefixes\n",
      "reaction participant\n",
      "orthology group\n",
      "    has id_prefixes\n",
      "functional annotation\n",
      "    has slot_usage:id:id_prefixes\n",
      "\n",
      "mixs.yaml\n",
      "\n",
      "workflow_execution_activity.yaml\n",
      "workflow execution activity\n",
      "metagenome assembly\n",
      "metatranscriptome assembly\n",
      "metagenome annotation activity\n",
      "metatranscriptome annotation activity\n",
      "MAGs analysis activity\n",
      "read QC analysis activity\n",
      "read based analysis activity\n",
      "metabolomics analysis activity\n",
      "metaproteomics analysis activity\n",
      "nom analysis activity\n",
      "\n",
      "prov.yaml\n",
      "activity\n",
      "agent\n",
      "\n",
      "nmdc.yaml\n",
      "database\n",
      "data object\n",
      "    has id_prefixes\n",
      "biosample\n",
      "    has id_prefixes\n",
      "study\n",
      "biosample processing\n",
      "omics processing\n",
      "\n",
      "core.yaml\n",
      "named thing\n",
      "ontology class\n",
      "environmental material term\n",
      "attribute value\n",
      "quantity value\n",
      "person value\n",
      "person\n",
      "MAG bin\n",
      "instrument\n",
      "metabolite quantification\n",
      "peptide quantification\n",
      "protein quantification\n",
      "chemical entity\n",
      "    has id_prefixes\n",
      "gene product\n",
      "    has id_prefixes\n",
      "text value\n",
      "url value\n",
      "timestamp value\n",
      "integer value\n",
      "boolean value\n",
      "controlled term value\n",
      "geolocation value\n"
     ]
    }
   ],
   "source": [
    "for current_basename in schema_files:\n",
    "    current_file = schema_files_prefix + current_basename\n",
    "    no_ext = re.sub(\"\\\\.yaml$\", \"\", current_basename)\n",
    "    print(\"\\n\" + current_basename)\n",
    "\n",
    "    with open(current_file) as f:\n",
    "        current_per_file_model = yaml.safe_load(f)\n",
    "        if \"classes\" in current_per_file_model:\n",
    "            current_classes = current_per_file_model[\"classes\"]\n",
    "            for key, value in current_classes.items():\n",
    "                print(key)\n",
    "                if \"id_prefixes\" in value:\n",
    "                    print(\"    has id_prefixes\")\n",
    "                if \"slot_usage\" in value:\n",
    "                    su = value[\"slot_usage\"]\n",
    "                    if \"id\" in su:\n",
    "                        su_id = su[\"id\"]\n",
    "                        if \"pattern\" in su_id:\n",
    "                            su_id_pat = su_id[\"pattern\"]\n",
    "                            print(\"    has slot_usage:id:id_prefixes\")"
   ]
  },
  {
   "cell_type": "code",
   "execution_count": null,
   "id": "69630c04",
   "metadata": {},
   "outputs": [],
   "source": []
  }
 ],
 "metadata": {
  "kernelspec": {
   "display_name": "Python 3",
   "language": "python",
   "name": "python3"
  },
  "language_info": {
   "codemirror_mode": {
    "name": "ipython",
    "version": 3
   },
   "file_extension": ".py",
   "mimetype": "text/x-python",
   "name": "python",
   "nbconvert_exporter": "python",
   "pygments_lexer": "ipython3",
   "version": "3.9.5"
  }
 },
 "nbformat": 4,
 "nbformat_minor": 5
}
