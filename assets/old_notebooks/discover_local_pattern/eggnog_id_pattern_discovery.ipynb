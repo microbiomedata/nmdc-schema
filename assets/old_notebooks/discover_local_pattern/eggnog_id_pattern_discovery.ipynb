{
 "cells": [
  {
   "cell_type": "code",
   "execution_count": 1,
   "id": "3223e7f9",
   "metadata": {},
   "outputs": [],
   "source": [
    "import pandas as pd\n",
    "from tdda import rexpy\n",
    "\n",
    "eggnog_all_members_unique_ids_file = '/Users/MAM/Downloads/all.members.unique.ogids.txt'"
   ]
  },
  {
   "cell_type": "code",
   "execution_count": 2,
   "id": "8aa8bf18",
   "metadata": {},
   "outputs": [],
   "source": [
    "eggnog_all_members_unique_ids = pd.read_csv(eggnog_all_members_unique_ids_file, header=None)"
   ]
  },
  {
   "cell_type": "code",
   "execution_count": 3,
   "id": "96cfc0a1",
   "metadata": {},
   "outputs": [],
   "source": [
    "# eggnog_all_members_unique_ids"
   ]
  },
  {
   "cell_type": "code",
   "execution_count": 4,
   "id": "4ff5dcea",
   "metadata": {},
   "outputs": [],
   "source": [
    "id_list = list(eggnog_all_members_unique_ids[0])"
   ]
  },
  {
   "cell_type": "code",
   "execution_count": null,
   "id": "0e0e7935",
   "metadata": {},
   "outputs": [],
   "source": [
    "id_pattern = rexpy.extract(id_list)"
   ]
  },
  {
   "cell_type": "code",
   "execution_count": null,
   "id": "893376eb",
   "metadata": {},
   "outputs": [],
   "source": [
    "id_pattern"
   ]
  },
  {
   "cell_type": "markdown",
   "id": "e976dd1f",
   "metadata": {},
   "source": [
    "`['^[A-Za-z0-9]+$']`\n",
    "\n",
    "not helpful"
   ]
  },
  {
   "cell_type": "code",
   "execution_count": 8,
   "id": "ba4062bb",
   "metadata": {},
   "outputs": [],
   "source": [
    "split_list = [i.split('OG') for i in id_list] "
   ]
  },
  {
   "cell_type": "code",
   "execution_count": 9,
   "id": "a1d4f97f",
   "metadata": {},
   "outputs": [
    {
     "data": {
      "text/plain": [
       "[['C', '0001'],\n",
       " ['C', '0002'],\n",
       " ['C', '0003'],\n",
       " ['C', '0004'],\n",
       " ['C', '0005'],\n",
       " ['C', '0006'],\n",
       " ['C', '0007'],\n",
       " ['C', '0008'],\n",
       " ['C', '0009']]"
      ]
     },
     "execution_count": 9,
     "metadata": {},
     "output_type": "execute_result"
    }
   ],
   "source": [
    "split_list[0:9]"
   ]
  },
  {
   "cell_type": "code",
   "execution_count": 10,
   "id": "ebabb19f",
   "metadata": {},
   "outputs": [],
   "source": [
    "split_frame = pd.DataFrame(split_list)"
   ]
  },
  {
   "cell_type": "code",
   "execution_count": 11,
   "id": "48dd3e37",
   "metadata": {},
   "outputs": [
    {
     "data": {
      "text/html": [
       "<div>\n",
       "<style scoped>\n",
       "    .dataframe tbody tr th:only-of-type {\n",
       "        vertical-align: middle;\n",
       "    }\n",
       "\n",
       "    .dataframe tbody tr th {\n",
       "        vertical-align: top;\n",
       "    }\n",
       "\n",
       "    .dataframe thead th {\n",
       "        text-align: right;\n",
       "    }\n",
       "</style>\n",
       "<table border=\"1\" class=\"dataframe\">\n",
       "  <thead>\n",
       "    <tr style=\"text-align: right;\">\n",
       "      <th></th>\n",
       "      <th>0</th>\n",
       "      <th>1</th>\n",
       "    </tr>\n",
       "  </thead>\n",
       "  <tbody>\n",
       "    <tr>\n",
       "      <th>0</th>\n",
       "      <td>C</td>\n",
       "      <td>0001</td>\n",
       "    </tr>\n",
       "    <tr>\n",
       "      <th>1</th>\n",
       "      <td>C</td>\n",
       "      <td>0002</td>\n",
       "    </tr>\n",
       "    <tr>\n",
       "      <th>2</th>\n",
       "      <td>C</td>\n",
       "      <td>0003</td>\n",
       "    </tr>\n",
       "    <tr>\n",
       "      <th>3</th>\n",
       "      <td>C</td>\n",
       "      <td>0004</td>\n",
       "    </tr>\n",
       "    <tr>\n",
       "      <th>4</th>\n",
       "      <td>C</td>\n",
       "      <td>0005</td>\n",
       "    </tr>\n",
       "    <tr>\n",
       "      <th>...</th>\n",
       "      <td>...</td>\n",
       "      <td>...</td>\n",
       "    </tr>\n",
       "    <tr>\n",
       "      <th>774579</th>\n",
       "      <td>verN</td>\n",
       "      <td>01352</td>\n",
       "    </tr>\n",
       "    <tr>\n",
       "      <th>774580</th>\n",
       "      <td>verN</td>\n",
       "      <td>01353</td>\n",
       "    </tr>\n",
       "    <tr>\n",
       "      <th>774581</th>\n",
       "      <td>verN</td>\n",
       "      <td>01354</td>\n",
       "    </tr>\n",
       "    <tr>\n",
       "      <th>774582</th>\n",
       "      <td>verN</td>\n",
       "      <td>01355</td>\n",
       "    </tr>\n",
       "    <tr>\n",
       "      <th>774583</th>\n",
       "      <td>verN</td>\n",
       "      <td>01356</td>\n",
       "    </tr>\n",
       "  </tbody>\n",
       "</table>\n",
       "<p>774584 rows × 2 columns</p>\n",
       "</div>"
      ],
      "text/plain": [
       "           0      1\n",
       "0          C   0001\n",
       "1          C   0002\n",
       "2          C   0003\n",
       "3          C   0004\n",
       "4          C   0005\n",
       "...      ...    ...\n",
       "774579  verN  01352\n",
       "774580  verN  01353\n",
       "774581  verN  01354\n",
       "774582  verN  01355\n",
       "774583  verN  01356\n",
       "\n",
       "[774584 rows x 2 columns]"
      ]
     },
     "execution_count": 11,
     "metadata": {},
     "output_type": "execute_result"
    }
   ],
   "source": [
    "split_frame"
   ]
  },
  {
   "cell_type": "code",
   "execution_count": 15,
   "id": "f580a7d5",
   "metadata": {},
   "outputs": [],
   "source": [
    "post_OG_id_list = list(split_frame[1])"
   ]
  },
  {
   "cell_type": "code",
   "execution_count": 16,
   "id": "e435b6ce",
   "metadata": {},
   "outputs": [],
   "source": [
    "id_pattern = rexpy.extract(post_OG_id_list)"
   ]
  },
  {
   "cell_type": "code",
   "execution_count": 17,
   "id": "98c35387",
   "metadata": {},
   "outputs": [
    {
     "data": {
      "text/plain": [
       "['^\\\\d{4,6}$']"
      ]
     },
     "execution_count": 17,
     "metadata": {},
     "output_type": "execute_result"
    }
   ],
   "source": [
    "id_pattern"
   ]
  },
  {
   "cell_type": "markdown",
   "id": "8a928a7b",
   "metadata": {},
   "source": [
    "at this point we have something like ...`OG\\\\d{4,6}$`"
   ]
  },
  {
   "cell_type": "code",
   "execution_count": 18,
   "id": "641624cf",
   "metadata": {},
   "outputs": [],
   "source": [
    "pre_OG_id_list = list(split_frame[0])"
   ]
  },
  {
   "cell_type": "code",
   "execution_count": 19,
   "id": "a01dcf3b",
   "metadata": {},
   "outputs": [],
   "source": [
    "id_pattern = rexpy.extract(pre_OG_id_list)"
   ]
  },
  {
   "cell_type": "code",
   "execution_count": 20,
   "id": "af4230f3",
   "metadata": {},
   "outputs": [
    {
     "data": {
      "text/plain": [
       "['^[A-Za-z]+$']"
      ]
     },
     "execution_count": 20,
     "metadata": {},
     "output_type": "execute_result"
    }
   ],
   "source": [
    "id_pattern"
   ]
  },
  {
   "cell_type": "markdown",
   "id": "0919426f",
   "metadata": {},
   "source": [
    "not useful"
   ]
  },
  {
   "cell_type": "code",
   "execution_count": 23,
   "id": "717eca47",
   "metadata": {},
   "outputs": [
    {
     "data": {
      "text/plain": [
       "N        149118\n",
       "bactN     87349\n",
       "proN      48683\n",
       "opiN      39463\n",
       "euN       36416\n",
       "meN       30369\n",
       "biN       28449\n",
       "veN       23316\n",
       "chorN     23235\n",
       "gproN     21151\n",
       "aproN     20425\n",
       "maN       19946\n",
       "spriN     18790\n",
       "prN       18572\n",
       "firmN     18321\n",
       "actN      17805\n",
       "fiN       17305\n",
       "bproN     16390\n",
       "roN       15859\n",
       "nemN      14539\n",
       "fuN       13540\n",
       "dproN     11209\n",
       "inN       10394\n",
       "arC        9270\n",
       "cyaN       9107\n",
       "bctoN      8005\n",
       "eurN       6272\n",
       "C          4873\n",
       "K          4851\n",
       "chloN      4142\n",
       "eproN      3220\n",
       "aciN       3137\n",
       "chlN       3076\n",
       "creN       2746\n",
       "therN      2553\n",
       "arN        2117\n",
       "fusoN      1720\n",
       "dicN       1608\n",
       "deiN       1459\n",
       "spiN       1410\n",
       "verN       1356\n",
       "aquiN      1355\n",
       "chlaN       871\n",
       "tenN        792\n",
       "Name: 0, dtype: int64"
      ]
     },
     "execution_count": 23,
     "metadata": {},
     "output_type": "execute_result"
    }
   ],
   "source": [
    "split_frame[0].value_counts()"
   ]
  },
  {
   "cell_type": "code",
   "execution_count": null,
   "id": "face9833",
   "metadata": {},
   "outputs": [],
   "source": []
  }
 ],
 "metadata": {
  "kernelspec": {
   "display_name": "Python 3",
   "language": "python",
   "name": "python3"
  },
  "language_info": {
   "codemirror_mode": {
    "name": "ipython",
    "version": 3
   },
   "file_extension": ".py",
   "mimetype": "text/x-python",
   "name": "python",
   "nbconvert_exporter": "python",
   "pygments_lexer": "ipython3",
   "version": "3.9.5"
  }
 },
 "nbformat": 4,
 "nbformat_minor": 5
}
