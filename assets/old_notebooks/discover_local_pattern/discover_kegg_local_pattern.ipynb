{
 "cells": [
  {
   "cell_type": "code",
   "execution_count": 1,
   "id": "3584feea",
   "metadata": {},
   "outputs": [],
   "source": [
    "from Bio.KEGG.REST import kegg_list\n",
    "from io import StringIO\n",
    "import pandas as pd\n",
    "from tdda import rexpy"
   ]
  },
  {
   "cell_type": "markdown",
   "id": "b10dce0d",
   "metadata": {},
   "source": [
    "**See also https://bioregistry.io/**\n",
    "\n",
    "https://widdowquinn.github.io/2018-03-06-ibioic/02-sequence_databases/09-KEGG_programming.html"
   ]
  },
  {
   "cell_type": "markdown",
   "id": "cadd289e",
   "metadata": {},
   "source": [
    "## KEGG's brief ID notes\n",
    "https://www.genome.jp/kegg/kegg3.html\n"
   ]
  },
  {
   "cell_type": "code",
   "execution_count": 2,
   "id": "c32b066b",
   "metadata": {},
   "outputs": [],
   "source": [
    "kegg_db = \"path\""
   ]
  },
  {
   "cell_type": "code",
   "execution_count": 3,
   "id": "633044ed",
   "metadata": {},
   "outputs": [],
   "source": [
    "my_sep = \"\\t\"\n",
    "target_dir = \"target\""
   ]
  },
  {
   "cell_type": "code",
   "execution_count": 4,
   "id": "53fd0018",
   "metadata": {},
   "outputs": [],
   "source": [
    "kegg_TextIOWrapper = kegg_list(kegg_db).read()"
   ]
  },
  {
   "cell_type": "code",
   "execution_count": 5,
   "id": "9b5c4a85",
   "metadata": {},
   "outputs": [],
   "source": [
    "kegg = pd.read_csv(StringIO(kegg_TextIOWrapper), sep=my_sep, header=None)"
   ]
  },
  {
   "cell_type": "code",
   "execution_count": 6,
   "id": "fe1437da",
   "metadata": {},
   "outputs": [],
   "source": [
    "# kegg"
   ]
  },
  {
   "cell_type": "code",
   "execution_count": 7,
   "id": "1a71b268",
   "metadata": {},
   "outputs": [],
   "source": [
    "id_list = list(kegg[0])"
   ]
  },
  {
   "cell_type": "code",
   "execution_count": 8,
   "id": "f69a56b2",
   "metadata": {},
   "outputs": [],
   "source": [
    "id_pattern = rexpy.extract(id_list)"
   ]
  },
  {
   "cell_type": "code",
   "execution_count": 9,
   "id": "a01ea608",
   "metadata": {},
   "outputs": [
    {
     "data": {
      "text/plain": [
       "['^path:[a-z]{3}\\\\d{5}$']"
      ]
     },
     "execution_count": 9,
     "metadata": {},
     "output_type": "execute_result"
    }
   ],
   "source": [
    "id_pattern"
   ]
  },
  {
   "cell_type": "markdown",
   "id": "c5beeb67",
   "metadata": {},
   "source": [
    "**Don't the local parts all start with K (not [A-Z]?)**"
   ]
  },
  {
   "cell_type": "code",
   "execution_count": 10,
   "id": "79d57676",
   "metadata": {},
   "outputs": [
    {
     "name": "stdout",
     "output_type": "stream",
     "text": [
      "target/path.tsv\n"
     ]
    }
   ],
   "source": [
    "target_file = target_dir + \"/\" + kegg_db + \".tsv\"\n",
    "print(target_file)"
   ]
  },
  {
   "cell_type": "code",
   "execution_count": 11,
   "id": "248a6efa",
   "metadata": {
    "scrolled": true
   },
   "outputs": [],
   "source": [
    "kegg.to_csv(target_dir + \"/\" + kegg_db + \".tsv\", sep=my_sep, index=False)"
   ]
  },
  {
   "cell_type": "markdown",
   "id": "315b658a",
   "metadata": {},
   "source": [
    "- the nmdc-schema doesn't keep the providers's prefixes?\n",
    "- where do the nmdc-schem prefixes coem form then?\n",
    "- am I using the linkml/mixs regex-like notation properly?\n",
    "\n",
    "----\n",
    "\n",
    "- ko: `ko:K\\\\d{5}`\n",
    "    - `KEGG.ORTHOLOGY`\n",
    "- path: `path:map\\\\d{5}`\n"
   ]
  },
  {
   "cell_type": "markdown",
   "id": "5a954b02",
   "metadata": {},
   "source": [
    "----"
   ]
  },
  {
   "cell_type": "code",
   "execution_count": null,
   "id": "b208d083",
   "metadata": {},
   "outputs": [],
   "source": []
  }
 ],
 "metadata": {
  "kernelspec": {
   "display_name": "Python 3",
   "language": "python",
   "name": "python3"
  },
  "language_info": {
   "codemirror_mode": {
    "name": "ipython",
    "version": 3
   },
   "file_extension": ".py",
   "mimetype": "text/x-python",
   "name": "python",
   "nbconvert_exporter": "python",
   "pygments_lexer": "ipython3",
   "version": "3.9.5"
  }
 },
 "nbformat": 4,
 "nbformat_minor": 5
}
