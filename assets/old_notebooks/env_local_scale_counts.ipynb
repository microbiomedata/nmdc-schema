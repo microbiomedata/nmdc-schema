{
 "cells": [
  {
   "cell_type": "code",
   "execution_count": 44,
   "metadata": {
    "collapsed": true,
    "ExecuteTime": {
     "end_time": "2023-06-06T16:46:53.039722Z",
     "start_time": "2023-06-06T16:46:53.034434Z"
    }
   },
   "outputs": [],
   "source": [
    "import os\n",
    "import pprint\n",
    "\n",
    "import csv\n",
    "\n",
    "# # import pandas as pd\n",
    "from dotenv import load_dotenv\n",
    "# from linkml_runtime import SchemaView\n",
    "# from linkml_runtime.linkml_model.meta import ClassDefinition\n",
    "from pymongo import MongoClient\n",
    "\n",
    "import sqlite3"
   ]
  },
  {
   "cell_type": "markdown",
   "source": [
    "get a semsql database of envo DONE\n",
    "\n",
    "mixs environmental triad slots require a term.id in curie notation (no underscores)\n",
    "\n"
   ],
   "metadata": {
    "collapsed": false
   }
  },
  {
   "cell_type": "code",
   "execution_count": 45,
   "outputs": [],
   "source": [
    "mongo_db_name = \"nmdc\"\n",
    "output_file = '../local/env_local_scale_counts.tsv'\n",
    "dot_env_file = \"../local/.env\""
   ],
   "metadata": {
    "collapsed": false,
    "ExecuteTime": {
     "end_time": "2023-06-06T16:46:54.830832Z",
     "start_time": "2023-06-06T16:46:54.825530Z"
    }
   }
  },
  {
   "cell_type": "code",
   "execution_count": 46,
   "outputs": [],
   "source": [
    "def save_list_of_dicts_to_tsv(data, filename):\n",
    "    # Extract the keys from the first dictionary in the list\n",
    "    keys = data[0].keys()\n",
    "\n",
    "    # Open the file in write mode with 'newline' parameter set to ''\n",
    "    with open(filename, 'w', newline='') as tsvfile:\n",
    "        writer = csv.DictWriter(tsvfile, fieldnames=keys, delimiter='\\t')\n",
    "\n",
    "        # Write the header\n",
    "        writer.writeheader()\n",
    "\n",
    "        # Write the rows\n",
    "        writer.writerows(data)"
   ],
   "metadata": {
    "collapsed": false,
    "ExecuteTime": {
     "end_time": "2023-06-06T16:46:55.663262Z",
     "start_time": "2023-06-06T16:46:55.658075Z"
    }
   }
  },
  {
   "cell_type": "code",
   "execution_count": 47,
   "outputs": [
    {
     "data": {
      "text/plain": "True"
     },
     "execution_count": 47,
     "metadata": {},
     "output_type": "execute_result"
    }
   ],
   "source": [
    "load_dotenv(dot_env_file)"
   ],
   "metadata": {
    "collapsed": false,
    "ExecuteTime": {
     "end_time": "2023-06-06T16:46:56.522806Z",
     "start_time": "2023-06-06T16:46:56.514441Z"
    }
   }
  },
  {
   "cell_type": "code",
   "execution_count": 48,
   "outputs": [
    {
     "name": "stdout",
     "output_type": "stream",
     "text": [
      "mam\n"
     ]
    }
   ],
   "source": [
    "mongo_pw = os.getenv('SOURCE_MONGO_PASS')\n",
    "# print(mongo_pw)\n",
    "mongo_user = os.getenv('SOURCE_MONGO_USER')\n",
    "print(mongo_user)"
   ],
   "metadata": {
    "collapsed": false,
    "ExecuteTime": {
     "end_time": "2023-06-06T16:46:57.806151Z",
     "start_time": "2023-06-06T16:46:57.799982Z"
    }
   }
  },
  {
   "cell_type": "code",
   "execution_count": 49,
   "outputs": [],
   "source": [
    "client = MongoClient(\"localhost\",\n",
    "                     port=27777,\n",
    "                     username=mongo_user,\n",
    "                     password=mongo_pw,\n",
    "                     authSource=\"admin\",\n",
    "                     authMechanism='SCRAM-SHA-256',  # todo should be an option\n",
    "                     directConnection=True\n",
    "                     )"
   ],
   "metadata": {
    "collapsed": false,
    "ExecuteTime": {
     "end_time": "2023-06-06T16:46:58.801802Z",
     "start_time": "2023-06-06T16:46:58.794720Z"
    }
   }
  },
  {
   "cell_type": "code",
   "execution_count": 50,
   "outputs": [],
   "source": [
    "db = client[mongo_db_name]"
   ],
   "metadata": {
    "collapsed": false,
    "ExecuteTime": {
     "end_time": "2023-06-06T16:46:59.604332Z",
     "start_time": "2023-06-06T16:46:59.597915Z"
    }
   }
  },
  {
   "cell_type": "code",
   "execution_count": 51,
   "outputs": [
    {
     "name": "stdout",
     "output_type": "stream",
     "text": [
      "[{'count': 385, 'env_local_scale': 'ENVO:00002131'},\n",
      " {'count': 327, 'env_local_scale': 'ENVO:00000022'},\n",
      " {'count': 199, 'env_local_scale': 'ENVO:01001057'},\n",
      " {'count': 133, 'env_local_scale': 'ENVO:01001785'},\n",
      " {'count': 125, 'env_local_scale': 'ENVO_00000022'},\n",
      " {'count': 118, 'env_local_scale': 'ENVO:00005801'},\n",
      " {'count': 117, 'env_local_scale': 'ENVO:00000086'},\n",
      " {'count': 113, 'env_local_scale': 'ENVO:00000011'},\n",
      " {'count': 105, 'env_local_scale': 'ENVO:01001803'},\n",
      " {'count': 95, 'env_local_scale': 'UBERON:0001555'},\n",
      " {'count': 93, 'env_local_scale': 'ENVO:00000021'},\n",
      " {'count': 83, 'env_local_scale': 'ENVO:00000044'},\n",
      " {'count': 69, 'env_local_scale': 'ENVO:00000182'},\n",
      " {'count': 60, 'env_local_scale': 'biosphere reserve [ENVO:00000376]'},\n",
      " {'count': 53, 'env_local_scale': 'ENVO:00000292'},\n",
      " {'count': 38, 'env_local_scale': 'ENVO:00000444'},\n",
      " {'count': 34, 'env_local_scale': 'ENVO:00000260'},\n",
      " {'count': 33, 'env_local_scale': 'ENVO:00000384'},\n",
      " {'count': 31, 'env_local_scale': 'ENVO:00000114'},\n",
      " {'count': 21, 'env_local_scale': 'ENVO:00000363'},\n",
      " {'count': 21, 'env_local_scale': 'ENVO:00000082'},\n",
      " {'count': 20, 'env_local_scale': 'ENVO:00000376'},\n",
      " {'count': 20, 'env_local_scale': 'ENVO:00002000'},\n",
      " {'count': 18, 'env_local_scale': 'ENVO:01000355'},\n",
      " {'count': 17, 'env_local_scale': 'ENVO:01000621'},\n",
      " {'count': 17, 'env_local_scale': 'ENVO:01000941'},\n",
      " {'count': 17, 'env_local_scale': 'ENVO:00005784'},\n",
      " {'count': 15, 'env_local_scale': 'ENVO:00000080'},\n",
      " {'count': 15, 'env_local_scale': 'ENVO:00000469'},\n",
      " {'count': 15, 'env_local_scale': 'ENVO:00000020'},\n",
      " {'count': 15, 'env_local_scale': 'ENVO:00000101'},\n",
      " {'count': 13, 'env_local_scale': 'ENVO:01000174'},\n",
      " {'count': 12, 'env_local_scale': 'ENVO:00000112'},\n",
      " {'count': 12, 'env_local_scale': 'ENVO:00000100'},\n",
      " {'count': 10, 'env_local_scale': 'PO:0025025'},\n",
      " {'count': 10, 'env_local_scale': 'ENVO:00000291'},\n",
      " {'count': 10, 'env_local_scale': 'ENVO:00000078'},\n",
      " {'count': 10, 'env_local_scale': 'ENVO:00002204'},\n",
      " {'count': 8, 'env_local_scale': 'ENVO:00000083'},\n",
      " {'count': 6, 'env_local_scale': 'ENVO:00000120'},\n",
      " {'count': 6, 'env_local_scale': 'ENVO:01000185'},\n",
      " {'count': 6, 'env_local_scale': 'ENVO:01001357'},\n",
      " {'count': 4, 'env_local_scale': 'ENVO:00000119'},\n",
      " {'count': 4, 'env_local_scale': 'ENVO:00000094'},\n",
      " {'count': 4, 'env_local_scale': 'ENVO:00002130'},\n",
      " {'count': 3, 'env_local_scale': 'ENVO:00000161'},\n",
      " {'count': 3, 'env_local_scale': 'ENVO:01000892'},\n",
      " {'count': 3, 'env_local_scale': 'ENVO:01000247'},\n",
      " {'count': 3, 'env_local_scale': 'ENVO:00003919'},\n",
      " {'count': 3, 'env_local_scale': 'ENVO:01000211'},\n",
      " {'count': 3, 'env_local_scale': 'ENVO:00002132'},\n",
      " {'count': 2, 'env_local_scale': 'ENVO:00000305'},\n",
      " {'count': 2, 'env_local_scale': 'ENVO:01001209'},\n",
      " {'count': 2, 'env_local_scale': 'ENVO:01000221'},\n",
      " {'count': 2, 'env_local_scale': 'ENVO:02500027'},\n",
      " {'count': 2, 'env_local_scale': 'ENVO:01000687'},\n",
      " {'count': 2, 'env_local_scale': 'ENVO:00000081'},\n",
      " {'count': 2, 'env_local_scale': 'ENVO:00000128'},\n",
      " {'count': 1, 'env_local_scale': 'ENVO:00003074'},\n",
      " {'count': 1, 'env_local_scale': 'ENVO:01000215'},\n",
      " {'count': 1, 'env_local_scale': 'ENVO:00000548'},\n",
      " {'count': 1, 'env_local_scale': 'ENVO:01000855'},\n",
      " {'count': 1, 'env_local_scale': 'ENVO:00000170'}]\n"
     ]
    }
   ],
   "source": [
    "collection = db['biosample_set']\n",
    "\n",
    "# Query the collection to get the count of each unique env_local_scale value\n",
    "pipeline = [\n",
    "    {\"$group\": {\"_id\": \"$env_local_scale.term.id\", \"count\": {\"$sum\": 1}}},\n",
    "    {\"$sort\": {\"count\": -1}}\n",
    "]\n",
    "\n",
    "results = collection.aggregate(pipeline)\n",
    "\n",
    "# Print the results\n",
    "lod = []\n",
    "for result in results:\n",
    "    # print(result['_id'], result['count'])\n",
    "    temp = {\n",
    "        'env_local_scale': result['_id'],\n",
    "        'count': result['count']\n",
    "    }\n",
    "    lod.append(temp)\n",
    "\n",
    "pprint.pprint(lod)\n",
    "\n"
   ],
   "metadata": {
    "collapsed": false,
    "ExecuteTime": {
     "end_time": "2023-06-06T16:47:00.783841Z",
     "start_time": "2023-06-06T16:47:00.360305Z"
    }
   }
  },
  {
   "cell_type": "code",
   "execution_count": 52,
   "outputs": [],
   "source": [],
   "metadata": {
    "collapsed": false,
    "ExecuteTime": {
     "end_time": "2023-06-06T16:47:03.994909Z",
     "start_time": "2023-06-06T16:47:03.989278Z"
    }
   }
  },
  {
   "cell_type": "code",
   "execution_count": 53,
   "outputs": [],
   "source": [
    "# Connect to the SQLite database file\n",
    "conn = sqlite3.connect('../local/envo.db')"
   ],
   "metadata": {
    "collapsed": false,
    "ExecuteTime": {
     "end_time": "2023-06-06T16:47:06.096530Z",
     "start_time": "2023-06-06T16:47:06.090096Z"
    }
   }
  },
  {
   "cell_type": "code",
   "execution_count": 54,
   "outputs": [],
   "source": [
    "# Create a cursor object to execute SQL queries\n",
    "cursor = conn.cursor()"
   ],
   "metadata": {
    "collapsed": false,
    "ExecuteTime": {
     "end_time": "2023-06-06T16:47:06.746090Z",
     "start_time": "2023-06-06T16:47:06.740182Z"
    }
   }
  },
  {
   "cell_type": "code",
   "execution_count": 55,
   "outputs": [
    {
     "data": {
      "text/plain": "<sqlite3.Cursor at 0x1089e8a40>"
     },
     "execution_count": 55,
     "metadata": {},
     "output_type": "execute_result"
    }
   ],
   "source": [
    "# Write your SQL query\n",
    "query = '''\n",
    "select\n",
    "\tDISTINCT\n",
    "\tsubject ,\n",
    "\tvalue\n",
    "from\n",
    "\tstatements s\n",
    "where\n",
    "\tpredicate = \"rdfs:label\"\n",
    "'''\n",
    "\n",
    "# Execute the query\n",
    "cursor.execute(query)"
   ],
   "metadata": {
    "collapsed": false,
    "ExecuteTime": {
     "end_time": "2023-06-06T16:47:07.532025Z",
     "start_time": "2023-06-06T16:47:07.526607Z"
    }
   }
  },
  {
   "cell_type": "code",
   "execution_count": 56,
   "outputs": [],
   "source": [
    "# Fetch all the rows returned by the query\n",
    "rows = cursor.fetchall()"
   ],
   "metadata": {
    "collapsed": false,
    "ExecuteTime": {
     "end_time": "2023-06-06T16:47:11.167562Z",
     "start_time": "2023-06-06T16:47:11.069414Z"
    }
   }
  },
  {
   "cell_type": "code",
   "execution_count": 57,
   "outputs": [],
   "source": [
    "term_to_label = {}\n",
    "# Process the rows\n",
    "for row in rows:\n",
    "    # # Access the values in each row\n",
    "    term = row[0]\n",
    "    value = row[1]\n",
    "    term_to_label[term] = value\n"
   ],
   "metadata": {
    "collapsed": false,
    "ExecuteTime": {
     "end_time": "2023-06-06T16:47:12.408125Z",
     "start_time": "2023-06-06T16:47:12.402955Z"
    }
   }
  },
  {
   "cell_type": "code",
   "execution_count": 62,
   "outputs": [
    {
     "name": "stdout",
     "output_type": "stream",
     "text": [
      "{'count': 385, 'env_local_scale': 'ENVO:00002131'}\n",
      "{'count': 385, 'env_local_scale': 'ENVO:00002131'}\n",
      "'epilimnion'\n",
      "{'count': 327, 'env_local_scale': 'ENVO:00000022'}\n",
      "{'count': 327, 'env_local_scale': 'ENVO:00000022'}\n",
      "'river'\n",
      "{'count': 199, 'env_local_scale': 'ENVO:01001057'}\n",
      "{'count': 199, 'env_local_scale': 'ENVO:01001057'}\n",
      "'environment associated with a plant part or small plant'\n",
      "{'count': 133, 'env_local_scale': 'ENVO:01001785'}\n",
      "{'count': 133, 'env_local_scale': 'ENVO:01001785'}\n",
      "'land'\n",
      "{'count': 125, 'env_local_scale': 'ENVO_00000022'}\n",
      "{'count': 118, 'env_local_scale': 'ENVO:00005801'}\n",
      "{'count': 118, 'env_local_scale': 'ENVO:00005801'}\n",
      "'rhizosphere'\n",
      "{'count': 117, 'env_local_scale': 'ENVO:00000086'}\n",
      "{'count': 117, 'env_local_scale': 'ENVO:00000086'}\n",
      "'plain'\n",
      "{'count': 113, 'env_local_scale': 'ENVO:00000011'}\n",
      "{'count': 113, 'env_local_scale': 'ENVO:00000011'}\n",
      "'garden'\n",
      "{'count': 105, 'env_local_scale': 'ENVO:01001803'}\n",
      "{'count': 105, 'env_local_scale': 'ENVO:01001803'}\n",
      "'tropical forest'\n",
      "{'count': 95, 'env_local_scale': 'UBERON:0001555'}\n",
      "{'count': 95, 'env_local_scale': 'UBERON:0001555'}\n",
      "'digestive tract'\n",
      "{'count': 93, 'env_local_scale': 'ENVO:00000021'}\n",
      "{'count': 93, 'env_local_scale': 'ENVO:00000021'}\n",
      "'freshwater lake'\n",
      "{'count': 83, 'env_local_scale': 'ENVO:00000044'}\n",
      "{'count': 83, 'env_local_scale': 'ENVO:00000044'}\n",
      "'peatland'\n",
      "{'count': 69, 'env_local_scale': 'ENVO:00000182'}\n",
      "{'count': 69, 'env_local_scale': 'ENVO:00000182'}\n",
      "'plateau'\n",
      "{'count': 60, 'env_local_scale': 'biosphere reserve [ENVO:00000376]'}\n",
      "{'count': 53, 'env_local_scale': 'ENVO:00000292'}\n",
      "{'count': 53, 'env_local_scale': 'ENVO:00000292'}\n",
      "'watershed'\n",
      "{'count': 38, 'env_local_scale': 'ENVO:00000444'}\n",
      "{'count': 38, 'env_local_scale': 'ENVO:00000444'}\n",
      "'woodland clearing'\n",
      "{'count': 34, 'env_local_scale': 'ENVO:00000260'}\n",
      "{'count': 34, 'env_local_scale': 'ENVO:00000260'}\n",
      "'prairie'\n",
      "{'count': 33, 'env_local_scale': 'ENVO:00000384'}\n",
      "{'count': 33, 'env_local_scale': 'ENVO:00000384'}\n",
      "'river bed'\n",
      "{'count': 31, 'env_local_scale': 'ENVO:00000114'}\n",
      "{'count': 31, 'env_local_scale': 'ENVO:00000114'}\n",
      "'agricultural field'\n",
      "{'count': 21, 'env_local_scale': 'ENVO:00000363'}\n",
      "{'count': 21, 'env_local_scale': 'ENVO:00000363'}\n",
      "'area designated as a nature reserve'\n",
      "{'count': 21, 'env_local_scale': 'ENVO:00000082'}\n",
      "{'count': 21, 'env_local_scale': 'ENVO:00000082'}\n",
      "'hill range'\n",
      "{'count': 20, 'env_local_scale': 'ENVO:00000376'}\n",
      "{'count': 20, 'env_local_scale': 'ENVO:00000376'}\n",
      "'biosphere reserve'\n",
      "{'count': 20, 'env_local_scale': 'ENVO:00002000'}\n",
      "{'count': 20, 'env_local_scale': 'ENVO:00002000'}\n",
      "'slope'\n",
      "{'count': 18, 'env_local_scale': 'ENVO:01000355'}\n",
      "{'count': 18, 'env_local_scale': 'ENVO:01000355'}\n",
      "'vegetation layer'\n",
      "{'count': 17, 'env_local_scale': 'ENVO:01000621'}\n",
      "{'count': 17, 'env_local_scale': 'ENVO:01000621'}\n",
      "'microcosm'\n",
      "{'count': 17, 'env_local_scale': 'ENVO:01000941'}\n",
      "{'count': 17, 'env_local_scale': 'ENVO:01000941'}\n",
      "'planetary subsurface zone'\n",
      "{'count': 17, 'env_local_scale': 'ENVO:00005784'}\n",
      "{'count': 17, 'env_local_scale': 'ENVO:00005784'}\n",
      "'spruce forest soil'\n",
      "{'count': 15, 'env_local_scale': 'ENVO:00000080'}\n",
      "{'count': 15, 'env_local_scale': 'ENVO:00000080'}\n",
      "'mountain range'\n",
      "{'count': 15, 'env_local_scale': 'ENVO:00000469'}\n",
      "{'count': 15, 'env_local_scale': 'ENVO:00000469'}\n",
      "'research facility'\n",
      "{'count': 15, 'env_local_scale': 'ENVO:00000020'}\n",
      "{'count': 15, 'env_local_scale': 'ENVO:00000020'}\n",
      "'lake'\n",
      "{'count': 15, 'env_local_scale': 'ENVO:00000101'}\n",
      "{'count': 15, 'env_local_scale': 'ENVO:00000101'}\n",
      "'delta'\n",
      "{'count': 13, 'env_local_scale': 'ENVO:01000174'}\n",
      "{'count': 13, 'env_local_scale': 'ENVO:01000174'}\n",
      "'forest biome'\n",
      "{'count': 12, 'env_local_scale': 'ENVO:00000112'}\n",
      "{'count': 12, 'env_local_scale': 'ENVO:00000112'}\n",
      "'area of tundra'\n",
      "{'count': 12, 'env_local_scale': 'ENVO:00000100'}\n",
      "{'count': 12, 'env_local_scale': 'ENVO:00000100'}\n",
      "'valley'\n",
      "{'count': 10, 'env_local_scale': 'PO:0025025'}\n",
      "{'count': 10, 'env_local_scale': 'PO:0025025'}\n",
      "'root system'\n",
      "{'count': 10, 'env_local_scale': 'ENVO:00000291'}\n",
      "{'count': 10, 'env_local_scale': 'ENVO:00000291'}\n",
      "'drainage basin'\n",
      "{'count': 10, 'env_local_scale': 'ENVO:00000078'}\n",
      "{'count': 10, 'env_local_scale': 'ENVO:00000078'}\n",
      "'farm'\n",
      "{'count': 10, 'env_local_scale': 'ENVO:00002204'}\n",
      "{'count': 10, 'env_local_scale': 'ENVO:00002204'}\n",
      "'anthropogenic contamination feature'\n",
      "{'count': 8, 'env_local_scale': 'ENVO:00000083'}\n",
      "{'count': 8, 'env_local_scale': 'ENVO:00000083'}\n",
      "'hill'\n",
      "{'count': 6, 'env_local_scale': 'ENVO:00000120'}\n",
      "{'count': 6, 'env_local_scale': 'ENVO:00000120'}\n",
      "'oil palm plantation'\n",
      "{'count': 6, 'env_local_scale': 'ENVO:01000185'}\n",
      "{'count': 6, 'env_local_scale': 'ENVO:01000185'}\n",
      "'montane desert biome'\n",
      "{'count': 6, 'env_local_scale': 'ENVO:01001357'}\n",
      "{'count': 6, 'env_local_scale': 'ENVO:01001357'}\n",
      "'desert'\n",
      "{'count': 4, 'env_local_scale': 'ENVO:00000119'}\n",
      "{'count': 4, 'env_local_scale': 'ENVO:00000119'}\n",
      "'planted forest'\n",
      "{'count': 4, 'env_local_scale': 'ENVO:00000094'}\n",
      "{'count': 4, 'env_local_scale': 'ENVO:00000094'}\n",
      "'volcanic feature'\n",
      "{'count': 4, 'env_local_scale': 'ENVO:00002130'}\n",
      "{'count': 4, 'env_local_scale': 'ENVO:00002130'}\n",
      "'hypolimnion'\n",
      "{'count': 3, 'env_local_scale': 'ENVO:00000161'}\n",
      "{'count': 3, 'env_local_scale': 'ENVO:00000161'}\n",
      "'banana plantation'\n",
      "{'count': 3, 'env_local_scale': 'ENVO:01000892'}\n",
      "{'count': 3, 'env_local_scale': 'ENVO:01000892'}\n",
      "'area of cropland'\n",
      "{'count': 3, 'env_local_scale': 'ENVO:01000247'}\n",
      "{'count': 3, 'env_local_scale': 'ENVO:01000247'}\n",
      "'rangeland biome'\n",
      "{'count': 3, 'env_local_scale': 'ENVO:00003919'}\n",
      "{'count': 3, 'env_local_scale': 'ENVO:00003919'}\n",
      "'research station'\n",
      "{'count': 3, 'env_local_scale': 'ENVO:01000211'}\n",
      "{'count': 3, 'env_local_scale': 'ENVO:01000211'}\n",
      "'temperate coniferous forest biome'\n",
      "{'count': 3, 'env_local_scale': 'ENVO:00002132'}\n",
      "{'count': 3, 'env_local_scale': 'ENVO:00002132'}\n",
      "'metalimnion'\n",
      "{'count': 2, 'env_local_scale': 'ENVO:00000305'}\n",
      "{'count': 2, 'env_local_scale': 'ENVO:00000305'}\n",
      "'peninsula'\n",
      "{'count': 2, 'env_local_scale': 'ENVO:01001209'}\n",
      "{'count': 2, 'env_local_scale': 'ENVO:01001209'}\n",
      "'wetland ecosystem'\n",
      "{'count': 2, 'env_local_scale': 'ENVO:01000221'}\n",
      "{'count': 2, 'env_local_scale': 'ENVO:01000221'}\n",
      "'temperate woodland biome'\n",
      "{'count': 2, 'env_local_scale': 'ENVO:02500027'}\n",
      "{'count': 2, 'env_local_scale': 'ENVO:02500027'}\n",
      "'anthropogenic environmental process'\n",
      "{'count': 2, 'env_local_scale': 'ENVO:01000687'}\n",
      "{'count': 2, 'env_local_scale': 'ENVO:01000687'}\n",
      "'coast'\n",
      "{'count': 2, 'env_local_scale': 'ENVO:00000081'}\n",
      "{'count': 2, 'env_local_scale': 'ENVO:00000081'}\n",
      "'mountain'\n",
      "{'count': 2, 'env_local_scale': 'ENVO:00000128'}\n",
      "{'count': 2, 'env_local_scale': 'ENVO:00000128'}\n",
      "'dry valley'\n",
      "{'count': 1, 'env_local_scale': 'ENVO:00003074'}\n",
      "{'count': 1, 'env_local_scale': 'ENVO:00003074'}\n",
      "'manufactured product'\n",
      "{'count': 1, 'env_local_scale': 'ENVO:01000215'}\n",
      "{'count': 1, 'env_local_scale': 'ENVO:01000215'}\n",
      "'temperate shrubland biome'\n",
      "{'count': 1, 'env_local_scale': 'ENVO:00000548'}\n",
      "{'count': 1, 'env_local_scale': 'ENVO:00000548'}\n",
      "'gravel field'\n",
      "{'count': 1, 'env_local_scale': 'ENVO:01000855'}\n",
      "{'count': 1, 'env_local_scale': 'ENVO:01000855'}\n",
      "'area of mixed forest'\n",
      "{'count': 1, 'env_local_scale': 'ENVO:00000170'}\n",
      "{'count': 1, 'env_local_scale': 'ENVO:00000170'}\n",
      "'dune'\n"
     ]
    }
   ],
   "source": [
    "for els_dict in lod:\n",
    "    pprint.pprint(els_dict)\n",
    "    if els_dict['env_local_scale'] in term_to_label:\n",
    "        pprint.pprint(els_dict)\n",
    "        pprint.pprint(term_to_label[els_dict['env_local_scale']])\n",
    "        if term_to_label[els_dict['env_local_scale']] is not None:\n",
    "            els_dict['label'] = term_to_label[els_dict['env_local_scale']]\n",
    "\n"
   ],
   "metadata": {
    "collapsed": false,
    "ExecuteTime": {
     "end_time": "2023-06-06T16:48:52.058656Z",
     "start_time": "2023-06-06T16:48:52.055031Z"
    }
   }
  },
  {
   "cell_type": "code",
   "execution_count": 63,
   "outputs": [
    {
     "name": "stdout",
     "output_type": "stream",
     "text": [
      "[{'count': 385, 'env_local_scale': 'ENVO:00002131', 'label': 'epilimnion'},\n",
      " {'count': 327, 'env_local_scale': 'ENVO:00000022', 'label': 'river'},\n",
      " {'count': 199,\n",
      "  'env_local_scale': 'ENVO:01001057',\n",
      "  'label': 'environment associated with a plant part or small plant'},\n",
      " {'count': 133, 'env_local_scale': 'ENVO:01001785', 'label': 'land'},\n",
      " {'count': 125, 'env_local_scale': 'ENVO_00000022'},\n",
      " {'count': 118, 'env_local_scale': 'ENVO:00005801', 'label': 'rhizosphere'},\n",
      " {'count': 117, 'env_local_scale': 'ENVO:00000086', 'label': 'plain'},\n",
      " {'count': 113, 'env_local_scale': 'ENVO:00000011', 'label': 'garden'},\n",
      " {'count': 105, 'env_local_scale': 'ENVO:01001803', 'label': 'tropical forest'},\n",
      " {'count': 95, 'env_local_scale': 'UBERON:0001555', 'label': 'digestive tract'},\n",
      " {'count': 93, 'env_local_scale': 'ENVO:00000021', 'label': 'freshwater lake'},\n",
      " {'count': 83, 'env_local_scale': 'ENVO:00000044', 'label': 'peatland'},\n",
      " {'count': 69, 'env_local_scale': 'ENVO:00000182', 'label': 'plateau'},\n",
      " {'count': 60, 'env_local_scale': 'biosphere reserve [ENVO:00000376]'},\n",
      " {'count': 53, 'env_local_scale': 'ENVO:00000292', 'label': 'watershed'},\n",
      " {'count': 38,\n",
      "  'env_local_scale': 'ENVO:00000444',\n",
      "  'label': 'woodland clearing'},\n",
      " {'count': 34, 'env_local_scale': 'ENVO:00000260', 'label': 'prairie'},\n",
      " {'count': 33, 'env_local_scale': 'ENVO:00000384', 'label': 'river bed'},\n",
      " {'count': 31,\n",
      "  'env_local_scale': 'ENVO:00000114',\n",
      "  'label': 'agricultural field'},\n",
      " {'count': 21,\n",
      "  'env_local_scale': 'ENVO:00000363',\n",
      "  'label': 'area designated as a nature reserve'},\n",
      " {'count': 21, 'env_local_scale': 'ENVO:00000082', 'label': 'hill range'},\n",
      " {'count': 20,\n",
      "  'env_local_scale': 'ENVO:00000376',\n",
      "  'label': 'biosphere reserve'},\n",
      " {'count': 20, 'env_local_scale': 'ENVO:00002000', 'label': 'slope'},\n",
      " {'count': 18, 'env_local_scale': 'ENVO:01000355', 'label': 'vegetation layer'},\n",
      " {'count': 17, 'env_local_scale': 'ENVO:01000621', 'label': 'microcosm'},\n",
      " {'count': 17,\n",
      "  'env_local_scale': 'ENVO:01000941',\n",
      "  'label': 'planetary subsurface zone'},\n",
      " {'count': 17,\n",
      "  'env_local_scale': 'ENVO:00005784',\n",
      "  'label': 'spruce forest soil'},\n",
      " {'count': 15, 'env_local_scale': 'ENVO:00000080', 'label': 'mountain range'},\n",
      " {'count': 15,\n",
      "  'env_local_scale': 'ENVO:00000469',\n",
      "  'label': 'research facility'},\n",
      " {'count': 15, 'env_local_scale': 'ENVO:00000020', 'label': 'lake'},\n",
      " {'count': 15, 'env_local_scale': 'ENVO:00000101', 'label': 'delta'},\n",
      " {'count': 13, 'env_local_scale': 'ENVO:01000174', 'label': 'forest biome'},\n",
      " {'count': 12, 'env_local_scale': 'ENVO:00000112', 'label': 'area of tundra'},\n",
      " {'count': 12, 'env_local_scale': 'ENVO:00000100', 'label': 'valley'},\n",
      " {'count': 10, 'env_local_scale': 'PO:0025025', 'label': 'root system'},\n",
      " {'count': 10, 'env_local_scale': 'ENVO:00000291', 'label': 'drainage basin'},\n",
      " {'count': 10, 'env_local_scale': 'ENVO:00000078', 'label': 'farm'},\n",
      " {'count': 10,\n",
      "  'env_local_scale': 'ENVO:00002204',\n",
      "  'label': 'anthropogenic contamination feature'},\n",
      " {'count': 8, 'env_local_scale': 'ENVO:00000083', 'label': 'hill'},\n",
      " {'count': 6,\n",
      "  'env_local_scale': 'ENVO:00000120',\n",
      "  'label': 'oil palm plantation'},\n",
      " {'count': 6,\n",
      "  'env_local_scale': 'ENVO:01000185',\n",
      "  'label': 'montane desert biome'},\n",
      " {'count': 6, 'env_local_scale': 'ENVO:01001357', 'label': 'desert'},\n",
      " {'count': 4, 'env_local_scale': 'ENVO:00000119', 'label': 'planted forest'},\n",
      " {'count': 4, 'env_local_scale': 'ENVO:00000094', 'label': 'volcanic feature'},\n",
      " {'count': 4, 'env_local_scale': 'ENVO:00002130', 'label': 'hypolimnion'},\n",
      " {'count': 3, 'env_local_scale': 'ENVO:00000161', 'label': 'banana plantation'},\n",
      " {'count': 3, 'env_local_scale': 'ENVO:01000892', 'label': 'area of cropland'},\n",
      " {'count': 3, 'env_local_scale': 'ENVO:01000247', 'label': 'rangeland biome'},\n",
      " {'count': 3, 'env_local_scale': 'ENVO:00003919', 'label': 'research station'},\n",
      " {'count': 3,\n",
      "  'env_local_scale': 'ENVO:01000211',\n",
      "  'label': 'temperate coniferous forest biome'},\n",
      " {'count': 3, 'env_local_scale': 'ENVO:00002132', 'label': 'metalimnion'},\n",
      " {'count': 2, 'env_local_scale': 'ENVO:00000305', 'label': 'peninsula'},\n",
      " {'count': 2, 'env_local_scale': 'ENVO:01001209', 'label': 'wetland ecosystem'},\n",
      " {'count': 2,\n",
      "  'env_local_scale': 'ENVO:01000221',\n",
      "  'label': 'temperate woodland biome'},\n",
      " {'count': 2,\n",
      "  'env_local_scale': 'ENVO:02500027',\n",
      "  'label': 'anthropogenic environmental process'},\n",
      " {'count': 2, 'env_local_scale': 'ENVO:01000687', 'label': 'coast'},\n",
      " {'count': 2, 'env_local_scale': 'ENVO:00000081', 'label': 'mountain'},\n",
      " {'count': 2, 'env_local_scale': 'ENVO:00000128', 'label': 'dry valley'},\n",
      " {'count': 1,\n",
      "  'env_local_scale': 'ENVO:00003074',\n",
      "  'label': 'manufactured product'},\n",
      " {'count': 1,\n",
      "  'env_local_scale': 'ENVO:01000215',\n",
      "  'label': 'temperate shrubland biome'},\n",
      " {'count': 1, 'env_local_scale': 'ENVO:00000548', 'label': 'gravel field'},\n",
      " {'count': 1,\n",
      "  'env_local_scale': 'ENVO:01000855',\n",
      "  'label': 'area of mixed forest'},\n",
      " {'count': 1, 'env_local_scale': 'ENVO:00000170', 'label': 'dune'}]\n"
     ]
    }
   ],
   "source": [
    "pprint.pprint(lod)"
   ],
   "metadata": {
    "collapsed": false,
    "ExecuteTime": {
     "end_time": "2023-06-06T16:48:53.667862Z",
     "start_time": "2023-06-06T16:48:53.664049Z"
    }
   }
  },
  {
   "cell_type": "code",
   "execution_count": 64,
   "outputs": [],
   "source": [
    "save_list_of_dicts_to_tsv(lod, output_file)"
   ],
   "metadata": {
    "collapsed": false,
    "ExecuteTime": {
     "end_time": "2023-06-06T16:49:49.715431Z",
     "start_time": "2023-06-06T16:49:49.710777Z"
    }
   }
  },
  {
   "cell_type": "code",
   "execution_count": null,
   "outputs": [],
   "source": [
    "# Close the cursor and the connection\n",
    "cursor.close()\n",
    "conn.close()"
   ],
   "metadata": {
    "collapsed": false
   }
  },
  {
   "cell_type": "code",
   "execution_count": null,
   "outputs": [],
   "source": [
    "# Close the MongoDB connection\n",
    "client.close()"
   ],
   "metadata": {
    "collapsed": false
   }
  }
 ],
 "metadata": {
  "kernelspec": {
   "display_name": "Python 3",
   "language": "python",
   "name": "python3"
  },
  "language_info": {
   "codemirror_mode": {
    "name": "ipython",
    "version": 2
   },
   "file_extension": ".py",
   "mimetype": "text/x-python",
   "name": "python",
   "nbconvert_exporter": "python",
   "pygments_lexer": "ipython2",
   "version": "2.7.6"
  }
 },
 "nbformat": 4,
 "nbformat_minor": 0
}
