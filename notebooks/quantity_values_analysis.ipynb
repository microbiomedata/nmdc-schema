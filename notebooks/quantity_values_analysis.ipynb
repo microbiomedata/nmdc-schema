{
 "cells": [
  {
   "metadata": {},
   "cell_type": "markdown",
   "source": [
    "2025-06-30: made RDF version of NMDC data with 11.7 schema and added MCO prefix expansion\n",
    "did non-native URL converion of schema to RDF"
   ],
   "id": "fbe43f55ed257b18"
  },
  {
   "metadata": {
    "ExecuteTime": {
     "end_time": "2025-06-30T20:12:06.259627Z",
     "start_time": "2025-06-30T20:12:03.825430Z"
    }
   },
   "cell_type": "code",
   "source": [
    "import requests\n",
    "import pandas as pd\n",
    "from SPARQLWrapper import SPARQLWrapper, JSON, POST, GET\n",
    "from quantulum3 import parser"
   ],
   "id": "737cc36edfd9cf6f",
   "outputs": [],
   "execution_count": 1
  },
  {
   "metadata": {
    "ExecuteTime": {
     "end_time": "2025-06-30T20:12:06.342578Z",
     "start_time": "2025-06-30T20:12:06.340092Z"
    }
   },
   "cell_type": "code",
   "source": [
    "GRAPHDB_URL = \"http://localhost:7200\"\n",
    "REPOSITORY_ID = \"nmdc\"  # Replace with your repository name"
   ],
   "id": "4529c1ae89178c11",
   "outputs": [],
   "execution_count": 2
  },
  {
   "metadata": {
    "ExecuteTime": {
     "end_time": "2025-06-30T20:12:06.360289Z",
     "start_time": "2025-06-30T20:12:06.357875Z"
    }
   },
   "cell_type": "code",
   "source": "SPARQL_ENDPOINT = f\"{GRAPHDB_URL}/repositories/{REPOSITORY_ID}\"",
   "id": "d2de7f428cedd781",
   "outputs": [],
   "execution_count": 3
  },
  {
   "metadata": {
    "ExecuteTime": {
     "end_time": "2025-06-30T20:12:06.373777Z",
     "start_time": "2025-06-30T20:12:06.370292Z"
    }
   },
   "cell_type": "code",
   "source": [
    "def test_connection():\n",
    "    try:\n",
    "        response = requests.get(f\"{GRAPHDB_URL}/rest/repositories\")\n",
    "        if response.status_code == 200:\n",
    "            print(\"✅ Successfully connected to GraphDB\")\n",
    "            repos = response.json()\n",
    "            print(f\"Available repositories: {[repo['id'] for repo in repos]}\")\n",
    "            return True\n",
    "        else:\n",
    "            print(f\"❌ Connection failed with status code: {response.status_code}\")\n",
    "            return False\n",
    "    except Exception as e:\n",
    "        print(f\"❌ Connection error: {e}\")\n",
    "        return False"
   ],
   "id": "ebc3a8dd191e7813",
   "outputs": [],
   "execution_count": 4
  },
  {
   "metadata": {
    "ExecuteTime": {
     "end_time": "2025-06-30T20:12:06.890562Z",
     "start_time": "2025-06-30T20:12:06.394639Z"
    }
   },
   "cell_type": "code",
   "source": "test_connection()",
   "id": "ac1ecc12187ba3ef",
   "outputs": [
    {
     "name": "stdout",
     "output_type": "stream",
     "text": [
      "✅ Successfully connected to GraphDB\n",
      "Available repositories: ['kg_microbe', 'metpo_n4l_etc_automated', 'biolink', 'nmdc']\n"
     ]
    },
    {
     "data": {
      "text/plain": [
       "True"
      ]
     },
     "execution_count": 5,
     "metadata": {},
     "output_type": "execute_result"
    }
   ],
   "execution_count": 5
  },
  {
   "metadata": {
    "ExecuteTime": {
     "end_time": "2025-06-30T20:12:06.916976Z",
     "start_time": "2025-06-30T20:12:06.912969Z"
    }
   },
   "cell_type": "code",
   "source": [
    "def run_sparql_query(query, return_format='json'):\n",
    "    \"\"\"\n",
    "    Execute a SPARQL query against GraphDB\n",
    "\n",
    "    Args:\n",
    "        query (str): SPARQL query string\n",
    "        return_format (str): 'json', 'dataframe', or 'raw'\n",
    "\n",
    "    Returns:\n",
    "        Query results in specified format\n",
    "    \"\"\"\n",
    "    try:\n",
    "        sparql = SPARQLWrapper(SPARQL_ENDPOINT)\n",
    "        sparql.setQuery(query)\n",
    "        sparql.setReturnFormat(JSON)\n",
    "\n",
    "        results = sparql.query().convert()\n",
    "\n",
    "        if return_format == 'json':\n",
    "            return results\n",
    "        elif return_format == 'dataframe':\n",
    "            return sparql_to_dataframe(results)\n",
    "        elif return_format == 'raw':\n",
    "            return results\n",
    "        else:\n",
    "            return results\n",
    "\n",
    "    except Exception as e:\n",
    "        print(f\"Error executing query: {e}\")\n",
    "        return None"
   ],
   "id": "f5e04e5faf525f6",
   "outputs": [],
   "execution_count": 6
  },
  {
   "metadata": {
    "ExecuteTime": {
     "end_time": "2025-06-30T20:12:06.973158Z",
     "start_time": "2025-06-30T20:12:06.968208Z"
    }
   },
   "cell_type": "code",
   "source": [
    "def sparql_to_dataframe(results, round_digits=3):\n",
    "    \"\"\"\n",
    "    Convert SPARQL results to pandas DataFrame with numerical rounding\n",
    "\n",
    "    Args:\n",
    "        results: SPARQL query results\n",
    "        round_digits: Number of decimal places to round to (default: 3)\n",
    "    \"\"\"\n",
    "    if 'results' in results and 'bindings' in results['results']:\n",
    "        bindings = results['results']['bindings']\n",
    "        if bindings:\n",
    "            # Get all unique variables\n",
    "            variables = set()\n",
    "            for binding in bindings:\n",
    "                variables.update(binding.keys())\n",
    "\n",
    "            # Create DataFrame\n",
    "            data = []\n",
    "            for binding in bindings:\n",
    "                row = {}\n",
    "                for var in variables:\n",
    "                    if var in binding:\n",
    "                        value = binding[var]['value']\n",
    "                        # Try to convert numerical strings and round them\n",
    "                        if binding[var].get('datatype') == 'http://www.w3.org/2001/XMLSchema#decimal' or \\\n",
    "                           binding[var].get('datatype') == 'http://www.w3.org/2001/XMLSchema#double' or \\\n",
    "                           binding[var].get('datatype') == 'http://www.w3.org/2001/XMLSchema#float':\n",
    "                            try:\n",
    "                                value = round(float(value), round_digits)\n",
    "                            except ValueError:\n",
    "                                pass\n",
    "                        row[var] = value\n",
    "                    else:\n",
    "                        row[var] = None\n",
    "                data.append(row)\n",
    "\n",
    "            return pd.DataFrame(data)\n",
    "\n",
    "    return pd.DataFrame()"
   ],
   "id": "10586dd16c9f667d",
   "outputs": [],
   "execution_count": 7
  },
  {
   "metadata": {
    "ExecuteTime": {
     "end_time": "2025-06-30T20:12:07.011032Z",
     "start_time": "2025-06-30T20:12:07.008385Z"
    }
   },
   "cell_type": "code",
   "source": [
    "qv_query = \"\"\"\n",
    "PREFIX rdfs: <http://www.w3.org/2000/01/rdf-schema#>\n",
    "PREFIX nmdc: <https://w3id.org/nmdc/>\n",
    "select *\n",
    "where\n",
    "{\n",
    "    ?s a ?st ;\n",
    "    ?p ?o .\n",
    "    ?o a nmdc:QuantityValue .\n",
    "    optional {\n",
    "        ?p rdfs:label ?pl\n",
    "    }\n",
    "    optional {\n",
    "        ?o nmdc:has_raw_value ?raw_value\n",
    "    }\n",
    "    optional {\n",
    "        ?o nmdc:has_maximum_numeric_value ?maximum_numeric_value\n",
    "    }\n",
    "    optional {\n",
    "        ?o nmdc:has_minimum_numeric_value ?minimum_numeric_value\n",
    "    }\n",
    "    optional {\n",
    "        ?o nmdc:has_numeric_value ?numeric_value\n",
    "    }\n",
    "    optional {\n",
    "        ?o nmdc:has_unit ?has_unit\n",
    "    }\n",
    "}\n",
    "\"\"\"\n"
   ],
   "id": "9c7565857ccb6844",
   "outputs": [],
   "execution_count": 8
  },
  {
   "metadata": {
    "ExecuteTime": {
     "end_time": "2025-06-30T20:12:22.310023Z",
     "start_time": "2025-06-30T20:12:07.045035Z"
    }
   },
   "cell_type": "code",
   "source": "result = run_sparql_query(qv_query, 'dataframe')\n",
   "id": "e58f733b4a871f79",
   "outputs": [],
   "execution_count": 9
  },
  {
   "metadata": {
    "ExecuteTime": {
     "end_time": "2025-06-30T20:12:22.340293Z",
     "start_time": "2025-06-30T20:12:22.335733Z"
    }
   },
   "cell_type": "code",
   "source": "result[\"unit_from_raw\"] = pd.NA",
   "id": "24cf7e8da5abd323",
   "outputs": [],
   "execution_count": 10
  },
  {
   "metadata": {
    "ExecuteTime": {
     "end_time": "2025-06-30T20:12:32.436924Z",
     "start_time": "2025-06-30T20:12:22.364400Z"
    }
   },
   "cell_type": "code",
   "source": [
    "# Parse each raw_value with quantulum3\n",
    "for idx, row in result.iterrows():\n",
    "    if pd.notna(row.get('raw_value')):\n",
    "        try:\n",
    "            # Extract quantities from the raw_value string\n",
    "            quants = parser.parse(str(row['raw_value']))\n",
    "            ql = len(quants)\n",
    "            if ql != 1:\n",
    "                # print(f\"Don't know how to handle {ql} quantities in row {idx}\")\n",
    "                result.at[idx, \"unit_from_raw\"] = f\"multiple({ql})\"\n",
    "            else:\n",
    "                # print(quants[0].unit.name)\n",
    "                result.at[idx, \"unit_from_raw\"] = quants[0].unit.name\n",
    "        except Exception as e:\n",
    "            print(f\"Row {idx}: Error parsing raw_value '{row['raw_value']}': {e}\")\n",
    "            result.at[idx, \"unit_from_raw\"] = f\"error: {str(e)[:50]}\""
   ],
   "id": "d987e0fd8b56698e",
   "outputs": [],
   "execution_count": 11
  },
  {
   "metadata": {
    "ExecuteTime": {
     "end_time": "2025-06-30T20:13:32.077574Z",
     "start_time": "2025-06-30T20:13:31.844712Z"
    }
   },
   "cell_type": "code",
   "source": "result.to_csv(\"quantity_values_raw.tsv\", index=False, sep=\"\\t\")",
   "id": "db3b04a7dbdcde74",
   "outputs": [],
   "execution_count": 15
  },
  {
   "metadata": {
    "ExecuteTime": {
     "end_time": "2025-06-30T20:12:32.476269Z",
     "start_time": "2025-06-30T20:12:32.450601Z"
    }
   },
   "cell_type": "code",
   "source": [
    "# Create a summary DataFrame counting each unique combination\n",
    "summary_df = result.groupby(['st', 'pl', 'has_unit', 'unit_from_raw'], dropna=False).size().reset_index(name='count')"
   ],
   "id": "525b9675888f7d1a",
   "outputs": [],
   "execution_count": 12
  },
  {
   "metadata": {
    "ExecuteTime": {
     "end_time": "2025-06-30T20:12:32.493697Z",
     "start_time": "2025-06-30T20:12:32.490580Z"
    }
   },
   "cell_type": "code",
   "source": [
    "# Sort by count in descending order\n",
    "summary_df = summary_df.sort_values('count', ascending=False)"
   ],
   "id": "558b1b149732448",
   "outputs": [],
   "execution_count": 13
  },
  {
   "metadata": {
    "ExecuteTime": {
     "end_time": "2025-06-30T20:12:32.529802Z",
     "start_time": "2025-06-30T20:12:32.516544Z"
    }
   },
   "cell_type": "code",
   "source": [
    "# Display the results\n",
    "summary_df"
   ],
   "id": "ecf5d0520f4da2f4",
   "outputs": [
    {
     "data": {
      "text/plain": [
       "                                                   st                   pl  \\\n",
       "15                    https://w3id.org/nmdc/Biosample                depth   \n",
       "60                    https://w3id.org/nmdc/Biosample                 temp   \n",
       "51                    https://w3id.org/nmdc/Biosample      samp_store_temp   \n",
       "17                    https://w3id.org/nmdc/Biosample                depth   \n",
       "75                   https://w3id.org/nmdc/Extraction           input_mass   \n",
       "..                                                ...                  ...   \n",
       "43                    https://w3id.org/nmdc/Biosample             salinity   \n",
       "45                    https://w3id.org/nmdc/Biosample             salinity   \n",
       "78           https://w3id.org/nmdc/PortionOfSubstance  final_concentration   \n",
       "55                    https://w3id.org/nmdc/Biosample     subsurface_depth   \n",
       "73  https://w3id.org/nmdc/ChromatographyConfiguration          temperature   \n",
       "\n",
       "   has_unit    unit_from_raw  count  \n",
       "15        m              NaN   5436  \n",
       "60  Celsius              NaN   4333  \n",
       "51  Celsius   degree Celsius   3823  \n",
       "17      NaN    dimensionless   3708  \n",
       "75        g              NaN   1676  \n",
       "..      ...              ...    ...  \n",
       "43      NaN  milligram litre      2  \n",
       "45      NaN       percentage      2  \n",
       "78       mM              NaN      2  \n",
       "55    meter    dimensionless      1  \n",
       "73      Cel              NaN      1  \n",
       "\n",
       "[81 rows x 5 columns]"
      ],
      "text/html": [
       "<div>\n",
       "<style scoped>\n",
       "    .dataframe tbody tr th:only-of-type {\n",
       "        vertical-align: middle;\n",
       "    }\n",
       "\n",
       "    .dataframe tbody tr th {\n",
       "        vertical-align: top;\n",
       "    }\n",
       "\n",
       "    .dataframe thead th {\n",
       "        text-align: right;\n",
       "    }\n",
       "</style>\n",
       "<table border=\"1\" class=\"dataframe\">\n",
       "  <thead>\n",
       "    <tr style=\"text-align: right;\">\n",
       "      <th></th>\n",
       "      <th>st</th>\n",
       "      <th>pl</th>\n",
       "      <th>has_unit</th>\n",
       "      <th>unit_from_raw</th>\n",
       "      <th>count</th>\n",
       "    </tr>\n",
       "  </thead>\n",
       "  <tbody>\n",
       "    <tr>\n",
       "      <th>15</th>\n",
       "      <td>https://w3id.org/nmdc/Biosample</td>\n",
       "      <td>depth</td>\n",
       "      <td>m</td>\n",
       "      <td>NaN</td>\n",
       "      <td>5436</td>\n",
       "    </tr>\n",
       "    <tr>\n",
       "      <th>60</th>\n",
       "      <td>https://w3id.org/nmdc/Biosample</td>\n",
       "      <td>temp</td>\n",
       "      <td>Celsius</td>\n",
       "      <td>NaN</td>\n",
       "      <td>4333</td>\n",
       "    </tr>\n",
       "    <tr>\n",
       "      <th>51</th>\n",
       "      <td>https://w3id.org/nmdc/Biosample</td>\n",
       "      <td>samp_store_temp</td>\n",
       "      <td>Celsius</td>\n",
       "      <td>degree Celsius</td>\n",
       "      <td>3823</td>\n",
       "    </tr>\n",
       "    <tr>\n",
       "      <th>17</th>\n",
       "      <td>https://w3id.org/nmdc/Biosample</td>\n",
       "      <td>depth</td>\n",
       "      <td>NaN</td>\n",
       "      <td>dimensionless</td>\n",
       "      <td>3708</td>\n",
       "    </tr>\n",
       "    <tr>\n",
       "      <th>75</th>\n",
       "      <td>https://w3id.org/nmdc/Extraction</td>\n",
       "      <td>input_mass</td>\n",
       "      <td>g</td>\n",
       "      <td>NaN</td>\n",
       "      <td>1676</td>\n",
       "    </tr>\n",
       "    <tr>\n",
       "      <th>...</th>\n",
       "      <td>...</td>\n",
       "      <td>...</td>\n",
       "      <td>...</td>\n",
       "      <td>...</td>\n",
       "      <td>...</td>\n",
       "    </tr>\n",
       "    <tr>\n",
       "      <th>43</th>\n",
       "      <td>https://w3id.org/nmdc/Biosample</td>\n",
       "      <td>salinity</td>\n",
       "      <td>NaN</td>\n",
       "      <td>milligram litre</td>\n",
       "      <td>2</td>\n",
       "    </tr>\n",
       "    <tr>\n",
       "      <th>45</th>\n",
       "      <td>https://w3id.org/nmdc/Biosample</td>\n",
       "      <td>salinity</td>\n",
       "      <td>NaN</td>\n",
       "      <td>percentage</td>\n",
       "      <td>2</td>\n",
       "    </tr>\n",
       "    <tr>\n",
       "      <th>78</th>\n",
       "      <td>https://w3id.org/nmdc/PortionOfSubstance</td>\n",
       "      <td>final_concentration</td>\n",
       "      <td>mM</td>\n",
       "      <td>NaN</td>\n",
       "      <td>2</td>\n",
       "    </tr>\n",
       "    <tr>\n",
       "      <th>55</th>\n",
       "      <td>https://w3id.org/nmdc/Biosample</td>\n",
       "      <td>subsurface_depth</td>\n",
       "      <td>meter</td>\n",
       "      <td>dimensionless</td>\n",
       "      <td>1</td>\n",
       "    </tr>\n",
       "    <tr>\n",
       "      <th>73</th>\n",
       "      <td>https://w3id.org/nmdc/ChromatographyConfiguration</td>\n",
       "      <td>temperature</td>\n",
       "      <td>Cel</td>\n",
       "      <td>NaN</td>\n",
       "      <td>1</td>\n",
       "    </tr>\n",
       "  </tbody>\n",
       "</table>\n",
       "<p>81 rows × 5 columns</p>\n",
       "</div>"
      ]
     },
     "execution_count": 14,
     "metadata": {},
     "output_type": "execute_result"
    }
   ],
   "execution_count": 14
  },
  {
   "metadata": {
    "ExecuteTime": {
     "end_time": "2025-06-30T20:13:37.371763Z",
     "start_time": "2025-06-30T20:13:37.367479Z"
    }
   },
   "cell_type": "code",
   "source": "summary_df.to_csv(\"quantity_values_summary.tsv\", index=False, sep=\"\\t\")",
   "id": "34b599c68048c63c",
   "outputs": [],
   "execution_count": 16
  },
  {
   "metadata": {},
   "cell_type": "code",
   "outputs": [],
   "execution_count": null,
   "source": "",
   "id": "6145c7ec22876c4f"
  }
 ],
 "metadata": {
  "kernelspec": {
   "display_name": "Python 3",
   "language": "python",
   "name": "python3"
  },
  "language_info": {
   "codemirror_mode": {
    "name": "ipython",
    "version": 2
   },
   "file_extension": ".py",
   "mimetype": "text/x-python",
   "name": "python",
   "nbconvert_exporter": "python",
   "pygments_lexer": "ipython2",
   "version": "2.7.6"
  }
 },
 "nbformat": 4,
 "nbformat_minor": 5
}
