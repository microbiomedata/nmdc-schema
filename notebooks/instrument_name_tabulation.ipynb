{
 "cells": [
  {
   "cell_type": "code",
   "execution_count": 27,
   "metadata": {
    "collapsed": true,
    "ExecuteTime": {
     "end_time": "2023-06-12T15:48:15.980547Z",
     "start_time": "2023-06-12T15:48:15.975519Z"
    }
   },
   "outputs": [],
   "source": [
    "import yaml\n",
    "import pprint\n",
    "from collections import Counter\n",
    "import csv"
   ]
  },
  {
   "cell_type": "code",
   "execution_count": 19,
   "outputs": [],
   "source": [
    "# read local/selected_mongodb_contents_omixs_processing-set.yaml into a dict\n",
    "with open('../local/selected_mongodb_contents_omixs_processing-set.yaml') as f:\n",
    "    selected_mongodb_contents_omixs_processing_set = yaml.safe_load(f)"
   ],
   "metadata": {
    "collapsed": false,
    "ExecuteTime": {
     "end_time": "2023-06-12T15:42:50.033857Z",
     "start_time": "2023-06-12T15:42:39.783840Z"
    }
   }
  },
  {
   "cell_type": "code",
   "execution_count": 20,
   "outputs": [],
   "source": [
    "instrument_names = []\n",
    "for op in selected_mongodb_contents_omixs_processing_set['omics_processing_set']:\n",
    "    if \"instrument_name\" in op:\n",
    "        instrument_names.append(op['instrument_name'])"
   ],
   "metadata": {
    "collapsed": false,
    "ExecuteTime": {
     "end_time": "2023-06-12T15:42:50.130402Z",
     "start_time": "2023-06-12T15:42:49.565070Z"
    }
   }
  },
  {
   "cell_type": "code",
   "execution_count": 21,
   "outputs": [],
   "source": [
    "# count the number of appearances of each unique values in instrument_names\n",
    "instrument_names_counter = Counter(instrument_names)"
   ],
   "metadata": {
    "collapsed": false,
    "ExecuteTime": {
     "end_time": "2023-06-12T15:42:50.149011Z",
     "start_time": "2023-06-12T15:42:49.574641Z"
    }
   }
  },
  {
   "cell_type": "code",
   "execution_count": 28,
   "outputs": [],
   "source": [
    "dict_list = [{'element': key, 'count': value} for key, value in instrument_names_counter.items()]\n"
   ],
   "metadata": {
    "collapsed": false,
    "ExecuteTime": {
     "end_time": "2023-06-12T15:48:25.201805Z",
     "start_time": "2023-06-12T15:48:25.197593Z"
    }
   }
  },
  {
   "cell_type": "code",
   "execution_count": 29,
   "outputs": [],
   "source": [
    "# Define the field names\n",
    "field_names = list(dict_list[0].keys())\n",
    "\n",
    "# Specify the TSV file path\n",
    "tsv_file = 'output.tsv'\n",
    "\n",
    "# Open the TSV file in write mode\n",
    "with open(tsv_file, 'w', newline='', encoding='utf-8') as file:\n",
    "\n",
    "    # Create the CSV writer with tab delimiter\n",
    "    writer = csv.DictWriter(file, fieldnames=field_names, delimiter='\\t')\n",
    "\n",
    "    # Write the header\n",
    "    writer.writeheader()\n",
    "\n",
    "    # Write the dictionary rows\n",
    "    writer.writerows(dict_list)"
   ],
   "metadata": {
    "collapsed": false,
    "ExecuteTime": {
     "end_time": "2023-06-12T15:48:26.398742Z",
     "start_time": "2023-06-12T15:48:26.386468Z"
    }
   }
  },
  {
   "cell_type": "code",
   "execution_count": null,
   "outputs": [],
   "source": [],
   "metadata": {
    "collapsed": false
   }
  }
 ],
 "metadata": {
  "kernelspec": {
   "display_name": "Python 3",
   "language": "python",
   "name": "python3"
  },
  "language_info": {
   "codemirror_mode": {
    "name": "ipython",
    "version": 2
   },
   "file_extension": ".py",
   "mimetype": "text/x-python",
   "name": "python",
   "nbconvert_exporter": "python",
   "pygments_lexer": "ipython2",
   "version": "2.7.6"
  }
 },
 "nbformat": 4,
 "nbformat_minor": 0
}
