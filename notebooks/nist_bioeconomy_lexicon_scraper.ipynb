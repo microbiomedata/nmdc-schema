{
 "cells": [
  {
   "attachments": {},
   "cell_type": "markdown",
   "metadata": {},
   "source": [
    "# NIST Bioeconomy Lexicon Scraper\n",
    "\n",
    "You can use this notebook to scrape the terms and definitions from the [NIST Bioeconomy Lexicon](https://www.nist.gov/bioscience/nist-bioeconomy-lexicon), display them, and save to TSV."
   ]
  },
  {
   "cell_type": "code",
   "execution_count": 10,
   "metadata": {
    "ExecuteTime": {
     "end_time": "2023-06-09T01:52:54.593164Z",
     "start_time": "2023-06-09T01:52:54.583939Z"
    }
   },
   "outputs": [],
   "source": [
    "import csv\n",
    "\n",
    "import requests\n",
    "from bs4 import BeautifulSoup\n",
    "from tabulate import tabulate"
   ]
  },
  {
   "cell_type": "code",
   "execution_count": 11,
   "outputs": [],
   "source": [
    "# URL of the NIST Bioeconomy Lexicon web page:\n",
    "URL = \"https://www.nist.gov/bioscience/nist-bioeconomy-lexicon\"\n",
    "\n",
    "table_headers = (\"nist_bioeconomy_term\", \"definition\")\n",
    "\n",
    "output_tsv_file = \"../local/nist_bioeconomy_terms.tsv\""
   ],
   "metadata": {
    "collapsed": false,
    "ExecuteTime": {
     "end_time": "2023-06-09T01:52:55.359513Z",
     "start_time": "2023-06-09T01:52:55.352520Z"
    }
   }
  },
  {
   "attachments": {},
   "cell_type": "markdown",
   "metadata": {},
   "source": [
    "Get the HTML code of the web page at that URL."
   ]
  },
  {
   "cell_type": "code",
   "execution_count": 12,
   "metadata": {
    "ExecuteTime": {
     "end_time": "2023-06-09T01:52:57.024347Z",
     "start_time": "2023-06-09T01:52:56.850307Z"
    }
   },
   "outputs": [],
   "source": [
    "response: requests.Response = requests.get(URL)\n",
    "html: str = response.text"
   ]
  },
  {
   "attachments": {},
   "cell_type": "markdown",
   "metadata": {},
   "source": [
    "Parse the HTML code into a [Beautiful Soup](https://www.crummy.com/software/BeautifulSoup/bs4/doc/#bs4.BeautifulSoup) object, so we can explore it using Beautiful Soup."
   ]
  },
  {
   "cell_type": "code",
   "execution_count": 13,
   "metadata": {
    "ExecuteTime": {
     "end_time": "2023-06-09T01:52:58.373627Z",
     "start_time": "2023-06-09T01:52:58.361189Z"
    }
   },
   "outputs": [],
   "source": [
    "soup = BeautifulSoup(html, \"html.parser\")"
   ]
  },
  {
   "attachments": {},
   "cell_type": "markdown",
   "metadata": {},
   "source": [
    "Use Beautiful Soup to extract the terms and their definitions from the object."
   ]
  },
  {
   "cell_type": "code",
   "execution_count": 14,
   "metadata": {
    "ExecuteTime": {
     "end_time": "2023-06-09T01:53:00.066473Z",
     "start_time": "2023-06-09T01:53:00.057827Z"
    }
   },
   "outputs": [],
   "source": [
    "definitions = dict()\n",
    "\n",
    "glossaryEl = soup.find(id=\"glossary\")\n",
    "entryEls = glossaryEl.find_all(class_=\"usa-accordion\")\n",
    "for el in entryEls:\n",
    "    term: str = el.find(class_=\"usa-accordion__heading\").text.strip()\n",
    "    definition: str = el.find(class_=\"usa-accordion__content\").text.strip()\n",
    "    definitions[term] = definition"
   ]
  },
  {
   "attachments": {},
   "cell_type": "markdown",
   "metadata": {},
   "source": [
    "(Optional) Display the terms and definitions as a text-based grid."
   ]
  },
  {
   "cell_type": "code",
   "execution_count": 15,
   "metadata": {
    "ExecuteTime": {
     "end_time": "2023-06-09T01:53:01.682777Z",
     "start_time": "2023-06-09T01:53:01.609700Z"
    }
   },
   "outputs": [
    {
     "name": "stdout",
     "output_type": "stream",
     "text": [
      "+--------------------------------+------------------------------------------------------------------------+\n",
      "| nist_bioeconomy_term           | definition                                                             |\n",
      "+================================+========================================================================+\n",
      "| alternative protein source     | food technology-based alternatives (including field-grown or facility- |\n",
      "|                                | produced) to protein harvested or obtained directly from animals       |\n",
      "|                                | Version date: December 8, 2022  Direct link                            |\n",
      "+--------------------------------+------------------------------------------------------------------------+\n",
      "| bio-related software           | all or part of software used to design, control, manufacture,          |\n",
      "|                                | simulate, model, manage, access, analyze, store, or process biological |\n",
      "|                                | materials and associated data, especially as it pertains to laboratory |\n",
      "|                                | equipment, instrumentation, data management, and bioinformatics        |\n",
      "|                                | Version date: December 8, 2022  Direct link                            |\n",
      "+--------------------------------+------------------------------------------------------------------------+\n",
      "| biobased polymer               | synonym that may be used interchangeably with bioplastic Version date: |\n",
      "|                                | December 8, 2022  Direct link                                          |\n",
      "+--------------------------------+------------------------------------------------------------------------+\n",
      "| biobased product               | a product determined by the Secretary of Agriculture to be a           |\n",
      "|                                | commercial or industrial product (other than food or feed) that is (A) |\n",
      "|                                | composed, in whole or in significant part, of biological products,     |\n",
      "|                                | including renewable domestic agricultural materials and forestry       |\n",
      "|                                | materials, or (B) an intermediate ingredient or feedstock;  see also   |\n",
      "|                                | \"bioproduct\" Scope Note: The use of “biological product” within this   |\n",
      "|                                | definition generally refers to biomass and is outside the scope of its |\n",
      "|                                | use referring to medical products regulated by the U.S. Food and Drug  |\n",
      "|                                | Administration (FDA) in 21 C.F.R. § 600.3(h) and by the U.S.           |\n",
      "|                                | Department of Agriculture (USDA) in 9 C.F.R. § 101.2. The separate     |\n",
      "|                                | FDA and USDA regulatory definitions of “biological product” do not     |\n",
      "|                                | affect the definition of “biobased product” herein and as defined in 7 |\n",
      "|                                | U.S.C. § 8101(4). See also “biological product (human medical use)”    |\n",
      "|                                | and “biological product (veterinary medical use)” in this lexicon for  |\n",
      "|                                | further information. Version date: December 8, 2022  Direct link       |\n",
      "+--------------------------------+------------------------------------------------------------------------+\n",
      "| biocatalyst                    | a biomolecule, such as an enzyme, that increases the rate of a         |\n",
      "|                                | chemical reaction Version date: December 8, 2022  Direct link          |\n",
      "+--------------------------------+------------------------------------------------------------------------+\n",
      "| bioconversion                  | a process using organisms, cells, or cellular components to transform  |\n",
      "|                                | a starting material Version date: December 8, 2022  Direct link        |\n",
      "+--------------------------------+------------------------------------------------------------------------+\n",
      "| biodegradation                 | a process by which organisms, cells, or cellular components break down |\n",
      "|                                | an organic material Version date: December 8, 2022  Direct link        |\n",
      "+--------------------------------+------------------------------------------------------------------------+\n",
      "| bioeconomy                     | economic activity derived from the life sciences, particularly in the  |\n",
      "|                                | areas of biotechnology and biomanufacturing, including industries,     |\n",
      "|                                | products, services, and the workforce Version date: December 8, 2022   |\n",
      "|                                | Direct link                                                            |\n",
      "+--------------------------------+------------------------------------------------------------------------+\n",
      "| bioenergy                      | energy derived in whole or in significant part from biomass Version    |\n",
      "|                                | date: December 8, 2022  Direct link                                    |\n",
      "+--------------------------------+------------------------------------------------------------------------+\n",
      "| bioengineered food             | certain food produced with biotechnology and subject to labeling under |\n",
      "|                                | the National Bioengineered Food Disclosure Standard. As noted therein, |\n",
      "|                                | a food is bioengineered if it contains detectable genetic material     |\n",
      "|                                | that has been modified through in vitro recombinant DNA techniques,    |\n",
      "|                                | and for which the modification could not otherwise be obtained through |\n",
      "|                                | conventional breeding or found in nature. Scope note: For more         |\n",
      "|                                | specific information, see U.S. Department of Agriculture (USDA)        |\n",
      "|                                | regulations within 7 C.F.R. 66.1 Version date: December 8, 2022        |\n",
      "|                                | Direct link                                                            |\n",
      "+--------------------------------+------------------------------------------------------------------------+\n",
      "| bioengineering                 | the application of engineering principles and practices (including     |\n",
      "|                                | from chemical, mechanical, and electrical engineering disciplines) to  |\n",
      "|                                | the life sciences; see also \"biological engineering\" Version date:     |\n",
      "|                                | December 8, 2022  Direct link                                          |\n",
      "+--------------------------------+------------------------------------------------------------------------+\n",
      "| bioethics                      | the study of ethical, social, and/or legal issues that arise in the    |\n",
      "|                                | life sciences and biotechnology Scope note: The field of bioethics is  |\n",
      "|                                | evolving, with some entities additionally including aspects of         |\n",
      "|                                | \"enviromental\" and/or \"economic\" issues within scope. If use of these  |\n",
      "|                                | additional issues becomes more commonplace, the definition will be     |\n",
      "|                                | updated Version date: December 8, 2022  Direct link                    |\n",
      "+--------------------------------+------------------------------------------------------------------------+\n",
      "| biofuel                        | solid, liquid, or gaseous fuel produced from biomass or through        |\n",
      "|                                | biomanufacturing Scope note: 1) This definition does not supersede the |\n",
      "|                                | biofuel regulations by the U.S. Environmental Protection Agency (EPA)  |\n",
      "|                                | under the Renewable Fuel Standard (RFS) program; 2) The field of       |\n",
      "|                                | biofuels is evolving; in some circumstances, biofuels can include      |\n",
      "|                                | fuels blended from multiple biomass sources, fuels blended from a      |\n",
      "|                                | mixture of biomass and other sources, and fuels from emerging          |\n",
      "|                                | biomanufacturing technologies  Version date: December 8, 2022  Direct  |\n",
      "|                                | link                                                                   |\n",
      "+--------------------------------+------------------------------------------------------------------------+\n",
      "| bioinformatics                 | the application of computational approaches for the processing and     |\n",
      "|                                | analysis of biological data to make biological discoveries and/or      |\n",
      "|                                | predictions. Bioinformatics may encompass computer science, biology,   |\n",
      "|                                | statistics, mathematics and/or engineering to interpret biological     |\n",
      "|                                | data Version date: December 8, 2022  Direct link                       |\n",
      "+--------------------------------+------------------------------------------------------------------------+\n",
      "| bioinspired material           | a synthetic material that is designed to exhibit one or more           |\n",
      "|                                | attributes of a biological material Version date: December 8, 2022     |\n",
      "|                                | Direct link                                                            |\n",
      "+--------------------------------+------------------------------------------------------------------------+\n",
      "| biological data                | the information, including associated descriptors, derived from the    |\n",
      "|                                | structure, function, or process of a biological system(s) that is      |\n",
      "|                                | either measured, collected, or aggregated for analysis Version date:   |\n",
      "|                                | December 8, 2022  Direct link                                          |\n",
      "+--------------------------------+------------------------------------------------------------------------+\n",
      "| biological engineering         | synonym that may be used interchangeably with bioengineering Version   |\n",
      "|                                | date: December 8, 2022  Direct link                                    |\n",
      "+--------------------------------+------------------------------------------------------------------------+\n",
      "| biological feedstock           | biomass intended for use as a starting material or an intermediate     |\n",
      "|                                | ingredient to be converted to another material through                 |\n",
      "|                                | biomanufacturing or other manufacturing process Version date: December |\n",
      "|                                | 8, 2022  Direct link                                                   |\n",
      "+--------------------------------+------------------------------------------------------------------------+\n",
      "| biological material            | any substance in whole or in part, derived or obtained, from a human,  |\n",
      "|                                | animal, plant, or other organism(s) or cell(s) Version date: December  |\n",
      "|                                | 8, 2022  Direct link                                                   |\n",
      "+--------------------------------+------------------------------------------------------------------------+\n",
      "| biological product (human      | a virus, therapeutic serum, toxin, antitoxin, vaccine, blood, blood    |\n",
      "| medical use)                   | component or derivative, allergenic product, protein, or analogous     |\n",
      "|                                | product, or arsphenamine or derivative of arsphenamine (or any other   |\n",
      "|                                | trivalent organic arsenic compound), applicable to the prevention,     |\n",
      "|                                | treatment, or cure of a disease or condition of human beings Scope     |\n",
      "|                                | note: This definition refers to human medical uses regulated by the    |\n",
      "|                                | U.S. Food and Drug Administration (FDA) within 21 C.F.R. § 600.3(h),   |\n",
      "|                                | where the statutory definition of \"biological product\" applies only to |\n",
      "|                                | section 351(i) of the Public Health Service (PHS) Act. The FDA’s       |\n",
      "|                                | regulatory definition of \"biological product\" does not affect the      |\n",
      "|                                | definition of \"biological product\" for veterinary medical uses as      |\n",
      "|                                | regulated by the U.S. Department of Agriculture (USDA) within 9 C.F.R. |\n",
      "|                                | § 101.2, nor does it affect the definition of \"biobased product\"       |\n",
      "|                                | within 7 U.S.C. § 8101(4). See also \"biological product (veterinary    |\n",
      "|                                | medical use)\" and \"biobased product\" in this lexicon for further       |\n",
      "|                                | information Version date: December 8, 2022  Direct link                |\n",
      "+--------------------------------+------------------------------------------------------------------------+\n",
      "| biological product (veterinary | all viruses, serums, toxins (excluding substances that are selectively |\n",
      "| medical use)                   | toxic to microorganisms, such as antibiotics), or analogous products   |\n",
      "|                                | at any stage of production, shipment, distribution, or sale which are  |\n",
      "|                                | intended for use in the treatment of animals and which act primarily   |\n",
      "|                                | through the direct stimulation, supplementation, enhancement, or       |\n",
      "|                                | modulation of the immune system or immune response Scope note: This    |\n",
      "|                                | definition refers to veterinary medical uses regulated by the U.S.     |\n",
      "|                                | Department of Agriculture (USDA) within 9 C.F.R. § 101.2. The USDA’s   |\n",
      "|                                | definition of \"biological product\" does not affect the definition of   |\n",
      "|                                | \"biological product\" for human medical uses as regulated by the U.S.   |\n",
      "|                                | Food and Drug Administration (FDA) within 21 C.F.R. § 600.3(h), nor    |\n",
      "|                                | does it affect the definition of \"biobased product\" within 7 U.S.C. §  |\n",
      "|                                | 8101(4). See also \"biological product (human medical use)\"and          |\n",
      "|                                | \"biobased product\" in this lexicon for further information  Version    |\n",
      "|                                | date: December 8, 2022  Direct link                                    |\n",
      "+--------------------------------+------------------------------------------------------------------------+\n",
      "| biomanufacturing               | the use of biological systems to produce goods and services at         |\n",
      "|                                | commercial scale Version date: December 8, 2022  Direct link           |\n",
      "+--------------------------------+------------------------------------------------------------------------+\n",
      "| biomass                        | any material of biological origin that is available on a renewable or  |\n",
      "|                                | recurring basis. Examples of biomass include plants, trees, algae, and |\n",
      "|                                | waste material such as crop residue, wood waste, animal waste and      |\n",
      "|                                | byproducts, food waste, and yard waste Version date: December 8, 2022  |\n",
      "|                                | Direct link                                                            |\n",
      "+--------------------------------+------------------------------------------------------------------------+\n",
      "| bioplastic                     | a plastic, in whole or in significant part, derived from and/or        |\n",
      "|                                | composed of biomass; see also \"biobased polymer\" Version date:         |\n",
      "|                                | December 8, 2022  Direct link                                          |\n",
      "+--------------------------------+------------------------------------------------------------------------+\n",
      "| bioproduct                     | synonym that may be used interchangeably with biobased product  Direct |\n",
      "|                                | link                                                                   |\n",
      "+--------------------------------+------------------------------------------------------------------------+\n",
      "| bioreactor                     | a vessel used for bioconversion, biosynthesis, cell expansion, or      |\n",
      "|                                | other cell manipulation Scope note: This definition does not contain   |\n",
      "|                                | an exhaustive list of processes that can occur within a bioreactor,    |\n",
      "|                                | including any process within scope of the definitions for              |\n",
      "|                                | \"bioconversion\" and \"biosynthesis\" elsewhere in this lexicon Version   |\n",
      "|                                | date: December 8, 2022  Direct link                                    |\n",
      "+--------------------------------+------------------------------------------------------------------------+\n",
      "| bioremediation                 | a process whereby organisms, cells, or cellular components are used    |\n",
      "|                                | for environmental decontamination Version date: December 8, 2022       |\n",
      "|                                | Direct link                                                            |\n",
      "+--------------------------------+------------------------------------------------------------------------+\n",
      "| biorisk                        | the effect of uncertainty expressed by the combination of the          |\n",
      "|                                | consequences and the associated likelihood of occurrence that a        |\n",
      "|                                | biological event will adversely affect the health of humans, nonhuman  |\n",
      "|                                | animals, and/or the environment. A biological event may include        |\n",
      "|                                | naturally occurring disease, accidental infection or release,          |\n",
      "|                                | unexpected discovery, loss, theft, misuse, diversion, or intentional   |\n",
      "|                                | unauthorized release of a biological agent or biological material      |\n",
      "|                                | Version date: December 8, 2022  Direct link                            |\n",
      "+--------------------------------+------------------------------------------------------------------------+\n",
      "| biosafety                      | practices, controls, and containment infrastructure that reduce the    |\n",
      "|                                | risk of unintentional exposure to, contamination with, release of, or  |\n",
      "|                                | harm from pathogens, toxins, and biological materials Version date:    |\n",
      "|                                | December 8, 2022  Direct link                                          |\n",
      "+--------------------------------+------------------------------------------------------------------------+\n",
      "| biosecurity                    | security measures designed to prevent the loss, theft, misuse,         |\n",
      "|                                | diversion, unauthorized possession or material introduction, or        |\n",
      "|                                | intentional release of pathogens, toxins, biological materials, and    |\n",
      "|                                | related information and/or technology  Version date: December 8, 2022  |\n",
      "|                                | Direct link                                                            |\n",
      "+--------------------------------+------------------------------------------------------------------------+\n",
      "| biosynthesis                   | the production of a material by organisms, cells, or cellular          |\n",
      "|                                | components Version date: December 8, 2022  Direct link                 |\n",
      "+--------------------------------+------------------------------------------------------------------------+\n",
      "| biotechnology                  | technology that applies to and/or is enabled by life sciences          |\n",
      "|                                | innovation or product development Version date: December 8, 2022       |\n",
      "|                                | Direct link                                                            |\n",
      "+--------------------------------+------------------------------------------------------------------------+\n",
      "| circular bioeconomy            | economic activity derived from the life sciences, particularly in the  |\n",
      "|                                | areas of biotechnology and biomanufacturing, that focuses on the       |\n",
      "|                                | sustainable and/or resource-efficient valorization of biomass  Scope   |\n",
      "|                                | note: The circular bioeconomy is a subset of the larger bioeconomy     |\n",
      "|                                | Version date: December 8, 2022  Direct link                            |\n",
      "+--------------------------------+------------------------------------------------------------------------+\n",
      "| engineering biology /          | design, construction, and/or assembly of the components of living      |\n",
      "| synthetic biology              | systems (including genetic circuits, enzymes, metabolic pathways,      |\n",
      "|                                | etc.) to achieve an intended function or outcome Version date:         |\n",
      "|                                | December 8, 2022  Direct link                                          |\n",
      "+--------------------------------+------------------------------------------------------------------------+\n",
      "| fermenter / fermentor          | a type of bioreactor used for fermentation Version date: December 8,   |\n",
      "|                                | 2022  Direct link                                                      |\n",
      "+--------------------------------+------------------------------------------------------------------------+\n",
      "| gene delivery                  | a process by which foreign nucleic acid is introduced to host cells    |\n",
      "|                                | through mechanical, chemical, or biological approaches Version date:   |\n",
      "|                                | December 8, 2022  Direct link                                          |\n",
      "+--------------------------------+------------------------------------------------------------------------+\n",
      "| gene drive                     | a naturally occurring process or genetic engineering technology        |\n",
      "|                                | whereby the probability of a gene or suite of genes propagating        |\n",
      "|                                | throughout a population is altered to bias inheritance of the gene(s)  |\n",
      "|                                | in each generation Scope note: The biased inheritance related to a     |\n",
      "|                                | gene drive is generally a substantial deviation from what would be     |\n",
      "|                                | expected from natural selection, either in the positive or negative    |\n",
      "|                                | direction Version date: December 8, 2022  Direct link                  |\n",
      "+--------------------------------+------------------------------------------------------------------------+\n",
      "| gene editing                   | techniques for genome engineering that involve nucleic acid damage,    |\n",
      "|                                | repair mechanisms, replication, and/or recombination for incorporating |\n",
      "|                                | site-specific modification(s) into a gene or genes Version date:       |\n",
      "|                                | December 8, 2022  Direct link                                          |\n",
      "+--------------------------------+------------------------------------------------------------------------+\n",
      "| gene therapy product           | therapeutic product that mediates its effect by the expression of      |\n",
      "|                                | transferred genetic material(s), or by specifically altering a target  |\n",
      "|                                | genome Scope note: The expression referred to in a gene therapy        |\n",
      "|                                | product can occur via transcription or translation, and the target     |\n",
      "|                                | genome is not limited to human cells Version date: December 8, 2022    |\n",
      "|                                | Direct link                                                            |\n",
      "+--------------------------------+------------------------------------------------------------------------+\n",
      "| genetic engineering            | selective, deliberate alteration of genes (genetic material) by means  |\n",
      "|                                | of recombinant DNA technology Version date: December 8, 2022  Direct   |\n",
      "|                                | link                                                                   |\n",
      "+--------------------------------+------------------------------------------------------------------------+\n",
      "| genetic sequence data          | nucleic acid sequences and associated information pertaining to their  |\n",
      "|                                | structure and/or function Version date: December 8, 2022  Direct link  |\n",
      "+--------------------------------+------------------------------------------------------------------------+\n",
      "| genome editing                 | techniques for genome engineering that involve nucleic acid damage,    |\n",
      "|                                | repair mechanisms, replication, and/or recombination for incorporating |\n",
      "|                                | site-specific modification(s) into a genome Version date: December 8,  |\n",
      "|                                | 2022  Direct link                                                      |\n",
      "+--------------------------------+------------------------------------------------------------------------+\n",
      "| genome engineering             | process of introducing intentional changes to genomic nucleic acid,    |\n",
      "|                                | including through genome editing or genetic engineering Version date:  |\n",
      "|                                | December 8, 2022  Direct link                                          |\n",
      "+--------------------------------+------------------------------------------------------------------------+\n",
      "| genomic data                   | data pertaining to all or part of the genetic or epigenetic sequence   |\n",
      "|                                | information of organisms and their functions, including genome-wide    |\n",
      "|                                | association studies (GWAS), single nucleotide polymorphism (SNP)       |\n",
      "|                                | arrays, and genome sequence, transcriptomic, metagenomic, epigenomic,  |\n",
      "|                                | and gene expression data Version date: December 8, 2022  Direct link   |\n",
      "+--------------------------------+------------------------------------------------------------------------+\n",
      "| genomics                       | the study of all or a significant portion of nucleic acids and their   |\n",
      "|                                | function(s) in an organism Version date: December 8, 2022  Direct link |\n",
      "+--------------------------------+------------------------------------------------------------------------+\n",
      "| life sciences                  | the study or use of living organisms, viruses, or their products,      |\n",
      "|                                | including all disciplines, methodologies, and applications of biology  |\n",
      "|                                | (including biotechnology, genomics, proteomics, bioinformatics, and    |\n",
      "|                                | pharmaceutical and biomedical research and techniques) Version date:   |\n",
      "|                                | December 8, 2022  Direct link                                          |\n",
      "+--------------------------------+------------------------------------------------------------------------+\n",
      "| medical countermeasures        | medicines and medical supplies that can be used to diagnose, prevent,  |\n",
      "|                                | protect from, or treat conditions or diseases related to chemical,     |\n",
      "|                                | biological, radiological, or nuclear (CBRN) threats Version date:      |\n",
      "|                                | December 8, 2022  Direct link                                          |\n",
      "+--------------------------------+------------------------------------------------------------------------+\n",
      "| metabolomics                   | the study of all or a significant portion of metabolites within an     |\n",
      "|                                | organism or biological material Version date: December 8, 2022  Direct |\n",
      "|                                | link                                                                   |\n",
      "+--------------------------------+------------------------------------------------------------------------+\n",
      "| metagenomics                   | the study of nucleic acids and their function(s) from all or a         |\n",
      "|                                | significant portion of the organisms within a collection  Version      |\n",
      "|                                | date: December 8, 2022  Direct link                                    |\n",
      "+--------------------------------+------------------------------------------------------------------------+\n",
      "| multiomic information          | refers to combined information derived from data, analysis, and        |\n",
      "|                                | interpretation of multiple omics measurement technologies to identify  |\n",
      "|                                | or analyze the roles, relationships, and functions of biomolecules     |\n",
      "|                                | (including nucleic acids, proteins, metabolites) that make up a cell   |\n",
      "|                                | or cellular system. Omics are disciplines in biology that include      |\n",
      "|                                | genomics, transcriptomics, proteomics, and metabolomics Version date:  |\n",
      "|                                | December 8, 2022  Direct link                                          |\n",
      "+--------------------------------+------------------------------------------------------------------------+\n",
      "| proteomics                     | the study of all or a significant portion of proteins produced and/or  |\n",
      "|                                | modified by an organism Version date: December 8, 2022  Direct link    |\n",
      "+--------------------------------+------------------------------------------------------------------------+\n",
      "| therapeutics                   | treatments used to alleviate or prevent specific diseases or medical   |\n",
      "|                                | conditions Version date: December 8, 2022  Direct link                 |\n",
      "+--------------------------------+------------------------------------------------------------------------+\n",
      "| transcriptomics                | the study of all or a significant portion of RNA transcripts,          |\n",
      "|                                | including coding and non-coding, that are produced within an organism  |\n",
      "|                                | or biological material Version date: December 8, 2022  Direct link     |\n",
      "+--------------------------------+------------------------------------------------------------------------+\n",
      "| vaccine                        | a preparation that is used to stimulate the body’s immune response     |\n",
      "|                                | against a specific disease or set of diseases Version date: December   |\n",
      "|                                | 8, 2022  Direct link                                                   |\n",
      "+--------------------------------+------------------------------------------------------------------------+\n"
     ]
    }
   ],
   "source": [
    "table_body = definitions.items()\n",
    "table_str = tabulate(table_body, table_headers, tablefmt=\"grid\", maxcolwidths=[30, 70])\n",
    "print(table_str)"
   ]
  },
  {
   "attachments": {},
   "cell_type": "markdown",
   "metadata": {},
   "source": [
    "Display the terms and their definitions as a CSV string."
   ]
  },
  {
   "cell_type": "code",
   "execution_count": 17,
   "metadata": {
    "ExecuteTime": {
     "end_time": "2023-06-09T01:53:23.995534Z",
     "start_time": "2023-06-09T01:53:23.989445Z"
    }
   },
   "outputs": [],
   "source": [
    "# writer = csv.writer(sys.stdout)\n",
    "# writer.writerow((\"Term\", \"Definition\"))\n",
    "# writer.writerows(definitions.items())"
   ]
  },
  {
   "cell_type": "code",
   "execution_count": 18,
   "outputs": [],
   "source": [
    "nist_bioeconomy_terms = [{table_headers[0]: key, table_headers[1]: definitions[key]} for key in definitions]\n",
    "\n",
    "with open(output_tsv_file, 'w', newline='') as file:\n",
    "    writer = csv.DictWriter(file, fieldnames=table_headers, delimiter='\\t')\n",
    "\n",
    "    # Write the header row\n",
    "    writer.writeheader()\n",
    "\n",
    "    # Write the data rows\n",
    "    writer.writerows(nist_bioeconomy_terms)\n",
    "\n"
   ],
   "metadata": {
    "collapsed": false,
    "ExecuteTime": {
     "end_time": "2023-06-09T01:53:24.777083Z",
     "start_time": "2023-06-09T01:53:24.772345Z"
    }
   }
  }
 ],
 "metadata": {
  "kernelspec": {
   "display_name": "Python 3 (ipykernel)",
   "language": "python",
   "name": "python3"
  },
  "orig_nbformat": 4
 },
 "nbformat": 4,
 "nbformat_minor": 2
}
