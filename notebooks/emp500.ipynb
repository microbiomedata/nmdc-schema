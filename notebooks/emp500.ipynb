{
 "cells": [
  {
   "cell_type": "code",
   "execution_count": 25,
   "metadata": {
    "collapsed": true
   },
   "outputs": [],
   "source": [
    "import pandas as pd\n",
    "from linkml_runtime.utils.schemaview import SchemaView"
   ]
  },
  {
   "cell_type": "code",
   "execution_count": 5,
   "outputs": [],
   "source": [
    "emp500 = pd.read_csv('../assets/bp_PRJEB42019_biosamples.tsv', sep='\\t')"
   ],
   "metadata": {
    "collapsed": false
   }
  },
  {
   "cell_type": "code",
   "execution_count": 23,
   "outputs": [
    {
     "data": {
      "text/plain": "(1024, 547)"
     },
     "execution_count": 23,
     "metadata": {},
     "output_type": "execute_result"
    }
   ],
   "source": [
    "emp500.shape"
   ],
   "metadata": {
    "collapsed": false
   }
  },
  {
   "cell_type": "code",
   "execution_count": 19,
   "outputs": [],
   "source": [
    "emp500_populated_cols = emp500.dropna(axis=1, how='all')"
   ],
   "metadata": {
    "collapsed": false
   }
  },
  {
   "cell_type": "code",
   "execution_count": 24,
   "outputs": [
    {
     "data": {
      "text/plain": "(1024, 78)"
     },
     "execution_count": 24,
     "metadata": {},
     "output_type": "execute_result"
    }
   ],
   "source": [
    "emp500_populated_cols.shape"
   ],
   "metadata": {
    "collapsed": false
   }
  },
  {
   "cell_type": "code",
   "execution_count": 21,
   "outputs": [],
   "source": [
    "emp500_populated_cols.to_clipboard()"
   ],
   "metadata": {
    "collapsed": false
   }
  },
  {
   "cell_type": "code",
   "execution_count": 29,
   "outputs": [],
   "source": [
    "v = SchemaView('../src/schema/nmdc.yaml')"
   ],
   "metadata": {
    "collapsed": false
   }
  },
  {
   "cell_type": "code",
   "execution_count": 30,
   "outputs": [
    {
     "ename": "FileNotFoundError",
     "evalue": "[Errno 2] No such file or directory: '/home/mark/gitrepos/nmdc-schema/src/schema/mixs.yaml'",
     "output_type": "error",
     "traceback": [
      "\u001B[0;31m---------------------------------------------------------------------------\u001B[0m",
      "\u001B[0;31mFileNotFoundError\u001B[0m                         Traceback (most recent call last)",
      "Cell \u001B[0;32mIn[30], line 1\u001B[0m\n\u001B[0;32m----> 1\u001B[0m bs \u001B[38;5;241m=\u001B[39m \u001B[43mv\u001B[49m\u001B[38;5;241;43m.\u001B[39;49m\u001B[43minduced_class\u001B[49m\u001B[43m(\u001B[49m\u001B[38;5;124;43m'\u001B[39;49m\u001B[38;5;124;43mBiosample\u001B[39;49m\u001B[38;5;124;43m'\u001B[39;49m\u001B[43m)\u001B[49m\n",
      "File \u001B[0;32m~/.cache/pypoetry/virtualenvs/nmdc-schema-_1824IzR-py3.9/lib/python3.9/site-packages/linkml_runtime/utils/schemaview.py:1231\u001B[0m, in \u001B[0;36mSchemaView.induced_class\u001B[0;34m(self, class_name)\u001B[0m\n\u001B[1;32m   1218\u001B[0m \u001B[38;5;129m@lru_cache\u001B[39m()\n\u001B[1;32m   1219\u001B[0m \u001B[38;5;28;01mdef\u001B[39;00m \u001B[38;5;21minduced_class\u001B[39m(\u001B[38;5;28mself\u001B[39m, class_name: CLASS_NAME \u001B[38;5;241m=\u001B[39m \u001B[38;5;28;01mNone\u001B[39;00m) \u001B[38;5;241m-\u001B[39m\u001B[38;5;241m>\u001B[39m ClassDefinition:\n\u001B[1;32m   1220\u001B[0m \u001B[38;5;250m    \u001B[39m\u001B[38;5;124;03m\"\"\"\u001B[39;00m\n\u001B[1;32m   1221\u001B[0m \u001B[38;5;124;03m    Generate an induced class\u001B[39;00m\n\u001B[1;32m   1222\u001B[0m \n\u001B[0;32m   (...)\u001B[0m\n\u001B[1;32m   1229\u001B[0m \u001B[38;5;124;03m    :return: induced class\u001B[39;00m\n\u001B[1;32m   1230\u001B[0m \u001B[38;5;124;03m    \"\"\"\u001B[39;00m\n\u001B[0;32m-> 1231\u001B[0m     c \u001B[38;5;241m=\u001B[39m deepcopy(\u001B[38;5;28;43mself\u001B[39;49m\u001B[38;5;241;43m.\u001B[39;49m\u001B[43mget_class\u001B[49m\u001B[43m(\u001B[49m\u001B[43mclass_name\u001B[49m\u001B[43m)\u001B[49m)\n\u001B[1;32m   1232\u001B[0m     attrs \u001B[38;5;241m=\u001B[39m \u001B[38;5;28mself\u001B[39m\u001B[38;5;241m.\u001B[39mclass_induced_slots(c\u001B[38;5;241m.\u001B[39mname)\n\u001B[1;32m   1233\u001B[0m     \u001B[38;5;28;01mfor\u001B[39;00m a \u001B[38;5;129;01min\u001B[39;00m attrs:\n",
      "File \u001B[0;32m~/.cache/pypoetry/virtualenvs/nmdc-schema-_1824IzR-py3.9/lib/python3.9/site-packages/linkml_runtime/utils/schemaview.py:452\u001B[0m, in \u001B[0;36mSchemaView.get_class\u001B[0;34m(self, class_name, imports, strict)\u001B[0m\n\u001B[1;32m    445\u001B[0m \u001B[38;5;129m@lru_cache\u001B[39m()\n\u001B[1;32m    446\u001B[0m \u001B[38;5;28;01mdef\u001B[39;00m \u001B[38;5;21mget_class\u001B[39m(\u001B[38;5;28mself\u001B[39m, class_name: CLASS_NAME, imports\u001B[38;5;241m=\u001B[39m\u001B[38;5;28;01mTrue\u001B[39;00m, strict\u001B[38;5;241m=\u001B[39m\u001B[38;5;28;01mFalse\u001B[39;00m) \u001B[38;5;241m-\u001B[39m\u001B[38;5;241m>\u001B[39m ClassDefinition:\n\u001B[1;32m    447\u001B[0m \u001B[38;5;250m    \u001B[39m\u001B[38;5;124;03m\"\"\"\u001B[39;00m\n\u001B[1;32m    448\u001B[0m \u001B[38;5;124;03m    :param class_name: name of the class to be retrieved\u001B[39;00m\n\u001B[1;32m    449\u001B[0m \u001B[38;5;124;03m    :param imports: include import closure\u001B[39;00m\n\u001B[1;32m    450\u001B[0m \u001B[38;5;124;03m    :return: class definition\u001B[39;00m\n\u001B[1;32m    451\u001B[0m \u001B[38;5;124;03m    \"\"\"\u001B[39;00m\n\u001B[0;32m--> 452\u001B[0m     c \u001B[38;5;241m=\u001B[39m \u001B[38;5;28;43mself\u001B[39;49m\u001B[38;5;241;43m.\u001B[39;49m\u001B[43mall_classes\u001B[49m\u001B[43m(\u001B[49m\u001B[43mimports\u001B[49m\u001B[38;5;241;43m=\u001B[39;49m\u001B[43mimports\u001B[49m\u001B[43m)\u001B[49m\u001B[38;5;241m.\u001B[39mget(class_name, \u001B[38;5;28;01mNone\u001B[39;00m)\n\u001B[1;32m    453\u001B[0m     \u001B[38;5;28;01mif\u001B[39;00m strict \u001B[38;5;129;01mand\u001B[39;00m c \u001B[38;5;129;01mis\u001B[39;00m \u001B[38;5;28;01mNone\u001B[39;00m:\n\u001B[1;32m    454\u001B[0m         \u001B[38;5;28;01mraise\u001B[39;00m \u001B[38;5;167;01mValueError\u001B[39;00m(\u001B[38;5;124mf\u001B[39m\u001B[38;5;124m'\u001B[39m\u001B[38;5;124mNo such class as \u001B[39m\u001B[38;5;124m\"\u001B[39m\u001B[38;5;132;01m{\u001B[39;00mclass_name\u001B[38;5;132;01m}\u001B[39;00m\u001B[38;5;124m\"\u001B[39m\u001B[38;5;124m'\u001B[39m)\n",
      "File \u001B[0;32m~/.cache/pypoetry/virtualenvs/nmdc-schema-_1824IzR-py3.9/lib/python3.9/site-packages/linkml_runtime/utils/schemaview.py:256\u001B[0m, in \u001B[0;36mSchemaView.all_classes\u001B[0;34m(self, ordered_by, imports)\u001B[0m\n\u001B[1;32m    249\u001B[0m \u001B[38;5;129m@lru_cache\u001B[39m()\n\u001B[1;32m    250\u001B[0m \u001B[38;5;28;01mdef\u001B[39;00m \u001B[38;5;21mall_classes\u001B[39m(\u001B[38;5;28mself\u001B[39m, ordered_by\u001B[38;5;241m=\u001B[39mOrderedBy\u001B[38;5;241m.\u001B[39mPRESERVE, imports\u001B[38;5;241m=\u001B[39m\u001B[38;5;28;01mTrue\u001B[39;00m) \u001B[38;5;241m-\u001B[39m\u001B[38;5;241m>\u001B[39m Dict[ClassDefinitionName, ClassDefinition]:\n\u001B[1;32m    251\u001B[0m \u001B[38;5;250m    \u001B[39m\u001B[38;5;124;03m\"\"\"\u001B[39;00m\n\u001B[1;32m    252\u001B[0m \u001B[38;5;124;03m    :param ordered_by: an enumerated parameter that returns all the slots in the order specified.\u001B[39;00m\n\u001B[1;32m    253\u001B[0m \u001B[38;5;124;03m    :param imports: include imports closure\u001B[39;00m\n\u001B[1;32m    254\u001B[0m \u001B[38;5;124;03m    :return: all classes in schema view\u001B[39;00m\n\u001B[1;32m    255\u001B[0m \u001B[38;5;124;03m    \"\"\"\u001B[39;00m\n\u001B[0;32m--> 256\u001B[0m     classes \u001B[38;5;241m=\u001B[39m copy(\u001B[38;5;28;43mself\u001B[39;49m\u001B[38;5;241;43m.\u001B[39;49m\u001B[43m_get_dict\u001B[49m\u001B[43m(\u001B[49m\u001B[43mCLASSES\u001B[49m\u001B[43m,\u001B[49m\u001B[43m \u001B[49m\u001B[43mimports\u001B[49m\u001B[43m)\u001B[49m)\n\u001B[1;32m    258\u001B[0m     \u001B[38;5;28;01mif\u001B[39;00m ordered_by \u001B[38;5;241m==\u001B[39m OrderedBy\u001B[38;5;241m.\u001B[39mLEXICAL:\n\u001B[1;32m    259\u001B[0m         ordered_classes \u001B[38;5;241m=\u001B[39m \u001B[38;5;28mself\u001B[39m\u001B[38;5;241m.\u001B[39m_order_lexically(elements\u001B[38;5;241m=\u001B[39mclasses)\n",
      "File \u001B[0;32m~/.cache/pypoetry/virtualenvs/nmdc-schema-_1824IzR-py3.9/lib/python3.9/site-packages/linkml_runtime/utils/schemaview.py:382\u001B[0m, in \u001B[0;36mSchemaView._get_dict\u001B[0;34m(self, slot_name, imports)\u001B[0m\n\u001B[1;32m    381\u001B[0m \u001B[38;5;28;01mdef\u001B[39;00m \u001B[38;5;21m_get_dict\u001B[39m(\u001B[38;5;28mself\u001B[39m, slot_name: \u001B[38;5;28mstr\u001B[39m, imports\u001B[38;5;241m=\u001B[39m\u001B[38;5;28;01mTrue\u001B[39;00m) \u001B[38;5;241m-\u001B[39m\u001B[38;5;241m>\u001B[39m Dict:\n\u001B[0;32m--> 382\u001B[0m     schemas \u001B[38;5;241m=\u001B[39m \u001B[38;5;28;43mself\u001B[39;49m\u001B[38;5;241;43m.\u001B[39;49m\u001B[43mall_schema\u001B[49m\u001B[43m(\u001B[49m\u001B[43mimports\u001B[49m\u001B[43m)\u001B[49m\n\u001B[1;32m    383\u001B[0m     d \u001B[38;5;241m=\u001B[39m {}\n\u001B[1;32m    384\u001B[0m     \u001B[38;5;66;03m# iterate through all schemas and merge the list together\u001B[39;00m\n",
      "File \u001B[0;32m~/.cache/pypoetry/virtualenvs/nmdc-schema-_1824IzR-py3.9/lib/python3.9/site-packages/linkml_runtime/utils/schemaview.py:201\u001B[0m, in \u001B[0;36mSchemaView.all_schema\u001B[0;34m(self, imports)\u001B[0m\n\u001B[1;32m    196\u001B[0m \u001B[38;5;250m\u001B[39m\u001B[38;5;124;03m\"\"\"\u001B[39;00m\n\u001B[1;32m    197\u001B[0m \u001B[38;5;124;03m:param imports: include imports closure\u001B[39;00m\n\u001B[1;32m    198\u001B[0m \u001B[38;5;124;03m:return: all schemas\u001B[39;00m\n\u001B[1;32m    199\u001B[0m \u001B[38;5;124;03m\"\"\"\u001B[39;00m\n\u001B[1;32m    200\u001B[0m m \u001B[38;5;241m=\u001B[39m \u001B[38;5;28mself\u001B[39m\u001B[38;5;241m.\u001B[39mschema_map\n\u001B[0;32m--> 201\u001B[0m \u001B[38;5;28;01mreturn\u001B[39;00m [m[sn] \u001B[38;5;28;01mfor\u001B[39;00m sn \u001B[38;5;129;01min\u001B[39;00m \u001B[38;5;28;43mself\u001B[39;49m\u001B[38;5;241;43m.\u001B[39;49m\u001B[43mimports_closure\u001B[49m\u001B[43m(\u001B[49m\u001B[43mimports\u001B[49m\u001B[43m)\u001B[49m]\n",
      "File \u001B[0;32m~/.cache/pypoetry/virtualenvs/nmdc-schema-_1824IzR-py3.9/lib/python3.9/site-packages/linkml_runtime/utils/schemaview.py:177\u001B[0m, in \u001B[0;36mSchemaView.imports_closure\u001B[0;34m(self, imports, traverse, inject_metadata)\u001B[0m\n\u001B[1;32m    175\u001B[0m visited\u001B[38;5;241m.\u001B[39madd(sn)\n\u001B[1;32m    176\u001B[0m \u001B[38;5;28;01mif\u001B[39;00m sn \u001B[38;5;129;01mnot\u001B[39;00m \u001B[38;5;129;01min\u001B[39;00m \u001B[38;5;28mself\u001B[39m\u001B[38;5;241m.\u001B[39mschema_map:\n\u001B[0;32m--> 177\u001B[0m     imported_schema \u001B[38;5;241m=\u001B[39m \u001B[38;5;28;43mself\u001B[39;49m\u001B[38;5;241;43m.\u001B[39;49m\u001B[43mload_import\u001B[49m\u001B[43m(\u001B[49m\u001B[43msn\u001B[49m\u001B[43m)\u001B[49m\n\u001B[1;32m    178\u001B[0m     \u001B[38;5;28mself\u001B[39m\u001B[38;5;241m.\u001B[39mschema_map[sn] \u001B[38;5;241m=\u001B[39m imported_schema\n\u001B[1;32m    179\u001B[0m s \u001B[38;5;241m=\u001B[39m \u001B[38;5;28mself\u001B[39m\u001B[38;5;241m.\u001B[39mschema_map[sn]\n",
      "File \u001B[0;32m~/.cache/pypoetry/virtualenvs/nmdc-schema-_1824IzR-py3.9/lib/python3.9/site-packages/linkml_runtime/utils/schemaview.py:151\u001B[0m, in \u001B[0;36mSchemaView.load_import\u001B[0;34m(self, imp, from_schema)\u001B[0m\n\u001B[1;32m    149\u001B[0m sname \u001B[38;5;241m=\u001B[39m map_import(\u001B[38;5;28mself\u001B[39m\u001B[38;5;241m.\u001B[39mimportmap, \u001B[38;5;28mself\u001B[39m\u001B[38;5;241m.\u001B[39mnamespaces, imp)\n\u001B[1;32m    150\u001B[0m logging\u001B[38;5;241m.\u001B[39minfo(\u001B[38;5;124mf\u001B[39m\u001B[38;5;124m'\u001B[39m\u001B[38;5;124mLoading schema \u001B[39m\u001B[38;5;132;01m{\u001B[39;00msname\u001B[38;5;132;01m}\u001B[39;00m\u001B[38;5;124m from \u001B[39m\u001B[38;5;132;01m{\u001B[39;00mfrom_schema\u001B[38;5;241m.\u001B[39msource_file\u001B[38;5;132;01m}\u001B[39;00m\u001B[38;5;124m'\u001B[39m)\n\u001B[0;32m--> 151\u001B[0m schema \u001B[38;5;241m=\u001B[39m \u001B[43mload_schema_wrap\u001B[49m\u001B[43m(\u001B[49m\u001B[43msname\u001B[49m\u001B[43m \u001B[49m\u001B[38;5;241;43m+\u001B[39;49m\u001B[43m \u001B[49m\u001B[38;5;124;43m'\u001B[39;49m\u001B[38;5;124;43m.yaml\u001B[39;49m\u001B[38;5;124;43m'\u001B[39;49m\u001B[43m,\u001B[49m\n\u001B[1;32m    152\u001B[0m \u001B[43m                          \u001B[49m\u001B[43mbase_dir\u001B[49m\u001B[38;5;241;43m=\u001B[39;49m\u001B[43mos\u001B[49m\u001B[38;5;241;43m.\u001B[39;49m\u001B[43mpath\u001B[49m\u001B[38;5;241;43m.\u001B[39;49m\u001B[43mdirname\u001B[49m\u001B[43m(\u001B[49m\n\u001B[1;32m    153\u001B[0m \u001B[43m                              \u001B[49m\u001B[43mfrom_schema\u001B[49m\u001B[38;5;241;43m.\u001B[39;49m\u001B[43msource_file\u001B[49m\u001B[43m)\u001B[49m\u001B[43m \u001B[49m\u001B[38;5;28;43;01mif\u001B[39;49;00m\u001B[43m \u001B[49m\u001B[43mfrom_schema\u001B[49m\u001B[38;5;241;43m.\u001B[39;49m\u001B[43msource_file\u001B[49m\u001B[43m \u001B[49m\u001B[38;5;28;43;01melse\u001B[39;49;00m\u001B[43m \u001B[49m\u001B[38;5;28;43;01mNone\u001B[39;49;00m\u001B[43m)\u001B[49m\n\u001B[1;32m    154\u001B[0m \u001B[38;5;28;01mreturn\u001B[39;00m schema\n",
      "File \u001B[0;32m~/.cache/pypoetry/virtualenvs/nmdc-schema-_1824IzR-py3.9/lib/python3.9/site-packages/linkml_runtime/utils/schemaview.py:70\u001B[0m, in \u001B[0;36mload_schema_wrap\u001B[0;34m(path, **kwargs)\u001B[0m\n\u001B[1;32m     68\u001B[0m yaml_loader \u001B[38;5;241m=\u001B[39m YAMLLoader()\n\u001B[1;32m     69\u001B[0m schema: SchemaDefinition\n\u001B[0;32m---> 70\u001B[0m schema \u001B[38;5;241m=\u001B[39m \u001B[43myaml_loader\u001B[49m\u001B[38;5;241;43m.\u001B[39;49m\u001B[43mload\u001B[49m\u001B[43m(\u001B[49m\u001B[43mpath\u001B[49m\u001B[43m,\u001B[49m\u001B[43m \u001B[49m\u001B[43mtarget_class\u001B[49m\u001B[38;5;241;43m=\u001B[39;49m\u001B[43mSchemaDefinition\u001B[49m\u001B[43m,\u001B[49m\u001B[43m \u001B[49m\u001B[38;5;241;43m*\u001B[39;49m\u001B[38;5;241;43m*\u001B[39;49m\u001B[43mkwargs\u001B[49m\u001B[43m)\u001B[49m\n\u001B[1;32m     71\u001B[0m schema\u001B[38;5;241m.\u001B[39msource_file \u001B[38;5;241m=\u001B[39m path\n\u001B[1;32m     72\u001B[0m \u001B[38;5;28;01mreturn\u001B[39;00m schema\n",
      "File \u001B[0;32m~/.cache/pypoetry/virtualenvs/nmdc-schema-_1824IzR-py3.9/lib/python3.9/site-packages/linkml_runtime/loaders/loader_root.py:85\u001B[0m, in \u001B[0;36mLoader.load\u001B[0;34m(self, *args, **kwargs)\u001B[0m\n\u001B[1;32m     74\u001B[0m \u001B[38;5;28;01mdef\u001B[39;00m \u001B[38;5;21mload\u001B[39m(\u001B[38;5;28mself\u001B[39m, \u001B[38;5;241m*\u001B[39margs, \u001B[38;5;241m*\u001B[39m\u001B[38;5;241m*\u001B[39mkwargs) \u001B[38;5;241m-\u001B[39m\u001B[38;5;241m>\u001B[39m YAMLRoot:\n\u001B[1;32m     75\u001B[0m \u001B[38;5;250m    \u001B[39m\u001B[38;5;124;03m\"\"\"\u001B[39;00m\n\u001B[1;32m     76\u001B[0m \u001B[38;5;124;03m    Load source as an instance of target_class\u001B[39;00m\n\u001B[1;32m     77\u001B[0m \n\u001B[0;32m   (...)\u001B[0m\n\u001B[1;32m     83\u001B[0m \u001B[38;5;124;03m    :return: instance of target_class\u001B[39;00m\n\u001B[1;32m     84\u001B[0m \u001B[38;5;124;03m    \"\"\"\u001B[39;00m\n\u001B[0;32m---> 85\u001B[0m     results \u001B[38;5;241m=\u001B[39m \u001B[38;5;28;43mself\u001B[39;49m\u001B[38;5;241;43m.\u001B[39;49m\u001B[43mload_any\u001B[49m\u001B[43m(\u001B[49m\u001B[38;5;241;43m*\u001B[39;49m\u001B[43margs\u001B[49m\u001B[43m,\u001B[49m\u001B[43m \u001B[49m\u001B[38;5;241;43m*\u001B[39;49m\u001B[38;5;241;43m*\u001B[39;49m\u001B[43mkwargs\u001B[49m\u001B[43m)\u001B[49m\n\u001B[1;32m     86\u001B[0m     \u001B[38;5;28;01mif\u001B[39;00m \u001B[38;5;28misinstance\u001B[39m(results, YAMLRoot):\n\u001B[1;32m     87\u001B[0m         \u001B[38;5;28;01mreturn\u001B[39;00m results\n",
      "File \u001B[0;32m~/.cache/pypoetry/virtualenvs/nmdc-schema-_1824IzR-py3.9/lib/python3.9/site-packages/linkml_runtime/loaders/yaml_loader.py:32\u001B[0m, in \u001B[0;36mYAMLLoader.load_any\u001B[0;34m(self, source, target_class, base_dir, metadata, **_)\u001B[0m\n\u001B[1;32m     30\u001B[0m \u001B[38;5;28;01mif\u001B[39;00m base_dir \u001B[38;5;129;01mand\u001B[39;00m \u001B[38;5;129;01mnot\u001B[39;00m metadata\u001B[38;5;241m.\u001B[39mbase_path:\n\u001B[1;32m     31\u001B[0m     metadata\u001B[38;5;241m.\u001B[39mbase_path \u001B[38;5;241m=\u001B[39m base_dir\n\u001B[0;32m---> 32\u001B[0m \u001B[38;5;28;01mreturn\u001B[39;00m \u001B[38;5;28;43mself\u001B[39;49m\u001B[38;5;241;43m.\u001B[39;49m\u001B[43mload_source\u001B[49m\u001B[43m(\u001B[49m\u001B[43msource\u001B[49m\u001B[43m,\u001B[49m\u001B[43m \u001B[49m\u001B[43mloader\u001B[49m\u001B[43m,\u001B[49m\u001B[43m \u001B[49m\u001B[43mtarget_class\u001B[49m\u001B[43m,\u001B[49m\u001B[43m \u001B[49m\u001B[43maccept_header\u001B[49m\u001B[38;5;241;43m=\u001B[39;49m\u001B[38;5;124;43m\"\u001B[39;49m\u001B[38;5;124;43mtext/yaml, application/yaml;q=0.9\u001B[39;49m\u001B[38;5;124;43m\"\u001B[39;49m\u001B[43m,\u001B[49m\n\u001B[1;32m     33\u001B[0m \u001B[43m                        \u001B[49m\u001B[43mmetadata\u001B[49m\u001B[38;5;241;43m=\u001B[39;49m\u001B[43mmetadata\u001B[49m\u001B[43m)\u001B[49m\n",
      "File \u001B[0;32m~/.cache/pypoetry/virtualenvs/nmdc-schema-_1824IzR-py3.9/lib/python3.9/site-packages/linkml_runtime/loaders/loader_root.py:58\u001B[0m, in \u001B[0;36mLoader.load_source\u001B[0;34m(self, source, loader, target_class, accept_header, metadata)\u001B[0m\n\u001B[1;32m     56\u001B[0m     metadata \u001B[38;5;241m=\u001B[39m FileInfo()\n\u001B[1;32m     57\u001B[0m \u001B[38;5;28;01mif\u001B[39;00m \u001B[38;5;129;01mnot\u001B[39;00m \u001B[38;5;28misinstance\u001B[39m(source, \u001B[38;5;28mdict\u001B[39m):\n\u001B[0;32m---> 58\u001B[0m     data \u001B[38;5;241m=\u001B[39m \u001B[43mhbread\u001B[49m\u001B[43m(\u001B[49m\u001B[43msource\u001B[49m\u001B[43m,\u001B[49m\u001B[43m \u001B[49m\u001B[43mmetadata\u001B[49m\u001B[43m,\u001B[49m\u001B[43m \u001B[49m\u001B[43mmetadata\u001B[49m\u001B[38;5;241;43m.\u001B[39;49m\u001B[43mbase_path\u001B[49m\u001B[43m,\u001B[49m\u001B[43m \u001B[49m\u001B[43maccept_header\u001B[49m\u001B[43m)\u001B[49m\n\u001B[1;32m     59\u001B[0m \u001B[38;5;28;01melse\u001B[39;00m:\n\u001B[1;32m     60\u001B[0m     data \u001B[38;5;241m=\u001B[39m source\n",
      "File \u001B[0;32m~/.cache/pypoetry/virtualenvs/nmdc-schema-_1824IzR-py3.9/lib/python3.9/site-packages/hbreader/__init__.py:260\u001B[0m, in \u001B[0;36mhbread\u001B[0;34m(source, open_info, base_path, accept_header, is_actual_data, read_codec)\u001B[0m\n\u001B[1;32m    258\u001B[0m         open_info\u001B[38;5;241m.\u001B[39msource_file_size \u001B[38;5;241m=\u001B[39m \u001B[38;5;28mlen\u001B[39m(source)\n\u001B[1;32m    259\u001B[0m     \u001B[38;5;28;01mreturn\u001B[39;00m source_as_string\n\u001B[0;32m--> 260\u001B[0m \u001B[38;5;28;01mwith\u001B[39;00m \u001B[43mhbopen\u001B[49m\u001B[43m(\u001B[49m\u001B[43msource\u001B[49m\u001B[43m,\u001B[49m\u001B[43m \u001B[49m\u001B[43mopen_info\u001B[49m\u001B[43m,\u001B[49m\u001B[43m \u001B[49m\u001B[43mbase_path\u001B[49m\u001B[43m,\u001B[49m\u001B[43m \u001B[49m\u001B[43maccept_header\u001B[49m\u001B[43m,\u001B[49m\u001B[43m \u001B[49m\u001B[43mis_actual_data\u001B[49m\u001B[43m,\u001B[49m\u001B[43m \u001B[49m\u001B[43mread_codec\u001B[49m\u001B[43m)\u001B[49m \u001B[38;5;28;01mas\u001B[39;00m f:\n\u001B[1;32m    261\u001B[0m     \u001B[38;5;28;01mreturn\u001B[39;00m f\u001B[38;5;241m.\u001B[39mread()\n",
      "File \u001B[0;32m~/.cache/pypoetry/virtualenvs/nmdc-schema-_1824IzR-py3.9/lib/python3.9/site-packages/hbreader/__init__.py:206\u001B[0m, in \u001B[0;36mhbopen\u001B[0;34m(source, open_info, base_path, accept_header, is_actual_data, read_codec)\u001B[0m\n\u001B[1;32m    204\u001B[0m \u001B[38;5;28;01melse\u001B[39;00m:\n\u001B[1;32m    205\u001B[0m     fname \u001B[38;5;241m=\u001B[39m source \u001B[38;5;28;01mif\u001B[39;00m os\u001B[38;5;241m.\u001B[39mpath\u001B[38;5;241m.\u001B[39misabs(source) \u001B[38;5;28;01melse\u001B[39;00m os\u001B[38;5;241m.\u001B[39mpath\u001B[38;5;241m.\u001B[39mabspath(os\u001B[38;5;241m.\u001B[39mpath\u001B[38;5;241m.\u001B[39mjoin(base_path, source))\n\u001B[0;32m--> 206\u001B[0m f \u001B[38;5;241m=\u001B[39m \u001B[38;5;28;43mopen\u001B[39;49m\u001B[43m(\u001B[49m\u001B[43mfname\u001B[49m\u001B[43m,\u001B[49m\u001B[43m \u001B[49m\u001B[43mencoding\u001B[49m\u001B[38;5;241;43m=\u001B[39;49m\u001B[43mread_codec\u001B[49m\u001B[43m \u001B[49m\u001B[38;5;28;43;01mif\u001B[39;49;00m\u001B[43m \u001B[49m\u001B[43mread_codec\u001B[49m\u001B[43m \u001B[49m\u001B[38;5;28;43;01melse\u001B[39;49;00m\u001B[43m \u001B[49m\u001B[38;5;124;43m'\u001B[39;49m\u001B[38;5;124;43mutf-8\u001B[39;49m\u001B[38;5;124;43m'\u001B[39;49m\u001B[43m)\u001B[49m\n\u001B[1;32m    207\u001B[0m \u001B[38;5;28;01mif\u001B[39;00m open_info:\n\u001B[1;32m    208\u001B[0m     open_info\u001B[38;5;241m.\u001B[39msource_file \u001B[38;5;241m=\u001B[39m fname\n",
      "\u001B[0;31mFileNotFoundError\u001B[0m: [Errno 2] No such file or directory: '/home/mark/gitrepos/nmdc-schema/src/schema/mixs.yaml'"
     ]
    }
   ],
   "source": [
    "bs = v.induced_class('Biosample')"
   ],
   "metadata": {
    "collapsed": false
   }
  },
  {
   "cell_type": "code",
   "execution_count": null,
   "outputs": [],
   "source": [],
   "metadata": {
    "collapsed": false
   }
  }
 ],
 "metadata": {
  "kernelspec": {
   "display_name": "Python 3",
   "language": "python",
   "name": "python3"
  },
  "language_info": {
   "codemirror_mode": {
    "name": "ipython",
    "version": 2
   },
   "file_extension": ".py",
   "mimetype": "text/x-python",
   "name": "python",
   "nbconvert_exporter": "python",
   "pygments_lexer": "ipython2",
   "version": "2.7.6"
  }
 },
 "nbformat": 4,
 "nbformat_minor": 0
}
