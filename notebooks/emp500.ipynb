{
 "cells": [
  {
   "cell_type": "code",
   "execution_count": 323,
   "metadata": {
    "collapsed": true
   },
   "outputs": [],
   "source": [
    "import pandas as pd\n",
    "from linkml_runtime.utils.schemaview import SchemaView\n",
    "import yaml\n",
    "import string\n",
    "import random"
   ]
  },
  {
   "cell_type": "code",
   "execution_count": 324,
   "outputs": [],
   "source": [
    "emp500 = pd.read_csv('../assets/bp_PRJEB42019_biosamples.tsv', sep='\\t')"
   ],
   "metadata": {
    "collapsed": false
   }
  },
  {
   "cell_type": "code",
   "execution_count": 325,
   "outputs": [
    {
     "data": {
      "text/plain": "(1024, 547)"
     },
     "execution_count": 325,
     "metadata": {},
     "output_type": "execute_result"
    }
   ],
   "source": [
    "emp500.shape"
   ],
   "metadata": {
    "collapsed": false
   }
  },
  {
   "cell_type": "code",
   "execution_count": 326,
   "outputs": [],
   "source": [
    "emp500_populated_cols = emp500.dropna(axis=1, how='all')"
   ],
   "metadata": {
    "collapsed": false
   }
  },
  {
   "cell_type": "code",
   "execution_count": 327,
   "outputs": [
    {
     "data": {
      "text/plain": "(1024, 78)"
     },
     "execution_count": 327,
     "metadata": {},
     "output_type": "execute_result"
    }
   ],
   "source": [
    "emp500_populated_cols.shape"
   ],
   "metadata": {
    "collapsed": false
   }
  },
  {
   "cell_type": "code",
   "execution_count": 328,
   "outputs": [],
   "source": [
    "emp500_cols = list(emp500_populated_cols.columns)"
   ],
   "metadata": {
    "collapsed": false
   }
  },
  {
   "cell_type": "code",
   "execution_count": 329,
   "outputs": [],
   "source": [
    "emp500_cols.sort()"
   ],
   "metadata": {
    "collapsed": false
   }
  },
  {
   "cell_type": "code",
   "execution_count": 330,
   "outputs": [],
   "source": [
    "emp500_populated_cols.to_clipboard()"
   ],
   "metadata": {
    "collapsed": false
   }
  },
  {
   "cell_type": "code",
   "execution_count": 331,
   "outputs": [],
   "source": [
    "v = SchemaView('../src/schema/nmdc.yaml')"
   ],
   "metadata": {
    "collapsed": false
   }
  },
  {
   "cell_type": "code",
   "execution_count": 332,
   "outputs": [],
   "source": [
    "bs = v.induced_class('Biosample')"
   ],
   "metadata": {
    "collapsed": false
   }
  },
  {
   "cell_type": "code",
   "execution_count": 333,
   "outputs": [],
   "source": [
    "bs_slots = [str(k) for k,v in bs.attributes.items()]"
   ],
   "metadata": {
    "collapsed": false
   }
  },
  {
   "cell_type": "code",
   "execution_count": 334,
   "outputs": [],
   "source": [
    "bs_required_slots = [str(k) for k,v in bs.attributes.items() if v.required]"
   ],
   "metadata": {
    "collapsed": false
   }
  },
  {
   "cell_type": "code",
   "execution_count": 335,
   "outputs": [],
   "source": [
    "bs_slots.sort()"
   ],
   "metadata": {
    "collapsed": false
   }
  },
  {
   "cell_type": "code",
   "execution_count": 336,
   "outputs": [],
   "source": [
    "bs_required_slots.sort()"
   ],
   "metadata": {
    "collapsed": false
   }
  },
  {
   "cell_type": "code",
   "execution_count": 337,
   "outputs": [],
   "source": [
    "def useful_list_operations(emp500_list, bs_all, bs_required):\n",
    "    emp500_biosample_intersection = list(set(emp500_list) & set(bs_all))\n",
    "    emp500_biosample_intersection.sort()\n",
    "    # why is this messed up?\n",
    "\n",
    "    emp500_minus_biosample = list(set(emp500_list) - set(bs_all))\n",
    "    emp500_minus_biosample.sort()\n",
    "    biosample_required_minus_emp500 = list(set(bs_required) - set(emp500_list))\n",
    "    biosample_required_minus_emp500.sort()\n",
    "    return {\"emp500_biosample_intersection\": emp500_biosample_intersection,\n",
    "            \"emp500_minus_biosample\": emp500_minus_biosample,\n",
    "            \"biosample_required_minus_emp500\": biosample_required_minus_emp500}"
   ],
   "metadata": {
    "collapsed": false
   }
  },
  {
   "cell_type": "code",
   "execution_count": 338,
   "outputs": [],
   "source": [
    "emp500_vs_biosample = useful_list_operations(emp500_cols, bs_slots, bs_required_slots)"
   ],
   "metadata": {
    "collapsed": false
   }
  },
  {
   "cell_type": "code",
   "execution_count": 339,
   "outputs": [],
   "source": [
    "# with open(\"emp500_biosample_set_analysis.yaml\", \"w\") as f:\n",
    "#     # Dump the dictionary to YAML and write to the file\n",
    "#     yaml.dump(emp500_vs_biosample, f)\n"
   ],
   "metadata": {
    "collapsed": false
   }
  },
  {
   "cell_type": "code",
   "execution_count": 340,
   "outputs": [],
   "source": [
    "emp500_intersection_frame = emp500[emp500_vs_biosample['emp500_biosample_intersection']]"
   ],
   "metadata": {
    "collapsed": false
   }
  },
  {
   "cell_type": "code",
   "execution_count": 341,
   "outputs": [],
   "source": [
    "emp500_intersection_frame_plus = emp500_intersection_frame.reindex(\n",
    "    columns=emp500_intersection_frame.columns.tolist() + emp500_vs_biosample['biosample_required_minus_emp500'])"
   ],
   "metadata": {
    "collapsed": false
   }
  },
  {
   "cell_type": "code",
   "execution_count": 342,
   "outputs": [],
   "source": [
    "emp500_intersection_frame_plus['source_mat_id'] = emp500_intersection_frame_plus['id']"
   ],
   "metadata": {
    "collapsed": false
   }
  },
  {
   "cell_type": "code",
   "execution_count": 343,
   "outputs": [],
   "source": [
    "def random_suffix():\n",
    "    return ''.join(random.choices(string.ascii_uppercase, k=9))"
   ],
   "metadata": {
    "collapsed": false
   }
  },
  {
   "cell_type": "code",
   "execution_count": 344,
   "outputs": [],
   "source": [
    "emp500_intersection_frame_plus['source_mat_id'] = emp500_intersection_frame_plus['id']"
   ],
   "metadata": {
    "collapsed": false
   }
  },
  {
   "cell_type": "code",
   "execution_count": 345,
   "outputs": [],
   "source": [
    "emp500_intersection_frame_plus['id'] = ['nmdc:bsm-99-' + random_suffix() for i in range(len(emp500_intersection_frame_plus))]"
   ],
   "metadata": {
    "collapsed": false
   }
  },
  {
   "cell_type": "code",
   "execution_count": 346,
   "outputs": [],
   "source": [
    "emp500_intersection_frame_plus['depth'] = 999\n",
    "\n",
    "emp500_intersection_frame_plus['ecosystem'] = \"XYZ\"\n",
    "emp500_intersection_frame_plus['ecosystem_category'] = \"XYZ\"\n",
    "emp500_intersection_frame_plus['ecosystem_subtype'] = \"XYZ\"\n",
    "emp500_intersection_frame_plus['ecosystem_type'] = \"XYZ\"\n",
    "emp500_intersection_frame_plus['specific_ecosystem'] = \"XYZ\"\n",
    "\n",
    "emp500_intersection_frame_plus['growth_facil'] = \"XYZ\"\n"
   ],
   "metadata": {
    "collapsed": false
   }
  },
  {
   "cell_type": "code",
   "execution_count": 347,
   "outputs": [],
   "source": [
    "emp500_intersection_frame_plus.to_clipboard(index=False)"
   ],
   "metadata": {
    "collapsed": false
   }
  }
 ],
 "metadata": {
  "kernelspec": {
   "display_name": "Python 3",
   "language": "python",
   "name": "python3"
  },
  "language_info": {
   "codemirror_mode": {
    "name": "ipython",
    "version": 2
   },
   "file_extension": ".py",
   "mimetype": "text/x-python",
   "name": "python",
   "nbconvert_exporter": "python",
   "pygments_lexer": "ipython2",
   "version": "2.7.6"
  }
 },
 "nbformat": 4,
 "nbformat_minor": 0
}
