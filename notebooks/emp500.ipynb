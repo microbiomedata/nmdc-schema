{
 "cells": [
  {
   "cell_type": "code",
   "execution_count": 440,
   "metadata": {
    "collapsed": true
   },
   "outputs": [],
   "source": [
    "from linkml_runtime.linkml_model import ClassDefinition, EnumDefinition\n",
    "from linkml_runtime.utils.schemaview import SchemaView\n",
    "import pandas as pd\n",
    "import random\n",
    "import string\n",
    "import yaml"
   ]
  },
  {
   "cell_type": "code",
   "execution_count": 441,
   "outputs": [],
   "source": [
    "placeholder_string = \"XYZ\"\n",
    "placeholder_int = 999\n",
    "\n",
    "emp500_tsv_from_rdbms = '../assets/bp_PRJEB42019_biosamples.tsv'\n",
    "schema_yaml = \"../src/schema/nmdc.yaml\"\n",
    "target_class = \"Biosample\"\n",
    "biosample_id_prefix = 'nmdc:bsm-99-'\n",
    "output_yaml = \"../assets/emp500_biosample_set.yaml\""
   ],
   "metadata": {
    "collapsed": false
   }
  },
  {
   "cell_type": "code",
   "execution_count": 442,
   "outputs": [],
   "source": [
    "emp500 = pd.read_csv(emp500_tsv_from_rdbms, sep='\\t')"
   ],
   "metadata": {
    "collapsed": false
   }
  },
  {
   "cell_type": "code",
   "execution_count": 443,
   "outputs": [
    {
     "data": {
      "text/plain": "(1024, 547)"
     },
     "execution_count": 443,
     "metadata": {},
     "output_type": "execute_result"
    }
   ],
   "source": [
    "emp500.shape"
   ],
   "metadata": {
    "collapsed": false
   }
  },
  {
   "cell_type": "code",
   "execution_count": 444,
   "outputs": [],
   "source": [
    "emp500_populated_cols = emp500.dropna(axis=1, how='all')"
   ],
   "metadata": {
    "collapsed": false
   }
  },
  {
   "cell_type": "code",
   "execution_count": 445,
   "outputs": [
    {
     "data": {
      "text/plain": "(1024, 78)"
     },
     "execution_count": 445,
     "metadata": {},
     "output_type": "execute_result"
    }
   ],
   "source": [
    "emp500_populated_cols.shape"
   ],
   "metadata": {
    "collapsed": false
   }
  },
  {
   "cell_type": "code",
   "execution_count": 446,
   "outputs": [],
   "source": [
    "emp500_cols = list(emp500_populated_cols.columns)"
   ],
   "metadata": {
    "collapsed": false
   }
  },
  {
   "cell_type": "code",
   "execution_count": 447,
   "outputs": [],
   "source": [
    "emp500_cols.sort()"
   ],
   "metadata": {
    "collapsed": false
   }
  },
  {
   "cell_type": "code",
   "execution_count": 448,
   "outputs": [],
   "source": [
    "emp500_populated_cols.to_clipboard()"
   ],
   "metadata": {
    "collapsed": false
   }
  },
  {
   "cell_type": "code",
   "execution_count": 449,
   "outputs": [],
   "source": [
    "v = SchemaView(schema_yaml)"
   ],
   "metadata": {
    "collapsed": false
   }
  },
  {
   "cell_type": "code",
   "execution_count": 450,
   "outputs": [],
   "source": [
    "bs = v.induced_class(target_class)"
   ],
   "metadata": {
    "collapsed": false
   }
  },
  {
   "cell_type": "code",
   "execution_count": 451,
   "outputs": [],
   "source": [
    "bs_slots = [str(k) for k, v in bs.attributes.items()]"
   ],
   "metadata": {
    "collapsed": false
   }
  },
  {
   "cell_type": "code",
   "execution_count": 452,
   "outputs": [],
   "source": [
    "bs_required_slots = [str(k) for k, v in bs.attributes.items() if v.required]"
   ],
   "metadata": {
    "collapsed": false
   }
  },
  {
   "cell_type": "code",
   "execution_count": 453,
   "outputs": [],
   "source": [
    "bs_slots.sort()"
   ],
   "metadata": {
    "collapsed": false
   }
  },
  {
   "cell_type": "code",
   "execution_count": 454,
   "outputs": [],
   "source": [
    "bs_required_slots.sort()"
   ],
   "metadata": {
    "collapsed": false
   }
  },
  {
   "cell_type": "code",
   "execution_count": 455,
   "outputs": [],
   "source": [
    "def useful_list_operations(emp500_list, bs_all, bs_required):\n",
    "    emp500_biosample_intersection = list(set(emp500_list) & set(bs_all))\n",
    "    emp500_biosample_intersection.sort()\n",
    "\n",
    "    emp500_minus_biosample = list(set(emp500_list) - set(bs_all))\n",
    "    emp500_minus_biosample.sort()\n",
    "    biosample_required_minus_emp500 = list(set(bs_required) - set(emp500_list))\n",
    "    biosample_required_minus_emp500.sort()\n",
    "    return {\"emp500_biosample_intersection\": emp500_biosample_intersection,\n",
    "            \"emp500_minus_biosample\": emp500_minus_biosample,\n",
    "            \"biosample_required_minus_emp500\": biosample_required_minus_emp500}"
   ],
   "metadata": {
    "collapsed": false
   }
  },
  {
   "cell_type": "code",
   "execution_count": 456,
   "outputs": [],
   "source": [
    "emp500_vs_biosample = useful_list_operations(emp500_cols, bs_slots, bs_required_slots)"
   ],
   "metadata": {
    "collapsed": false
   }
  },
  {
   "cell_type": "code",
   "execution_count": 457,
   "outputs": [],
   "source": [
    "emp500_intersection_frame = emp500[emp500_vs_biosample['emp500_biosample_intersection']]"
   ],
   "metadata": {
    "collapsed": false
   }
  },
  {
   "cell_type": "code",
   "execution_count": 458,
   "outputs": [],
   "source": [
    "emp500_intersection_frame_plus = emp500_intersection_frame.reindex(\n",
    "    columns=emp500_intersection_frame.columns.tolist() + emp500_vs_biosample['biosample_required_minus_emp500'])"
   ],
   "metadata": {
    "collapsed": false
   }
  },
  {
   "cell_type": "code",
   "execution_count": 459,
   "outputs": [],
   "source": [
    "emp500_intersection_frame_plus['source_mat_id'] = emp500_intersection_frame_plus['id']"
   ],
   "metadata": {
    "collapsed": false
   }
  },
  {
   "cell_type": "code",
   "execution_count": 460,
   "outputs": [],
   "source": [
    "def random_suffix():\n",
    "    return ''.join(random.choices(string.ascii_uppercase, k=9))"
   ],
   "metadata": {
    "collapsed": false
   }
  },
  {
   "cell_type": "code",
   "execution_count": 461,
   "outputs": [],
   "source": [
    "emp500_intersection_frame_plus['source_mat_id'] = emp500_intersection_frame_plus['id']"
   ],
   "metadata": {
    "collapsed": false
   }
  },
  {
   "cell_type": "code",
   "execution_count": 462,
   "outputs": [],
   "source": [
    "emp500_intersection_frame_plus['id'] = [biosample_id_prefix + random_suffix() for i in\n",
    "                                        range(len(emp500_intersection_frame_plus))]"
   ],
   "metadata": {
    "collapsed": false
   }
  },
  {
   "cell_type": "code",
   "execution_count": 463,
   "outputs": [],
   "source": [
    "\n",
    "emp500_intersection_frame_plus['depth'] = placeholder_int\n",
    "\n",
    "# don't expect to get these from NCBI\n",
    "emp500_intersection_frame_plus['ecosystem'] = placeholder_string\n",
    "emp500_intersection_frame_plus['ecosystem_category'] = placeholder_string\n",
    "emp500_intersection_frame_plus['ecosystem_subtype'] = placeholder_string\n",
    "emp500_intersection_frame_plus['ecosystem_type'] = placeholder_string\n",
    "emp500_intersection_frame_plus['specific_ecosystem'] = placeholder_string\n",
    "\n",
    "# didn't realize these were required!!!\n",
    "emp500_intersection_frame_plus['growth_facil'] = placeholder_string\n",
    "emp500_intersection_frame_plus['samp_store_temp'] = placeholder_int\n",
    "emp500_intersection_frame_plus['store_cond'] = placeholder_string\n"
   ],
   "metadata": {
    "collapsed": false
   }
  },
  {
   "cell_type": "code",
   "execution_count": 464,
   "outputs": [],
   "source": [
    "emp500_intersection_frame_plus.to_clipboard(index=False)"
   ],
   "metadata": {
    "collapsed": false
   }
  },
  {
   "cell_type": "code",
   "execution_count": 465,
   "outputs": [],
   "source": [
    "dict_list = emp500_intersection_frame_plus.to_dict(orient='records')"
   ],
   "metadata": {
    "collapsed": false
   }
  },
  {
   "cell_type": "code",
   "execution_count": 466,
   "outputs": [],
   "source": [
    "# really don't want to test against string \"nan\"... that should theoretically be legal\n",
    "dict_list_without_missings = [\n",
    "    {k: v for k, v in d.items() if str(v) not in [\"\", \"nan\"]} for d in\n",
    "    dict_list]\n"
   ],
   "metadata": {
    "collapsed": false
   }
  },
  {
   "cell_type": "code",
   "execution_count": 467,
   "outputs": [],
   "source": [
    "for my_dict in dict_list_without_missings:\n",
    "    for key, value in my_dict.items():\n",
    "        try:\n",
    "            my_dict[key] = float(value)\n",
    "        except ValueError:\n",
    "            pass"
   ],
   "metadata": {
    "collapsed": false
   }
  },
  {
   "cell_type": "code",
   "execution_count": 468,
   "outputs": [],
   "source": [
    "keys_used = set()\n",
    "for my_dict in dict_list_without_missings:\n",
    "    for key in my_dict.keys():\n",
    "        keys_used.add(key)"
   ],
   "metadata": {
    "collapsed": false
   }
  },
  {
   "cell_type": "code",
   "execution_count": 469,
   "outputs": [],
   "source": [
    "ranges_used = dict()\n",
    "for key in keys_used:\n",
    "    ranges_used[key] = bs.attributes[key].range"
   ],
   "metadata": {
    "collapsed": false
   }
  },
  {
   "cell_type": "code",
   "execution_count": 470,
   "outputs": [],
   "source": [
    "keys_by_range = {}\n",
    "for key, value in ranges_used.items():\n",
    "    if value not in keys_by_range:\n",
    "        keys_by_range[value] = []\n",
    "    keys_by_range[value].append(key)"
   ],
   "metadata": {
    "collapsed": false
   }
  },
  {
   "cell_type": "code",
   "execution_count": 471,
   "outputs": [],
   "source": [
    "def cast_to_range(val_in, key_name, ranges_used_dict):\n",
    "    my_range = ranges_used_dict[key_name]\n",
    "    range_obj = v.get_element(my_range)\n",
    "    if type(range_obj) == ClassDefinition and str(range_obj.is_a) == \"AttributeValue\":\n",
    "        return {\"has_raw_value\": val_in}\n",
    "    elif type(range_obj) == EnumDefinition:\n",
    "        pass\n",
    "    elif my_range == \"string\":\n",
    "        return str(val_in)\n",
    "    elif my_range == \"float\":\n",
    "        try:\n",
    "            return float(val_in)\n",
    "        except ValueError:\n",
    "            return None\n",
    "    elif my_range == \"ControlledIdentifiedTermValue\":\n",
    "        return {\"has_raw_value\": val_in, \"term\": {\"id\": f\"{placeholder_string}:{placeholder_int}\"}}\n",
    "    elif my_range == \"ControlledTermValue\":\n",
    "        return {\"has_raw_value\": val_in}\n",
    "    elif my_range == \"date\":\n",
    "        pass\n",
    "    else:\n",
    "        # raise ValueError(\"Unknown range: \" + my_range)\n",
    "        return val_in\n"
   ],
   "metadata": {
    "collapsed": false
   }
  },
  {
   "cell_type": "code",
   "execution_count": 472,
   "outputs": [],
   "source": [
    "casted = [\n",
    "    {k: cast_to_range(v, k, ranges_used) for k, v in d.items()} for d in\n",
    "    dict_list_without_missings]"
   ],
   "metadata": {
    "collapsed": false
   }
  },
  {
   "cell_type": "code",
   "execution_count": 473,
   "outputs": [],
   "source": [
    "outer_dict = {\"biosample_set\": casted}"
   ],
   "metadata": {
    "collapsed": false
   }
  },
  {
   "cell_type": "code",
   "execution_count": 474,
   "outputs": [],
   "source": [
    "with open(output_yaml, \"w\") as f:\n",
    "    # Dump the dictionary to YAML and write to the file\n",
    "    yaml.dump(outer_dict, f)"
   ],
   "metadata": {
    "collapsed": false
   }
  }
 ],
 "metadata": {
  "kernelspec": {
   "display_name": "Python 3",
   "language": "python",
   "name": "python3"
  },
  "language_info": {
   "codemirror_mode": {
    "name": "ipython",
    "version": 2
   },
   "file_extension": ".py",
   "mimetype": "text/x-python",
   "name": "python",
   "nbconvert_exporter": "python",
   "pygments_lexer": "ipython2",
   "version": "2.7.6"
  }
 },
 "nbformat": 4,
 "nbformat_minor": 0
}
