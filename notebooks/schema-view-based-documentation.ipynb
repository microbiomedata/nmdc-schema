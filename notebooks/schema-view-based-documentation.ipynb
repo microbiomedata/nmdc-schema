{
 "cells": [
  {
   "cell_type": "code",
   "metadata": {
    "collapsed": true,
    "ExecuteTime": {
     "end_time": "2024-06-11T16:54:45.446824Z",
     "start_time": "2024-06-11T16:54:44.947307Z"
    }
   },
   "source": [
    "from linkml_runtime.dumpers import yaml_dumper\n",
    "from nmdc_schema.get_nmdc_view import ViewGetter\n",
    "\n",
    "import pprint\n"
   ],
   "outputs": [],
   "execution_count": 1
  },
  {
   "metadata": {
    "ExecuteTime": {
     "end_time": "2024-06-11T16:54:46.659547Z",
     "start_time": "2024-06-11T16:54:45.448522Z"
    }
   },
   "cell_type": "code",
   "source": [
    "vg = ViewGetter()\n",
    "view = vg.get_view()"
   ],
   "outputs": [],
   "execution_count": 2
  },
  {
   "metadata": {},
   "cell_type": "markdown",
   "source": "## Show a slot from the schema"
  },
  {
   "metadata": {
    "ExecuteTime": {
     "end_time": "2024-06-11T16:58:59.027867Z",
     "start_time": "2024-06-11T16:58:59.020973Z"
    }
   },
   "cell_type": "code",
   "source": [
    "s = view.get_slot('gold_biosample_identifiers')\n",
    "print(yaml_dumper.dumps(s))"
   ],
   "outputs": [
    {
     "name": "stdout",
     "output_type": "stream",
     "text": [
      "name: gold_biosample_identifiers\n",
      "description: identifiers for corresponding sample in GOLD\n",
      "examples:\n",
      "- value: https://bioregistry.io/gold:Gb0312930\n",
      "from_schema: https://w3id.org/nmdc/nmdc\n",
      "is_a: biosample_identifiers\n",
      "mixins:\n",
      "- gold_identifiers\n",
      "range: uriorcurie\n",
      "pattern: ^gold:Gb[0-9]+$\n",
      "\n"
     ]
    }
   ],
   "execution_count": 11
  },
  {
   "metadata": {},
   "cell_type": "markdown",
   "source": "## Find ancestors of a named slot"
  },
  {
   "cell_type": "code",
   "source": [
    "sa = view.slot_ancestors(\"gold_biosample_identifiers\")\n",
    "pprint.pprint(sa)"
   ],
   "metadata": {
    "collapsed": false,
    "ExecuteTime": {
     "end_time": "2024-06-11T17:02:40.239514Z",
     "start_time": "2024-06-11T17:02:40.235760Z"
    }
   },
   "outputs": [
    {
     "name": "stdout",
     "output_type": "stream",
     "text": [
      "['gold_biosample_identifiers',\n",
      " 'gold_identifiers',\n",
      " 'biosample_identifiers',\n",
      " 'external_database_identifiers',\n",
      " 'alternative_identifiers']\n"
     ]
    }
   ],
   "execution_count": 14
  },
  {
   "metadata": {},
   "cell_type": "markdown",
   "source": "## Find classes that use a slot"
  },
  {
   "cell_type": "code",
   "source": [
    "target_slot = view.get_slot(\"gold_biosample_identifiers\")\n",
    "slot_users = view.get_classes_by_slot(target_slot)\n",
    "pprint.pprint(slot_users)"
   ],
   "metadata": {
    "collapsed": false,
    "ExecuteTime": {
     "end_time": "2024-06-11T17:06:56.550963Z",
     "start_time": "2024-06-11T17:06:56.544949Z"
    }
   },
   "outputs": [
    {
     "name": "stdout",
     "output_type": "stream",
     "text": [
      "['Biosample']\n"
     ]
    }
   ],
   "execution_count": 18
  },
  {
   "metadata": {},
   "cell_type": "markdown",
   "source": "## Iterate through all classes to find the ones that use any named slot"
  },
  {
   "cell_type": "code",
   "source": [
    "all_class_names = list(view.all_classes().keys())\n",
    "all_class_names.sort()"
   ],
   "metadata": {
    "collapsed": false,
    "ExecuteTime": {
     "end_time": "2024-06-11T17:08:28.272010Z",
     "start_time": "2024-06-11T17:08:28.268356Z"
    }
   },
   "outputs": [],
   "execution_count": 19
  },
  {
   "cell_type": "code",
   "source": [
    "slots_of_interest = ['has_input', 'has_outputs']\n",
    "for class_name in all_class_names:\n",
    "    class_slots = view.class_induced_slots(class_name)\n",
    "    class_slot_names = [s.name for s in class_slots]\n",
    "    for slot_name in class_slot_names:\n",
    "        if slot_name in slots_of_interest:\n",
    "            print(f\"{class_name} uses {slot_name}\")\n"
   ],
   "metadata": {
    "collapsed": false,
    "ExecuteTime": {
     "end_time": "2024-06-11T17:08:28.967176Z",
     "start_time": "2024-06-11T17:08:28.958711Z"
    }
   },
   "outputs": [
    {
     "name": "stdout",
     "output_type": "stream",
     "text": [
      "ChemicalConversionProcess uses has_input\n",
      "ChromatographicSeparationProcess uses has_input\n",
      "CollectingBiosamplesFromSite uses has_input\n",
      "DataGeneration uses has_input\n",
      "DissolvingProcess uses has_input\n",
      "Extraction uses has_input\n",
      "FiltrationProcess uses has_input\n",
      "LibraryPreparation uses has_input\n",
      "MagsAnalysis uses has_input\n",
      "MassSpectrometry uses has_input\n",
      "MaterialProcessing uses has_input\n",
      "MetabolomicsAnalysis uses has_input\n",
      "MetagenomeAnnotation uses has_input\n",
      "MetagenomeAssembly uses has_input\n",
      "MetagenomeSequencing uses has_input\n",
      "MetaproteomicsAnalysis uses has_input\n",
      "MetatranscriptomeAnalysis uses has_input\n",
      "MetatranscriptomeAnnotation uses has_input\n",
      "MetatranscriptomeAssembly uses has_input\n",
      "MixingProcess uses has_input\n",
      "NomAnalysis uses has_input\n",
      "NucleotideSequencing uses has_input\n",
      "PlannedProcess uses has_input\n",
      "Pooling uses has_input\n",
      "ProtocolExecution uses has_input\n",
      "ReadBasedTaxonomyAnalysis uses has_input\n",
      "ReadQcAnalysis uses has_input\n",
      "StorageProcess uses has_input\n",
      "SubSamplingProcess uses has_input\n",
      "WorkflowChain uses has_input\n",
      "WorkflowExecution uses has_input\n"
     ]
    }
   ],
   "execution_count": 20
  },
  {
   "cell_type": "code",
   "execution_count": null,
   "outputs": [],
   "source": [],
   "metadata": {
    "collapsed": false
   }
  }
 ],
 "metadata": {
  "kernelspec": {
   "display_name": "Python 3",
   "language": "python",
   "name": "python3"
  },
  "language_info": {
   "codemirror_mode": {
    "name": "ipython",
    "version": 2
   },
   "file_extension": ".py",
   "mimetype": "text/x-python",
   "name": "python",
   "nbconvert_exporter": "python",
   "pygments_lexer": "ipython2",
   "version": "2.7.6"
  }
 },
 "nbformat": 4,
 "nbformat_minor": 0
}
