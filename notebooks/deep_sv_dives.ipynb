{
 "cells": [
  {
   "metadata": {},
   "cell_type": "markdown",
   "source": [
    "* annotation_dict\n",
    "* get_classes_by_slot\n",
    "* get_classes_modifying_slot\n",
    "* get_elements_applicable_by_identifier\n",
    "* get_elements_applicable_by_prefix\n",
    "* get_slots_by_enum\n",
    "* get_uri\n",
    "* importmap\n",
    "* in_schema\n",
    "* slot_applicable_range_elements\n",
    "* slot_is_true_for_metadata_property\n",
    "* slot_name_mappings\n",
    "* slot_range_as_union\n",
    "\n",
    "## don't understand\n",
    "\n",
    "* class_name_mappings\n",
    "* get_mapping_index\n",
    "* imports_closure\n",
    "* namespaces\n",
    "\n",
    "# haven't tried yet\n",
    "\n",
    "* get_elements_applicable_by_identifier\n",
    "* get_elements_applicable_by_prefix"
   ],
   "id": "5059ddb9693686d8"
  },
  {
   "metadata": {
    "ExecuteTime": {
     "end_time": "2025-10-21T18:55:33.875258Z",
     "start_time": "2025-10-21T18:55:32.515760Z"
    }
   },
   "cell_type": "code",
   "source": [
    "from linkml_runtime.utils.schemaview import SchemaView\n",
    "import yaml\n",
    "import pandas as pd\n",
    "from linkml_runtime.linkml_model import SlotDefinition\n",
    "import inspect\n"
   ],
   "id": "439f01505e24f770",
   "outputs": [],
   "execution_count": 1
  },
  {
   "cell_type": "code",
   "id": "initial_id",
   "metadata": {
    "collapsed": true,
    "ExecuteTime": {
     "end_time": "2025-10-21T18:55:34.735536Z",
     "start_time": "2025-10-21T18:55:34.732661Z"
    }
   },
   "source": [
    "# schema_file = \"../nmdc_schema/nmdc_materialized_patterns.yaml\"\n",
    "schema_file = \"../src/schema/nmdc.yaml\""
   ],
   "outputs": [],
   "execution_count": 2
  },
  {
   "metadata": {
    "ExecuteTime": {
     "end_time": "2025-10-21T18:55:35.854268Z",
     "start_time": "2025-10-21T18:55:35.851575Z"
    }
   },
   "cell_type": "code",
   "source": "meta_file = \"../metamodel/no_orphans.yaml\"",
   "id": "51afea63348f329f",
   "outputs": [],
   "execution_count": 3
  },
  {
   "metadata": {
    "ExecuteTime": {
     "end_time": "2025-10-21T18:55:36.805470Z",
     "start_time": "2025-10-21T18:55:36.801545Z"
    }
   },
   "cell_type": "code",
   "source": "def get_element_names_and_origin(schema_view: SchemaView) -> dict[str, str]:\n    \"\"\"Get a mapping of element names to their origin schema.\n    \n    Args:\n        schema_view: A LinkML SchemaView instance\n        \n    Returns:\n        Dictionary mapping element names to their from_schema values\n    \"\"\"\n    return {name: element.from_schema \n            for name, element in schema_view.all_elements().items()}",
   "id": "962824750b1d1c1c",
   "outputs": [],
   "execution_count": 4
  },
  {
   "cell_type": "code",
   "id": "igjaic4lhwc",
   "source": "def analyze_slot_usage(slot_name, schema_view, all_slots_dict):\n    \"\"\"Analyze all the ways a slot is used in the schema.\"\"\"\n    \n    # Get the slot object\n    slot = schema_view.get_slot(slot_name)\n    \n    # Check for is_a children\n    children = schema_view.slot_children(slot_name, mixins=False, is_a=True)\n    \n    # Check which classes use this slot\n    classes_using = schema_view.get_classes_by_slot(slot)\n    \n    # Check which classes modify this slot\n    classes_modifying = schema_view.get_classes_modifying_slot(slot)\n    \n    # Check if used as slot_group\n    slots_grouped = [k for k, v in all_slots_dict.items() if v.slot_group == slot_name]\n    \n    # Check if used as a mixin by other slots\n    slots_using_as_mixin = [\n        k for k, v in all_slots_dict.items() \n        if v.mixins and slot_name in v.mixins\n    ]\n    \n    # Check deprecation status\n    is_deprecated = slot.deprecated is not None and slot.deprecated != \"\"\n    has_exact_replacement = slot.deprecated_element_has_exact_replacement is not None\n    has_possible_replacement = slot.deprecated_element_has_possible_replacement is not None\n    deprecation_count = sum([is_deprecated, has_exact_replacement, has_possible_replacement])\n    \n    # Check if it's a grouping slot itself\n    is_grouping = getattr(slot, 'grouping', None)\n    \n    return {\n        'slot_name': slot_name,\n        'has_children': len(children) > 0,\n        'num_children': len(children),\n        'children': children if children else None,\n        'used_in_classes': len(classes_using) > 0,\n        'num_classes': len(classes_using),\n        'classes': classes_using if classes_using else None,\n        'modified_by_classes': len(classes_modifying) > 0,\n        'num_modifying': len(classes_modifying),\n        'groups_other_slots': len(slots_grouped) > 0,\n        'num_grouped': len(slots_grouped),\n        'grouped_slots': slots_grouped if slots_grouped else None,\n        'used_as_mixin': len(slots_using_as_mixin) > 0,\n        'num_mixin_usage': len(slots_using_as_mixin),\n        'mixin_users': slots_using_as_mixin if slots_using_as_mixin else None,\n        'is_deprecated': is_deprecated,\n        'has_exact_replacement': has_exact_replacement,\n        'has_possible_replacement': has_possible_replacement,\n        'deprecation_count': deprecation_count,\n        'deprecated_message': slot.deprecated if is_deprecated else None,\n        'is_grouping_slot': is_grouping,\n        'from_schema': slot.from_schema\n    }",
   "metadata": {
    "ExecuteTime": {
     "end_time": "2025-10-21T18:55:37.726595Z",
     "start_time": "2025-10-21T18:55:37.718114Z"
    }
   },
   "outputs": [],
   "execution_count": 5
  },
  {
   "cell_type": "code",
   "id": "vyia9myktjo",
   "source": "def create_slot_usage_summary(slot_names, schema_view, all_slots_dict):\n    \"\"\"Create a usage summary dataframe for a list of slot names.\"\"\"\n    usage_results = [analyze_slot_usage(name, schema_view, all_slots_dict) for name in slot_names]\n    \n    usage_summary_df = pd.DataFrame([\n        {\n            'slot_name': result['slot_name'],\n            'num_children': result['num_children'],\n            'num_classes': result['num_classes'],\n            'num_modifying': result['num_modifying'],\n            'num_grouped': result['num_grouped'],\n            'num_mixin_usage': result['num_mixin_usage'],\n            'deprecation_count': result['deprecation_count'],\n            'from_schema': result['from_schema']\n        }\n        for result in usage_results\n    ])\n    \n    return usage_summary_df, usage_results",
   "metadata": {
    "ExecuteTime": {
     "end_time": "2025-10-21T18:55:38.607334Z",
     "start_time": "2025-10-21T18:55:38.602334Z"
    }
   },
   "outputs": [],
   "execution_count": 6
  },
  {
   "cell_type": "code",
   "id": "20h0dljlq09",
   "source": "def filter_to_unused_slots(usage_summary_df):\n    \"\"\"Filter a usage summary dataframe to show only unused slots.\"\"\"\n    return usage_summary_df[\n        (usage_summary_df['num_children'] == 0) & \n        (usage_summary_df['num_classes'] == 0) & \n        (usage_summary_df['num_grouped'] == 0) &\n        (usage_summary_df['num_mixin_usage'] == 0)\n    ]",
   "metadata": {
    "ExecuteTime": {
     "end_time": "2025-10-21T18:55:39.593880Z",
     "start_time": "2025-10-21T18:55:39.590014Z"
    }
   },
   "outputs": [],
   "execution_count": 7
  },
  {
   "metadata": {
    "ExecuteTime": {
     "end_time": "2025-10-21T18:55:40.647791Z",
     "start_time": "2025-10-21T18:55:40.556655Z"
    }
   },
   "cell_type": "code",
   "source": "schema_view = SchemaView(schema_file)",
   "id": "624105097f200aba",
   "outputs": [],
   "execution_count": 8
  },
  {
   "metadata": {
    "ExecuteTime": {
     "end_time": "2025-10-21T18:55:41.632616Z",
     "start_time": "2025-10-21T18:55:41.628423Z"
    }
   },
   "cell_type": "code",
   "source": "meta_view = SchemaView(meta_file)",
   "id": "88b38f8f51fd25c9",
   "outputs": [],
   "execution_count": 9
  },
  {
   "metadata": {},
   "cell_type": "markdown",
   "source": "----\n",
   "id": "7c659d4cf752b7fb"
  },
  {
   "metadata": {
    "ExecuteTime": {
     "end_time": "2025-10-21T18:55:44.639465Z",
     "start_time": "2025-10-21T18:55:43.718486Z"
    }
   },
   "cell_type": "code",
   "source": [
    "current_slot_name = \"depth\"\n",
    "current_slot = schema_view.get_slot(current_slot_name)"
   ],
   "id": "ebaeff3859611dab",
   "outputs": [],
   "execution_count": 10
  },
  {
   "metadata": {
    "ExecuteTime": {
     "end_time": "2025-10-21T18:55:45.479114Z",
     "start_time": "2025-10-21T18:55:45.468746Z"
    }
   },
   "cell_type": "code",
   "source": [
    "current_classes = schema_view.get_classes_by_slot(current_slot)\n",
    "current_classes"
   ],
   "id": "8f88e027c238d59e",
   "outputs": [
    {
     "data": {
      "text/plain": [
       "['Biosample']"
      ]
     },
     "execution_count": 11,
     "metadata": {},
     "output_type": "execute_result"
    }
   ],
   "execution_count": 11
  },
  {
   "metadata": {
    "ExecuteTime": {
     "end_time": "2025-10-21T18:55:47.223311Z",
     "start_time": "2025-10-21T18:55:47.218118Z"
    }
   },
   "cell_type": "code",
   "source": [
    "current_ancestors = schema_view.slot_ancestors(current_slot_name, reflexive=False)\n",
    "current_ancestors\n",
    "# ['environment field'] is a parent of depth"
   ],
   "id": "2f7d983b8059993e",
   "outputs": [
    {
     "data": {
      "text/plain": [
       "['environment field']"
      ]
     },
     "execution_count": 12,
     "metadata": {},
     "output_type": "execute_result"
    }
   ],
   "execution_count": 12
  },
  {
   "metadata": {
    "ExecuteTime": {
     "end_time": "2025-10-21T18:55:48.341191Z",
     "start_time": "2025-10-21T18:55:48.326185Z"
    }
   },
   "cell_type": "code",
   "source": [
    "cousins = schema_view.slot_descendants(current_ancestors[0], reflexive=False)\n",
    "cousins"
   ],
   "id": "7c7f72148dffbb94",
   "outputs": [
    {
     "data": {
      "text/plain": [
       "['alt', 'collection_date', 'depth', 'elev', 'geo_loc_name', 'lat_lon', 'temp']"
      ]
     },
     "execution_count": 13,
     "metadata": {},
     "output_type": "execute_result"
    }
   ],
   "execution_count": 13
  },
  {
   "metadata": {
    "ExecuteTime": {
     "end_time": "2025-10-21T18:55:49.312377Z",
     "start_time": "2025-10-21T18:55:49.304661Z"
    }
   },
   "cell_type": "code",
   "source": [
    "current_range_as_union = schema_view.slot_range_as_union(current_slot)\n",
    "current_range_as_union"
   ],
   "id": "824bac8261376d81",
   "outputs": [
    {
     "data": {
      "text/plain": [
       "['QuantityValue']"
      ]
     },
     "execution_count": 14,
     "metadata": {},
     "output_type": "execute_result"
    }
   ],
   "execution_count": 14
  },
  {
   "metadata": {
    "ExecuteTime": {
     "end_time": "2025-10-21T18:55:50.189775Z",
     "start_time": "2025-10-21T18:55:50.185057Z"
    }
   },
   "cell_type": "code",
   "source": [
    "current_applicable_range_elements = schema_view.slot_applicable_range_elements(current_slot)\n",
    "current_applicable_range_elements"
   ],
   "id": "e72cff66cba933df",
   "outputs": [
    {
     "data": {
      "text/plain": [
       "['class_definition']"
      ]
     },
     "execution_count": 15,
     "metadata": {},
     "output_type": "execute_result"
    }
   ],
   "execution_count": 15
  },
  {
   "metadata": {
    "ExecuteTime": {
     "end_time": "2025-10-21T18:55:51.147211Z",
     "start_time": "2025-10-21T18:55:51.145007Z"
    }
   },
   "cell_type": "code",
   "source": [
    "# list of slot metaslots\n",
    "# [attr for attr in dir(SlotDefinition) if not attr.startswith('_')]\n",
    "# might be of interest for slot_is_true_for_metadata_property(slot_name, metadata_property)\n",
    "\n"
   ],
   "id": "d858db6d3f629fff",
   "outputs": [],
   "execution_count": 16
  },
  {
   "metadata": {
    "ExecuteTime": {
     "end_time": "2025-10-21T18:55:52.039164Z",
     "start_time": "2025-10-21T18:55:52.035490Z"
    }
   },
   "cell_type": "code",
   "source": "schema_slots = schema_view.all_slots()",
   "id": "f0d306896d628482",
   "outputs": [],
   "execution_count": 17
  },
  {
   "metadata": {
    "ExecuteTime": {
     "end_time": "2025-10-21T18:55:52.990620Z",
     "start_time": "2025-10-21T18:55:52.984539Z"
    }
   },
   "cell_type": "code",
   "source": [
    "slots_with_groups_df = pd.DataFrame([\n",
    "    {'slot': k, 'from_schema': v.from_schema, 'slot_group': v.slot_group}\n",
    "    for k, v in schema_slots.items()\n",
    "    if v.slot_group\n",
    "])\n"
   ],
   "id": "70a8a0ec8812072",
   "outputs": [],
   "execution_count": 18
  },
  {
   "metadata": {
    "ExecuteTime": {
     "end_time": "2025-10-21T18:55:54.086089Z",
     "start_time": "2025-10-21T18:55:54.069610Z"
    }
   },
   "cell_type": "code",
   "source": "slots_with_groups_df",
   "id": "b379be535435944d",
   "outputs": [
    {
     "data": {
      "text/plain": [
       "                         slot  \\\n",
       "0                 dna_absorb1   \n",
       "1                 dna_absorb2   \n",
       "2           dna_concentration   \n",
       "3             emsl_store_temp   \n",
       "4                  project_id   \n",
       "5            replicate_number   \n",
       "6              sample_shipped   \n",
       "7                 sample_type   \n",
       "8              technical_reps   \n",
       "9            dna_collect_site   \n",
       "10           dna_isolate_meth   \n",
       "11              dna_organisms   \n",
       "12           rna_collect_site   \n",
       "13           rna_isolate_meth   \n",
       "14              rna_organisms   \n",
       "15        collection_date_inc   \n",
       "16            collection_time   \n",
       "17        collection_time_inc   \n",
       "18  experimental_factor_other   \n",
       "19              filter_method   \n",
       "20           isotope_exposure   \n",
       "21       micro_biomass_c_meth   \n",
       "22       micro_biomass_n_meth   \n",
       "23        microbial_biomass_c   \n",
       "24        microbial_biomass_n   \n",
       "25         non_microb_biomass   \n",
       "26  non_microb_biomass_method   \n",
       "27           org_nitro_method   \n",
       "28            other_treatment   \n",
       "29             start_date_inc   \n",
       "30             start_time_inc   \n",
       "31              analysis_type   \n",
       "32                sample_link   \n",
       "\n",
       "                                          from_schema               slot_group  \n",
       "0                          https://w3id.org/nmdc/core         JGI-Metagenomics  \n",
       "1                          https://w3id.org/nmdc/core         JGI-Metagenomics  \n",
       "2                   https://w3id.org/nmdc/basic_slots         JGI-Metagenomics  \n",
       "3                          https://w3id.org/nmdc/emsl                     EMSL  \n",
       "4                          https://w3id.org/nmdc/emsl                     EMSL  \n",
       "5                          https://w3id.org/nmdc/emsl                     EMSL  \n",
       "6                          https://w3id.org/nmdc/emsl                     EMSL  \n",
       "7                          https://w3id.org/nmdc/emsl                     EMSL  \n",
       "8                          https://w3id.org/nmdc/emsl                     EMSL  \n",
       "9       https://w3id.org/nmdc/portal/jgi_metagenomics         JGI-Metagenomics  \n",
       "10      https://w3id.org/nmdc/portal/jgi_metagenomics         JGI-Metagenomics  \n",
       "11      https://w3id.org/nmdc/portal/jgi_metagenomics         JGI-Metagenomics  \n",
       "12  https://w3id.org/nmdc/portal/jgi_metatranscrip...  JGI-Metatranscriptomics  \n",
       "13  https://w3id.org/nmdc/portal/jgi_metatranscrip...  JGI-Metatranscriptomics  \n",
       "14  https://w3id.org/nmdc/portal/jgi_metatranscrip...  JGI-Metatranscriptomics  \n",
       "15         https://w3id.org/nmdc/portal/mixs_inspired            MIxS Inspired  \n",
       "16         https://w3id.org/nmdc/portal/mixs_inspired            MIxS Inspired  \n",
       "17         https://w3id.org/nmdc/portal/mixs_inspired            MIxS Inspired  \n",
       "18         https://w3id.org/nmdc/portal/mixs_inspired            MIxS Inspired  \n",
       "19         https://w3id.org/nmdc/portal/mixs_inspired            MIxS Inspired  \n",
       "20         https://w3id.org/nmdc/portal/mixs_inspired            MIxS Inspired  \n",
       "21         https://w3id.org/nmdc/portal/mixs_inspired            MIxS Inspired  \n",
       "22         https://w3id.org/nmdc/portal/mixs_inspired            MIxS Inspired  \n",
       "23         https://w3id.org/nmdc/portal/mixs_inspired            MIxS Inspired  \n",
       "24         https://w3id.org/nmdc/portal/mixs_inspired            MIxS Inspired  \n",
       "25         https://w3id.org/nmdc/portal/mixs_inspired            MIxS Inspired  \n",
       "26         https://w3id.org/nmdc/portal/mixs_inspired            MIxS Inspired  \n",
       "27         https://w3id.org/nmdc/portal/mixs_inspired            MIxS Inspired  \n",
       "28         https://w3id.org/nmdc/portal/mixs_inspired            MIxS Inspired  \n",
       "29         https://w3id.org/nmdc/portal/mixs_inspired            MIxS Inspired  \n",
       "30         https://w3id.org/nmdc/portal/mixs_inspired            MIxS Inspired  \n",
       "31             https://w3id.org/nmdc/portal/sample_id                Sample ID  \n",
       "32             https://w3id.org/nmdc/portal/sample_id                Sample ID  "
      ],
      "text/html": [
       "<div>\n",
       "<style scoped>\n",
       "    .dataframe tbody tr th:only-of-type {\n",
       "        vertical-align: middle;\n",
       "    }\n",
       "\n",
       "    .dataframe tbody tr th {\n",
       "        vertical-align: top;\n",
       "    }\n",
       "\n",
       "    .dataframe thead th {\n",
       "        text-align: right;\n",
       "    }\n",
       "</style>\n",
       "<table border=\"1\" class=\"dataframe\">\n",
       "  <thead>\n",
       "    <tr style=\"text-align: right;\">\n",
       "      <th></th>\n",
       "      <th>slot</th>\n",
       "      <th>from_schema</th>\n",
       "      <th>slot_group</th>\n",
       "    </tr>\n",
       "  </thead>\n",
       "  <tbody>\n",
       "    <tr>\n",
       "      <th>0</th>\n",
       "      <td>dna_absorb1</td>\n",
       "      <td>https://w3id.org/nmdc/core</td>\n",
       "      <td>JGI-Metagenomics</td>\n",
       "    </tr>\n",
       "    <tr>\n",
       "      <th>1</th>\n",
       "      <td>dna_absorb2</td>\n",
       "      <td>https://w3id.org/nmdc/core</td>\n",
       "      <td>JGI-Metagenomics</td>\n",
       "    </tr>\n",
       "    <tr>\n",
       "      <th>2</th>\n",
       "      <td>dna_concentration</td>\n",
       "      <td>https://w3id.org/nmdc/basic_slots</td>\n",
       "      <td>JGI-Metagenomics</td>\n",
       "    </tr>\n",
       "    <tr>\n",
       "      <th>3</th>\n",
       "      <td>emsl_store_temp</td>\n",
       "      <td>https://w3id.org/nmdc/emsl</td>\n",
       "      <td>EMSL</td>\n",
       "    </tr>\n",
       "    <tr>\n",
       "      <th>4</th>\n",
       "      <td>project_id</td>\n",
       "      <td>https://w3id.org/nmdc/emsl</td>\n",
       "      <td>EMSL</td>\n",
       "    </tr>\n",
       "    <tr>\n",
       "      <th>5</th>\n",
       "      <td>replicate_number</td>\n",
       "      <td>https://w3id.org/nmdc/emsl</td>\n",
       "      <td>EMSL</td>\n",
       "    </tr>\n",
       "    <tr>\n",
       "      <th>6</th>\n",
       "      <td>sample_shipped</td>\n",
       "      <td>https://w3id.org/nmdc/emsl</td>\n",
       "      <td>EMSL</td>\n",
       "    </tr>\n",
       "    <tr>\n",
       "      <th>7</th>\n",
       "      <td>sample_type</td>\n",
       "      <td>https://w3id.org/nmdc/emsl</td>\n",
       "      <td>EMSL</td>\n",
       "    </tr>\n",
       "    <tr>\n",
       "      <th>8</th>\n",
       "      <td>technical_reps</td>\n",
       "      <td>https://w3id.org/nmdc/emsl</td>\n",
       "      <td>EMSL</td>\n",
       "    </tr>\n",
       "    <tr>\n",
       "      <th>9</th>\n",
       "      <td>dna_collect_site</td>\n",
       "      <td>https://w3id.org/nmdc/portal/jgi_metagenomics</td>\n",
       "      <td>JGI-Metagenomics</td>\n",
       "    </tr>\n",
       "    <tr>\n",
       "      <th>10</th>\n",
       "      <td>dna_isolate_meth</td>\n",
       "      <td>https://w3id.org/nmdc/portal/jgi_metagenomics</td>\n",
       "      <td>JGI-Metagenomics</td>\n",
       "    </tr>\n",
       "    <tr>\n",
       "      <th>11</th>\n",
       "      <td>dna_organisms</td>\n",
       "      <td>https://w3id.org/nmdc/portal/jgi_metagenomics</td>\n",
       "      <td>JGI-Metagenomics</td>\n",
       "    </tr>\n",
       "    <tr>\n",
       "      <th>12</th>\n",
       "      <td>rna_collect_site</td>\n",
       "      <td>https://w3id.org/nmdc/portal/jgi_metatranscrip...</td>\n",
       "      <td>JGI-Metatranscriptomics</td>\n",
       "    </tr>\n",
       "    <tr>\n",
       "      <th>13</th>\n",
       "      <td>rna_isolate_meth</td>\n",
       "      <td>https://w3id.org/nmdc/portal/jgi_metatranscrip...</td>\n",
       "      <td>JGI-Metatranscriptomics</td>\n",
       "    </tr>\n",
       "    <tr>\n",
       "      <th>14</th>\n",
       "      <td>rna_organisms</td>\n",
       "      <td>https://w3id.org/nmdc/portal/jgi_metatranscrip...</td>\n",
       "      <td>JGI-Metatranscriptomics</td>\n",
       "    </tr>\n",
       "    <tr>\n",
       "      <th>15</th>\n",
       "      <td>collection_date_inc</td>\n",
       "      <td>https://w3id.org/nmdc/portal/mixs_inspired</td>\n",
       "      <td>MIxS Inspired</td>\n",
       "    </tr>\n",
       "    <tr>\n",
       "      <th>16</th>\n",
       "      <td>collection_time</td>\n",
       "      <td>https://w3id.org/nmdc/portal/mixs_inspired</td>\n",
       "      <td>MIxS Inspired</td>\n",
       "    </tr>\n",
       "    <tr>\n",
       "      <th>17</th>\n",
       "      <td>collection_time_inc</td>\n",
       "      <td>https://w3id.org/nmdc/portal/mixs_inspired</td>\n",
       "      <td>MIxS Inspired</td>\n",
       "    </tr>\n",
       "    <tr>\n",
       "      <th>18</th>\n",
       "      <td>experimental_factor_other</td>\n",
       "      <td>https://w3id.org/nmdc/portal/mixs_inspired</td>\n",
       "      <td>MIxS Inspired</td>\n",
       "    </tr>\n",
       "    <tr>\n",
       "      <th>19</th>\n",
       "      <td>filter_method</td>\n",
       "      <td>https://w3id.org/nmdc/portal/mixs_inspired</td>\n",
       "      <td>MIxS Inspired</td>\n",
       "    </tr>\n",
       "    <tr>\n",
       "      <th>20</th>\n",
       "      <td>isotope_exposure</td>\n",
       "      <td>https://w3id.org/nmdc/portal/mixs_inspired</td>\n",
       "      <td>MIxS Inspired</td>\n",
       "    </tr>\n",
       "    <tr>\n",
       "      <th>21</th>\n",
       "      <td>micro_biomass_c_meth</td>\n",
       "      <td>https://w3id.org/nmdc/portal/mixs_inspired</td>\n",
       "      <td>MIxS Inspired</td>\n",
       "    </tr>\n",
       "    <tr>\n",
       "      <th>22</th>\n",
       "      <td>micro_biomass_n_meth</td>\n",
       "      <td>https://w3id.org/nmdc/portal/mixs_inspired</td>\n",
       "      <td>MIxS Inspired</td>\n",
       "    </tr>\n",
       "    <tr>\n",
       "      <th>23</th>\n",
       "      <td>microbial_biomass_c</td>\n",
       "      <td>https://w3id.org/nmdc/portal/mixs_inspired</td>\n",
       "      <td>MIxS Inspired</td>\n",
       "    </tr>\n",
       "    <tr>\n",
       "      <th>24</th>\n",
       "      <td>microbial_biomass_n</td>\n",
       "      <td>https://w3id.org/nmdc/portal/mixs_inspired</td>\n",
       "      <td>MIxS Inspired</td>\n",
       "    </tr>\n",
       "    <tr>\n",
       "      <th>25</th>\n",
       "      <td>non_microb_biomass</td>\n",
       "      <td>https://w3id.org/nmdc/portal/mixs_inspired</td>\n",
       "      <td>MIxS Inspired</td>\n",
       "    </tr>\n",
       "    <tr>\n",
       "      <th>26</th>\n",
       "      <td>non_microb_biomass_method</td>\n",
       "      <td>https://w3id.org/nmdc/portal/mixs_inspired</td>\n",
       "      <td>MIxS Inspired</td>\n",
       "    </tr>\n",
       "    <tr>\n",
       "      <th>27</th>\n",
       "      <td>org_nitro_method</td>\n",
       "      <td>https://w3id.org/nmdc/portal/mixs_inspired</td>\n",
       "      <td>MIxS Inspired</td>\n",
       "    </tr>\n",
       "    <tr>\n",
       "      <th>28</th>\n",
       "      <td>other_treatment</td>\n",
       "      <td>https://w3id.org/nmdc/portal/mixs_inspired</td>\n",
       "      <td>MIxS Inspired</td>\n",
       "    </tr>\n",
       "    <tr>\n",
       "      <th>29</th>\n",
       "      <td>start_date_inc</td>\n",
       "      <td>https://w3id.org/nmdc/portal/mixs_inspired</td>\n",
       "      <td>MIxS Inspired</td>\n",
       "    </tr>\n",
       "    <tr>\n",
       "      <th>30</th>\n",
       "      <td>start_time_inc</td>\n",
       "      <td>https://w3id.org/nmdc/portal/mixs_inspired</td>\n",
       "      <td>MIxS Inspired</td>\n",
       "    </tr>\n",
       "    <tr>\n",
       "      <th>31</th>\n",
       "      <td>analysis_type</td>\n",
       "      <td>https://w3id.org/nmdc/portal/sample_id</td>\n",
       "      <td>Sample ID</td>\n",
       "    </tr>\n",
       "    <tr>\n",
       "      <th>32</th>\n",
       "      <td>sample_link</td>\n",
       "      <td>https://w3id.org/nmdc/portal/sample_id</td>\n",
       "      <td>Sample ID</td>\n",
       "    </tr>\n",
       "  </tbody>\n",
       "</table>\n",
       "</div>"
      ]
     },
     "execution_count": 19,
     "metadata": {},
     "output_type": "execute_result"
    }
   ],
   "execution_count": 19
  },
  {
   "metadata": {
    "ExecuteTime": {
     "end_time": "2025-10-21T18:55:56.511418Z",
     "start_time": "2025-10-21T18:55:56.507197Z"
    }
   },
   "cell_type": "code",
   "source": [
    "# Get unique slot_group values\n",
    "unique_slot_groups = slots_with_groups_df['slot_group'].unique()"
   ],
   "id": "8131dde01e470947",
   "outputs": [],
   "execution_count": 20
  },
  {
   "metadata": {
    "ExecuteTime": {
     "end_time": "2025-10-21T18:55:57.796583Z",
     "start_time": "2025-10-21T18:55:57.792868Z"
    }
   },
   "cell_type": "code",
   "source": [
    "# Analyze each unique slot_group\n",
    "slot_group_analysis = []\n",
    "for group_name in sorted(unique_slot_groups):\n",
    "  is_slot = group_name in schema_view.all_slots()\n",
    "\n",
    "  analysis = {\n",
    "      'slot_group_name': group_name,\n",
    "      'is_actual_slot': is_slot,\n",
    "      'grouping': None,\n",
    "      'abstract': None,\n",
    "      'mixin': None\n",
    "  }\n",
    "\n",
    "  if is_slot:\n",
    "      slot_def = schema_view.get_slot(group_name)\n",
    "      analysis['grouping'] = getattr(slot_def, 'grouping', None)\n",
    "      analysis['abstract'] = slot_def.abstract\n",
    "      analysis['mixin'] = slot_def.mixin\n",
    "\n",
    "  slot_group_analysis.append(analysis)\n"
   ],
   "id": "63b3d6a81283daf7",
   "outputs": [],
   "execution_count": 21
  },
  {
   "metadata": {
    "ExecuteTime": {
     "end_time": "2025-10-21T18:56:01.639629Z",
     "start_time": "2025-10-21T18:56:01.634972Z"
    }
   },
   "cell_type": "code",
   "source": "slot_group_types_df = pd.DataFrame(slot_group_analysis)",
   "id": "f38818f63bb01d90",
   "outputs": [],
   "execution_count": 22
  },
  {
   "metadata": {
    "ExecuteTime": {
     "end_time": "2025-10-21T18:56:02.821323Z",
     "start_time": "2025-10-21T18:56:02.814969Z"
    }
   },
   "cell_type": "code",
   "source": "slot_group_types_df",
   "id": "219badf8cf0f2070",
   "outputs": [
    {
     "data": {
      "text/plain": [
       "           slot_group_name  is_actual_slot grouping abstract mixin\n",
       "0                     EMSL           False     None     None  None\n",
       "1         JGI-Metagenomics           False     None     None  None\n",
       "2  JGI-Metatranscriptomics           False     None     None  None\n",
       "3            MIxS Inspired           False     None     None  None\n",
       "4                Sample ID           False     None     None  None"
      ],
      "text/html": [
       "<div>\n",
       "<style scoped>\n",
       "    .dataframe tbody tr th:only-of-type {\n",
       "        vertical-align: middle;\n",
       "    }\n",
       "\n",
       "    .dataframe tbody tr th {\n",
       "        vertical-align: top;\n",
       "    }\n",
       "\n",
       "    .dataframe thead th {\n",
       "        text-align: right;\n",
       "    }\n",
       "</style>\n",
       "<table border=\"1\" class=\"dataframe\">\n",
       "  <thead>\n",
       "    <tr style=\"text-align: right;\">\n",
       "      <th></th>\n",
       "      <th>slot_group_name</th>\n",
       "      <th>is_actual_slot</th>\n",
       "      <th>grouping</th>\n",
       "      <th>abstract</th>\n",
       "      <th>mixin</th>\n",
       "    </tr>\n",
       "  </thead>\n",
       "  <tbody>\n",
       "    <tr>\n",
       "      <th>0</th>\n",
       "      <td>EMSL</td>\n",
       "      <td>False</td>\n",
       "      <td>None</td>\n",
       "      <td>None</td>\n",
       "      <td>None</td>\n",
       "    </tr>\n",
       "    <tr>\n",
       "      <th>1</th>\n",
       "      <td>JGI-Metagenomics</td>\n",
       "      <td>False</td>\n",
       "      <td>None</td>\n",
       "      <td>None</td>\n",
       "      <td>None</td>\n",
       "    </tr>\n",
       "    <tr>\n",
       "      <th>2</th>\n",
       "      <td>JGI-Metatranscriptomics</td>\n",
       "      <td>False</td>\n",
       "      <td>None</td>\n",
       "      <td>None</td>\n",
       "      <td>None</td>\n",
       "    </tr>\n",
       "    <tr>\n",
       "      <th>3</th>\n",
       "      <td>MIxS Inspired</td>\n",
       "      <td>False</td>\n",
       "      <td>None</td>\n",
       "      <td>None</td>\n",
       "      <td>None</td>\n",
       "    </tr>\n",
       "    <tr>\n",
       "      <th>4</th>\n",
       "      <td>Sample ID</td>\n",
       "      <td>False</td>\n",
       "      <td>None</td>\n",
       "      <td>None</td>\n",
       "      <td>None</td>\n",
       "    </tr>\n",
       "  </tbody>\n",
       "</table>\n",
       "</div>"
      ]
     },
     "execution_count": 23,
     "metadata": {},
     "output_type": "execute_result"
    }
   ],
   "execution_count": 23
  },
  {
   "metadata": {},
   "cell_type": "markdown",
   "source": "----",
   "id": "1c702a4250969510"
  },
  {
   "metadata": {
    "ExecuteTime": {
     "end_time": "2025-10-21T18:56:08.677740Z",
     "start_time": "2025-10-21T18:56:07.783874Z"
    }
   },
   "cell_type": "code",
   "source": "usage_index = schema_view.usage_index()",
   "id": "f13e423f94eac043",
   "outputs": [],
   "execution_count": 24
  },
  {
   "metadata": {
    "ExecuteTime": {
     "end_time": "2025-10-21T18:56:09.713312Z",
     "start_time": "2025-10-21T18:56:09.478861Z"
    }
   },
   "cell_type": "code",
   "source": "meta_eno = get_element_names_and_origin(meta_view)",
   "id": "d997531f3cafbd98",
   "outputs": [],
   "execution_count": 25
  },
  {
   "metadata": {
    "ExecuteTime": {
     "end_time": "2025-10-21T18:56:10.514151Z",
     "start_time": "2025-10-21T18:56:10.511283Z"
    }
   },
   "cell_type": "code",
   "source": "nmdc_eno = get_element_names_and_origin(schema_view)",
   "id": "21352c0ae11db816",
   "outputs": [],
   "execution_count": 26
  },
  {
   "metadata": {},
   "cell_type": "markdown",
   "source": "",
   "id": "e1d05c58133b3429"
  },
  {
   "metadata": {},
   "cell_type": "markdown",
   "source": "## Does nmdc-schema have any elements that use the name of a metamodel element?",
   "id": "a446e073648eaba2"
  },
  {
   "metadata": {
    "ExecuteTime": {
     "end_time": "2025-10-21T18:56:15.798821Z",
     "start_time": "2025-10-21T18:56:15.795697Z"
    }
   },
   "cell_type": "code",
   "source": [
    "# Find keys that exist in both dictionaries but have different values\n",
    "shared_keys_different_values = {\n",
    "    key: {'nmdc': nmdc_eno[key], 'meta': meta_eno[key]}\n",
    "    for key in set(nmdc_eno.keys()) & set(meta_eno.keys())\n",
    "    if nmdc_eno[key] != meta_eno[key]\n",
    "}\n"
   ],
   "id": "hooyywa1jb",
   "outputs": [],
   "execution_count": 27
  },
  {
   "metadata": {
    "ExecuteTime": {
     "end_time": "2025-10-21T18:56:18.347471Z",
     "start_time": "2025-10-21T18:56:18.342135Z"
    }
   },
   "cell_type": "code",
   "source": [
    "# Convert to DataFrame for prettier display\n",
    "skdv_frame = pd.DataFrame([\n",
    "    {'element': key, 'nmdc_origin': value['nmdc'], 'meta_origin': value['meta']}\n",
    "    for key, value in shared_keys_different_values.items()\n",
    "]).sort_values('element')\n"
   ],
   "id": "4dn8b1l9co1",
   "outputs": [],
   "execution_count": 28
  },
  {
   "metadata": {
    "ExecuteTime": {
     "end_time": "2025-10-21T18:56:19.444931Z",
     "start_time": "2025-10-21T18:56:19.437199Z"
    }
   },
   "cell_type": "code",
   "source": "skdv_frame",
   "id": "2462417a5642a3f2",
   "outputs": [
    {
     "data": {
      "text/plain": [
       "        element                             nmdc_origin  \\\n",
       "12        bytes        https://w3id.org/nmdc/nmdc_types   \n",
       "5    definition     https://w3id.org/nmdc/basic_classes   \n",
       "9   description  https://w3id.org/nmdc/attribute_values   \n",
       "4            id       https://w3id.org/nmdc/basic_slots   \n",
       "0      language  https://w3id.org/nmdc/attribute_values   \n",
       "3          name  https://w3id.org/nmdc/attribute_values   \n",
       "10        notes       https://w3id.org/nmdc/basic_slots   \n",
       "13       object     https://w3id.org/nmdc/basic_classes   \n",
       "11    predicate     https://w3id.org/nmdc/basic_classes   \n",
       "2       subject        https://w3id.org/nmdc/annotation   \n",
       "8         title       https://w3id.org/nmdc/basic_slots   \n",
       "1          type  https://w3id.org/nmdc/attribute_values   \n",
       "7         value              https://w3id.org/nmdc/nmdc   \n",
       "6       version       https://w3id.org/nmdc/basic_slots   \n",
       "\n",
       "                          meta_origin  \n",
       "12   https://w3id.org/linkml/datasets  \n",
       "5        https://w3id.org/linkml/meta  \n",
       "9    https://w3id.org/linkml/datasets  \n",
       "4    https://w3id.org/linkml/datasets  \n",
       "0    https://w3id.org/linkml/datasets  \n",
       "3        https://w3id.org/linkml/meta  \n",
       "10       https://w3id.org/linkml/meta  \n",
       "13  https://w3id.org/linkml/reporting  \n",
       "11  https://w3id.org/linkml/reporting  \n",
       "2   https://w3id.org/linkml/reporting  \n",
       "8    https://w3id.org/linkml/datasets  \n",
       "1   https://w3id.org/linkml/reporting  \n",
       "7        https://w3id.org/linkml/meta  \n",
       "6    https://w3id.org/linkml/datasets  "
      ],
      "text/html": [
       "<div>\n",
       "<style scoped>\n",
       "    .dataframe tbody tr th:only-of-type {\n",
       "        vertical-align: middle;\n",
       "    }\n",
       "\n",
       "    .dataframe tbody tr th {\n",
       "        vertical-align: top;\n",
       "    }\n",
       "\n",
       "    .dataframe thead th {\n",
       "        text-align: right;\n",
       "    }\n",
       "</style>\n",
       "<table border=\"1\" class=\"dataframe\">\n",
       "  <thead>\n",
       "    <tr style=\"text-align: right;\">\n",
       "      <th></th>\n",
       "      <th>element</th>\n",
       "      <th>nmdc_origin</th>\n",
       "      <th>meta_origin</th>\n",
       "    </tr>\n",
       "  </thead>\n",
       "  <tbody>\n",
       "    <tr>\n",
       "      <th>12</th>\n",
       "      <td>bytes</td>\n",
       "      <td>https://w3id.org/nmdc/nmdc_types</td>\n",
       "      <td>https://w3id.org/linkml/datasets</td>\n",
       "    </tr>\n",
       "    <tr>\n",
       "      <th>5</th>\n",
       "      <td>definition</td>\n",
       "      <td>https://w3id.org/nmdc/basic_classes</td>\n",
       "      <td>https://w3id.org/linkml/meta</td>\n",
       "    </tr>\n",
       "    <tr>\n",
       "      <th>9</th>\n",
       "      <td>description</td>\n",
       "      <td>https://w3id.org/nmdc/attribute_values</td>\n",
       "      <td>https://w3id.org/linkml/datasets</td>\n",
       "    </tr>\n",
       "    <tr>\n",
       "      <th>4</th>\n",
       "      <td>id</td>\n",
       "      <td>https://w3id.org/nmdc/basic_slots</td>\n",
       "      <td>https://w3id.org/linkml/datasets</td>\n",
       "    </tr>\n",
       "    <tr>\n",
       "      <th>0</th>\n",
       "      <td>language</td>\n",
       "      <td>https://w3id.org/nmdc/attribute_values</td>\n",
       "      <td>https://w3id.org/linkml/datasets</td>\n",
       "    </tr>\n",
       "    <tr>\n",
       "      <th>3</th>\n",
       "      <td>name</td>\n",
       "      <td>https://w3id.org/nmdc/attribute_values</td>\n",
       "      <td>https://w3id.org/linkml/meta</td>\n",
       "    </tr>\n",
       "    <tr>\n",
       "      <th>10</th>\n",
       "      <td>notes</td>\n",
       "      <td>https://w3id.org/nmdc/basic_slots</td>\n",
       "      <td>https://w3id.org/linkml/meta</td>\n",
       "    </tr>\n",
       "    <tr>\n",
       "      <th>13</th>\n",
       "      <td>object</td>\n",
       "      <td>https://w3id.org/nmdc/basic_classes</td>\n",
       "      <td>https://w3id.org/linkml/reporting</td>\n",
       "    </tr>\n",
       "    <tr>\n",
       "      <th>11</th>\n",
       "      <td>predicate</td>\n",
       "      <td>https://w3id.org/nmdc/basic_classes</td>\n",
       "      <td>https://w3id.org/linkml/reporting</td>\n",
       "    </tr>\n",
       "    <tr>\n",
       "      <th>2</th>\n",
       "      <td>subject</td>\n",
       "      <td>https://w3id.org/nmdc/annotation</td>\n",
       "      <td>https://w3id.org/linkml/reporting</td>\n",
       "    </tr>\n",
       "    <tr>\n",
       "      <th>8</th>\n",
       "      <td>title</td>\n",
       "      <td>https://w3id.org/nmdc/basic_slots</td>\n",
       "      <td>https://w3id.org/linkml/datasets</td>\n",
       "    </tr>\n",
       "    <tr>\n",
       "      <th>1</th>\n",
       "      <td>type</td>\n",
       "      <td>https://w3id.org/nmdc/attribute_values</td>\n",
       "      <td>https://w3id.org/linkml/reporting</td>\n",
       "    </tr>\n",
       "    <tr>\n",
       "      <th>7</th>\n",
       "      <td>value</td>\n",
       "      <td>https://w3id.org/nmdc/nmdc</td>\n",
       "      <td>https://w3id.org/linkml/meta</td>\n",
       "    </tr>\n",
       "    <tr>\n",
       "      <th>6</th>\n",
       "      <td>version</td>\n",
       "      <td>https://w3id.org/nmdc/basic_slots</td>\n",
       "      <td>https://w3id.org/linkml/datasets</td>\n",
       "    </tr>\n",
       "  </tbody>\n",
       "</table>\n",
       "</div>"
      ]
     },
     "execution_count": 29,
     "metadata": {},
     "output_type": "execute_result"
    }
   ],
   "execution_count": 29
  },
  {
   "metadata": {
    "ExecuteTime": {
     "end_time": "2025-10-21T18:56:48.268552Z",
     "start_time": "2025-10-21T18:56:48.263388Z"
    }
   },
   "cell_type": "code",
   "source": "skdv_frame.to_csv('nmdc_elements_sharing_names_with_metamodel.tsv', sep='\\t', index=False)",
   "id": "aaae67cbe9486256",
   "outputs": [],
   "execution_count": 30
  },
  {
   "cell_type": "markdown",
   "id": "420r0pwhlhc",
   "source": "## All slots in the schema",
   "metadata": {}
  },
  {
   "cell_type": "code",
   "id": "2qrqiakqb1",
   "source": [
    "# Analyze usage for ALL slots in the schema\n",
    "all_slot_names = list(schema_slots.keys())\n",
    "all_slots_usage_summary_df, all_slots_usage_results = create_slot_usage_summary(\n",
    "    all_slot_names, schema_view, schema_slots\n",
    ")\n"
   ],
   "metadata": {
    "ExecuteTime": {
     "end_time": "2025-10-21T18:59:43.908665Z",
     "start_time": "2025-10-21T18:59:43.410043Z"
    }
   },
   "outputs": [],
   "execution_count": 31
  },
  {
   "metadata": {
    "ExecuteTime": {
     "end_time": "2025-10-21T18:59:44.731520Z",
     "start_time": "2025-10-21T18:59:44.722475Z"
    }
   },
   "cell_type": "code",
   "source": "all_slots_usage_summary_df",
   "id": "553a366d65ba5b25",
   "outputs": [
    {
     "data": {
      "text/plain": [
       "                        slot_name  num_children  num_classes  num_modifying  \\\n",
       "0    chemical_conversion_category             0            1              0   \n",
       "1               substances_volume             0            1              0   \n",
       "2            biosample_categories             0            1              0   \n",
       "3                  collected_from             0            1              1   \n",
       "4         bulk_elect_conductivity             0            1              0   \n",
       "..                            ...           ...          ...            ...   \n",
       "844              stationary_phase             0            2              1   \n",
       "845      chromatographic_category             0            2              1   \n",
       "846               sampled_portion             0            2              0   \n",
       "847                     predicate             0            0              0   \n",
       "848                        object             0            0              0   \n",
       "\n",
       "     num_grouped  num_mixin_usage  deprecation_count  \\\n",
       "0              0                0                  0   \n",
       "1              0                0                  0   \n",
       "2              0                0                  0   \n",
       "3              0                0                  0   \n",
       "4              0                0                  0   \n",
       "..           ...              ...                ...   \n",
       "844            0                0                  0   \n",
       "845            0                0                  0   \n",
       "846            0                0                  0   \n",
       "847            0                0                  0   \n",
       "848            0                0                  0   \n",
       "\n",
       "                             from_schema  \n",
       "0             https://w3id.org/nmdc/core  \n",
       "1             https://w3id.org/nmdc/core  \n",
       "2             https://w3id.org/nmdc/core  \n",
       "3             https://w3id.org/nmdc/core  \n",
       "4             https://w3id.org/nmdc/core  \n",
       "..                                   ...  \n",
       "844           https://w3id.org/nmdc/nmdc  \n",
       "845           https://w3id.org/nmdc/nmdc  \n",
       "846           https://w3id.org/nmdc/nmdc  \n",
       "847  https://w3id.org/nmdc/basic_classes  \n",
       "848  https://w3id.org/nmdc/basic_classes  \n",
       "\n",
       "[849 rows x 8 columns]"
      ],
      "text/html": [
       "<div>\n",
       "<style scoped>\n",
       "    .dataframe tbody tr th:only-of-type {\n",
       "        vertical-align: middle;\n",
       "    }\n",
       "\n",
       "    .dataframe tbody tr th {\n",
       "        vertical-align: top;\n",
       "    }\n",
       "\n",
       "    .dataframe thead th {\n",
       "        text-align: right;\n",
       "    }\n",
       "</style>\n",
       "<table border=\"1\" class=\"dataframe\">\n",
       "  <thead>\n",
       "    <tr style=\"text-align: right;\">\n",
       "      <th></th>\n",
       "      <th>slot_name</th>\n",
       "      <th>num_children</th>\n",
       "      <th>num_classes</th>\n",
       "      <th>num_modifying</th>\n",
       "      <th>num_grouped</th>\n",
       "      <th>num_mixin_usage</th>\n",
       "      <th>deprecation_count</th>\n",
       "      <th>from_schema</th>\n",
       "    </tr>\n",
       "  </thead>\n",
       "  <tbody>\n",
       "    <tr>\n",
       "      <th>0</th>\n",
       "      <td>chemical_conversion_category</td>\n",
       "      <td>0</td>\n",
       "      <td>1</td>\n",
       "      <td>0</td>\n",
       "      <td>0</td>\n",
       "      <td>0</td>\n",
       "      <td>0</td>\n",
       "      <td>https://w3id.org/nmdc/core</td>\n",
       "    </tr>\n",
       "    <tr>\n",
       "      <th>1</th>\n",
       "      <td>substances_volume</td>\n",
       "      <td>0</td>\n",
       "      <td>1</td>\n",
       "      <td>0</td>\n",
       "      <td>0</td>\n",
       "      <td>0</td>\n",
       "      <td>0</td>\n",
       "      <td>https://w3id.org/nmdc/core</td>\n",
       "    </tr>\n",
       "    <tr>\n",
       "      <th>2</th>\n",
       "      <td>biosample_categories</td>\n",
       "      <td>0</td>\n",
       "      <td>1</td>\n",
       "      <td>0</td>\n",
       "      <td>0</td>\n",
       "      <td>0</td>\n",
       "      <td>0</td>\n",
       "      <td>https://w3id.org/nmdc/core</td>\n",
       "    </tr>\n",
       "    <tr>\n",
       "      <th>3</th>\n",
       "      <td>collected_from</td>\n",
       "      <td>0</td>\n",
       "      <td>1</td>\n",
       "      <td>1</td>\n",
       "      <td>0</td>\n",
       "      <td>0</td>\n",
       "      <td>0</td>\n",
       "      <td>https://w3id.org/nmdc/core</td>\n",
       "    </tr>\n",
       "    <tr>\n",
       "      <th>4</th>\n",
       "      <td>bulk_elect_conductivity</td>\n",
       "      <td>0</td>\n",
       "      <td>1</td>\n",
       "      <td>0</td>\n",
       "      <td>0</td>\n",
       "      <td>0</td>\n",
       "      <td>0</td>\n",
       "      <td>https://w3id.org/nmdc/core</td>\n",
       "    </tr>\n",
       "    <tr>\n",
       "      <th>...</th>\n",
       "      <td>...</td>\n",
       "      <td>...</td>\n",
       "      <td>...</td>\n",
       "      <td>...</td>\n",
       "      <td>...</td>\n",
       "      <td>...</td>\n",
       "      <td>...</td>\n",
       "      <td>...</td>\n",
       "    </tr>\n",
       "    <tr>\n",
       "      <th>844</th>\n",
       "      <td>stationary_phase</td>\n",
       "      <td>0</td>\n",
       "      <td>2</td>\n",
       "      <td>1</td>\n",
       "      <td>0</td>\n",
       "      <td>0</td>\n",
       "      <td>0</td>\n",
       "      <td>https://w3id.org/nmdc/nmdc</td>\n",
       "    </tr>\n",
       "    <tr>\n",
       "      <th>845</th>\n",
       "      <td>chromatographic_category</td>\n",
       "      <td>0</td>\n",
       "      <td>2</td>\n",
       "      <td>1</td>\n",
       "      <td>0</td>\n",
       "      <td>0</td>\n",
       "      <td>0</td>\n",
       "      <td>https://w3id.org/nmdc/nmdc</td>\n",
       "    </tr>\n",
       "    <tr>\n",
       "      <th>846</th>\n",
       "      <td>sampled_portion</td>\n",
       "      <td>0</td>\n",
       "      <td>2</td>\n",
       "      <td>0</td>\n",
       "      <td>0</td>\n",
       "      <td>0</td>\n",
       "      <td>0</td>\n",
       "      <td>https://w3id.org/nmdc/nmdc</td>\n",
       "    </tr>\n",
       "    <tr>\n",
       "      <th>847</th>\n",
       "      <td>predicate</td>\n",
       "      <td>0</td>\n",
       "      <td>0</td>\n",
       "      <td>0</td>\n",
       "      <td>0</td>\n",
       "      <td>0</td>\n",
       "      <td>0</td>\n",
       "      <td>https://w3id.org/nmdc/basic_classes</td>\n",
       "    </tr>\n",
       "    <tr>\n",
       "      <th>848</th>\n",
       "      <td>object</td>\n",
       "      <td>0</td>\n",
       "      <td>0</td>\n",
       "      <td>0</td>\n",
       "      <td>0</td>\n",
       "      <td>0</td>\n",
       "      <td>0</td>\n",
       "      <td>https://w3id.org/nmdc/basic_classes</td>\n",
       "    </tr>\n",
       "  </tbody>\n",
       "</table>\n",
       "<p>849 rows × 8 columns</p>\n",
       "</div>"
      ]
     },
     "execution_count": 32,
     "metadata": {},
     "output_type": "execute_result"
    }
   ],
   "execution_count": 32
  },
  {
   "cell_type": "code",
   "id": "blnoegyvtds",
   "source": [
    "# Filter all slots to unused ones\n",
    "all_unused_slots = filter_to_unused_slots(all_slots_usage_summary_df)\n"
   ],
   "metadata": {
    "ExecuteTime": {
     "end_time": "2025-10-21T18:59:51.249371Z",
     "start_time": "2025-10-21T18:59:51.245301Z"
    }
   },
   "outputs": [],
   "execution_count": 33
  },
  {
   "metadata": {},
   "cell_type": "markdown",
   "source": "## Whitespace slots investigation\n\nDoes nmdc-schema have any elements with whitespace in their names?",
   "id": "4835f90f13cd94c8"
  },
  {
   "metadata": {
    "ExecuteTime": {
     "end_time": "2025-10-21T18:59:53.801010Z",
     "start_time": "2025-10-21T18:59:53.796710Z"
    }
   },
   "cell_type": "code",
   "source": [
    "# Find elements with whitespace in their names\n",
    "elements_with_whitespace = [\n",
    "    name for name in nmdc_eno.keys()\n",
    "    if any(char.isspace() for char in name)\n",
    "]\n"
   ],
   "id": "bm7ou7i9ot",
   "outputs": [],
   "execution_count": 34
  },
  {
   "metadata": {
    "ExecuteTime": {
     "end_time": "2025-10-21T18:59:54.817040Z",
     "start_time": "2025-10-21T18:59:54.813015Z"
    }
   },
   "cell_type": "code",
   "source": [
    "# Display as DataFrame with element type\n",
    "all_elements = schema_view.all_elements()\n",
    "whitespace_df = pd.DataFrame([\n",
    "    {\n",
    "        'element': name,\n",
    "        'type': type(all_elements[name]).__name__,\n",
    "        'from_schema': nmdc_eno[name]\n",
    "    }\n",
    "    for name in sorted(elements_with_whitespace)\n",
    "])\n"
   ],
   "id": "12cb04e46f943fec",
   "outputs": [],
   "execution_count": 35
  },
  {
   "metadata": {
    "ExecuteTime": {
     "end_time": "2025-10-21T18:59:55.778543Z",
     "start_time": "2025-10-21T18:59:55.772640Z"
    }
   },
   "cell_type": "code",
   "source": "whitespace_df",
   "id": "56352685dd0af259",
   "outputs": [
    {
     "data": {
      "text/plain": [
       "                              element            type  \\\n",
       "0                          core field  SlotDefinition   \n",
       "1                   environment field  SlotDefinition   \n",
       "2                 investigation field  SlotDefinition   \n",
       "3  nucleic acid sequence source field  SlotDefinition   \n",
       "4                    sequencing field  SlotDefinition   \n",
       "\n",
       "                                         from_schema  \n",
       "0  https://raw.githubusercontent.com/microbiomeda...  \n",
       "1  https://raw.githubusercontent.com/microbiomeda...  \n",
       "2  https://raw.githubusercontent.com/microbiomeda...  \n",
       "3  https://raw.githubusercontent.com/microbiomeda...  \n",
       "4  https://raw.githubusercontent.com/microbiomeda...  "
      ],
      "text/html": [
       "<div>\n",
       "<style scoped>\n",
       "    .dataframe tbody tr th:only-of-type {\n",
       "        vertical-align: middle;\n",
       "    }\n",
       "\n",
       "    .dataframe tbody tr th {\n",
       "        vertical-align: top;\n",
       "    }\n",
       "\n",
       "    .dataframe thead th {\n",
       "        text-align: right;\n",
       "    }\n",
       "</style>\n",
       "<table border=\"1\" class=\"dataframe\">\n",
       "  <thead>\n",
       "    <tr style=\"text-align: right;\">\n",
       "      <th></th>\n",
       "      <th>element</th>\n",
       "      <th>type</th>\n",
       "      <th>from_schema</th>\n",
       "    </tr>\n",
       "  </thead>\n",
       "  <tbody>\n",
       "    <tr>\n",
       "      <th>0</th>\n",
       "      <td>core field</td>\n",
       "      <td>SlotDefinition</td>\n",
       "      <td>https://raw.githubusercontent.com/microbiomeda...</td>\n",
       "    </tr>\n",
       "    <tr>\n",
       "      <th>1</th>\n",
       "      <td>environment field</td>\n",
       "      <td>SlotDefinition</td>\n",
       "      <td>https://raw.githubusercontent.com/microbiomeda...</td>\n",
       "    </tr>\n",
       "    <tr>\n",
       "      <th>2</th>\n",
       "      <td>investigation field</td>\n",
       "      <td>SlotDefinition</td>\n",
       "      <td>https://raw.githubusercontent.com/microbiomeda...</td>\n",
       "    </tr>\n",
       "    <tr>\n",
       "      <th>3</th>\n",
       "      <td>nucleic acid sequence source field</td>\n",
       "      <td>SlotDefinition</td>\n",
       "      <td>https://raw.githubusercontent.com/microbiomeda...</td>\n",
       "    </tr>\n",
       "    <tr>\n",
       "      <th>4</th>\n",
       "      <td>sequencing field</td>\n",
       "      <td>SlotDefinition</td>\n",
       "      <td>https://raw.githubusercontent.com/microbiomeda...</td>\n",
       "    </tr>\n",
       "  </tbody>\n",
       "</table>\n",
       "</div>"
      ]
     },
     "execution_count": 36,
     "metadata": {},
     "output_type": "execute_result"
    }
   ],
   "execution_count": 36
  },
  {
   "metadata": {},
   "cell_type": "markdown",
   "source": [
    "## If there are slots with whitespace in their names\n",
    "Are they used in any way? Would it be OK to delete them?"
   ],
   "id": "c8cd74d3267a2685"
  },
  {
   "cell_type": "code",
   "id": "9jytlcbnpqt",
   "source": [
    "# Analyze usage for whitespace slots\n",
    "whitespace_usage_summary_df, whitespace_usage_results = create_slot_usage_summary(\n",
    "    elements_with_whitespace, schema_view, schema_slots\n",
    ")\n"
   ],
   "metadata": {},
   "outputs": [],
   "execution_count": null
  },
  {
   "metadata": {},
   "cell_type": "code",
   "source": "whitespace_usage_summary_df",
   "id": "2b933df65f735f7",
   "outputs": [],
   "execution_count": null
  },
  {
   "cell_type": "code",
   "id": "nck17hhm8bf",
   "source": [
    "# Filter whitespace slots to unused ones\n",
    "whitespace_unused_slots = filter_to_unused_slots(whitespace_usage_summary_df)\n"
   ],
   "metadata": {},
   "outputs": [],
   "execution_count": null
  },
  {
   "metadata": {},
   "cell_type": "code",
   "source": "whitespace_unused_slots",
   "id": "82a3a10cd5c6ba17",
   "outputs": [],
   "execution_count": null
  },
  {
   "cell_type": "markdown",
   "id": "f53m92cb7fj",
   "source": "## Analyze usage for non-slot elements (classes, enums, types, subsets)",
   "metadata": {}
  },
  {
   "cell_type": "code",
   "id": "o0k5kqsqioh",
   "source": "def get_element_type(element_name, schema_view):\n    \"\"\"Determine the type of a schema element.\"\"\"\n    if element_name in schema_view.all_classes():\n        return 'class'\n    elif element_name in schema_view.all_slots():\n        return 'slot'\n    elif element_name in schema_view.all_enums():\n        return 'enum'\n    elif element_name in schema_view.all_types():\n        return 'type'\n    elif element_name in schema_view.all_subsets():\n        return 'subset'\n    else:\n        return 'unknown'\n\ndef analyze_non_slot_elements(schema_view):\n    \"\"\"Analyze usage of all non-slot elements using usage_index.\"\"\"\n    usage_index = schema_view.usage_index()\n    all_elements = schema_view.all_elements()\n    \n    results = []\n    for element_name, element in all_elements.items():\n        element_type = get_element_type(element_name, schema_view)\n        \n        # Skip slots - we already analyzed those\n        if element_type == 'slot':\n            continue\n        \n        # Check if element is referenced in usage_index\n        is_used = element_name in usage_index and len(usage_index[element_name]) > 0\n        num_usages = len(usage_index.get(element_name, []))\n        \n        # Check deprecation status\n        is_deprecated = element.deprecated is not None and element.deprecated != \"\"\n        has_exact_replacement = element.deprecated_element_has_exact_replacement is not None\n        has_possible_replacement = element.deprecated_element_has_possible_replacement is not None\n        deprecation_count = sum([is_deprecated, has_exact_replacement, has_possible_replacement])\n        \n        results.append({\n            'element_name': element_name,\n            'element_type': element_type,\n            'is_used': is_used,\n            'num_usages': num_usages,\n            'deprecation_count': deprecation_count,\n            'from_schema': element.from_schema\n        })\n    \n    return pd.DataFrame(results)\n\n# Analyze all non-slot elements\nnon_slot_elements_df = analyze_non_slot_elements(schema_view)\nnon_slot_elements_df",
   "metadata": {},
   "outputs": [],
   "execution_count": null
  },
  {
   "metadata": {},
   "cell_type": "code",
   "source": [
    "# Analyze all non-slot elements\n",
    "non_slot_elements_df = analyze_non_slot_elements(schema_view)\n"
   ],
   "id": "51eaaab932123de5",
   "outputs": [],
   "execution_count": null
  },
  {
   "metadata": {},
   "cell_type": "code",
   "source": "non_slot_elements_df",
   "id": "60dcaaa3baa58d63",
   "outputs": [],
   "execution_count": null
  },
  {
   "cell_type": "code",
   "id": "8l1620rai6h",
   "source": "# Filter to unused/orphan non-slot elements (excluding classes)\n# Classes can be instantiated in data even if not referenced in schema\nunused_non_slot_elements = non_slot_elements_df[\n    (~non_slot_elements_df['is_used']) & \n    (non_slot_elements_df['element_type'] != 'class')\n]\nunused_non_slot_elements",
   "metadata": {},
   "outputs": [],
   "execution_count": null
  },
  {
   "cell_type": "code",
   "id": "3o7og4e9ves",
   "source": "# Classes not referenced in schema (but may still be used in data!)\nunreferenced_classes = non_slot_elements_df[\n    (~non_slot_elements_df['is_used']) & \n    (non_slot_elements_df['element_type'] == 'class')\n]\nprint(f\"Classes with no schema references: {len(unreferenced_classes)}\")\nprint(\"Note: These may be tree roots, top-level classes, or classes instantiated directly in data.\")\nunreferenced_classes",
   "metadata": {},
   "outputs": [],
   "execution_count": null
  },
  {
   "metadata": {},
   "cell_type": "code",
   "source": "unused_non_slot_elements",
   "id": "9cdc91c5f9b50481",
   "outputs": [],
   "execution_count": null
  },
  {
   "cell_type": "code",
   "id": "7sxevear6zy",
   "source": [
    "# Summary of unused elements by type\n",
    "unused_summary = unused_non_slot_elements.groupby('element_type').agg({\n",
    "    'element_name': 'count',\n",
    "    'from_schema': lambda x: x.nunique()\n",
    "}).rename(columns={'element_name': 'count', 'from_schema': 'num_schemas'})\n"
   ],
   "metadata": {},
   "outputs": [],
   "execution_count": null
  },
  {
   "metadata": {},
   "cell_type": "code",
   "source": [
    "print(f\"Total unused non-slot elements: {len(unused_non_slot_elements)}\")\n",
    "print(f\"\\nBreakdown by type:\")\n"
   ],
   "id": "2b31728041cfa832",
   "outputs": [],
   "execution_count": null
  },
  {
   "metadata": {},
   "cell_type": "code",
   "source": "unused_summary",
   "id": "9054e04c2f8b28e",
   "outputs": [],
   "execution_count": null
  },
  {
   "cell_type": "code",
   "id": "270a8x3irvm",
   "source": "# Save unused non-slot elements to TSV\nunused_non_slot_elements.to_csv('unused_non_slot_elements.tsv', sep='\\t', index=False)\nprint(f\"Saved {len(unused_non_slot_elements)} unused non-slot elements to unused_non_slot_elements.tsv\")",
   "metadata": {},
   "outputs": [],
   "execution_count": null
  },
  {
   "cell_type": "markdown",
   "id": "vmi106hv92h",
   "source": "## Combined report: All unused elements (slots, enums, types, subsets)\nNote: Classes are excluded because usage_index only tracks schema-level references, not data instantiation.",
   "metadata": {}
  },
  {
   "cell_type": "code",
   "id": "rqa7x9vcl5j",
   "source": "# Prepare unused slots dataframe for merging\nunused_slots_for_merge = all_unused_slots[['slot_name', 'deprecation_count', 'from_schema']].copy()\nunused_slots_for_merge['element_type'] = 'slot'\nunused_slots_for_merge = unused_slots_for_merge.rename(columns={'slot_name': 'element_name'})\n\n# Prepare unused non-slots dataframe for merging\nunused_non_slots_for_merge = unused_non_slot_elements[['element_name', 'element_type', 'deprecation_count', 'from_schema']].copy()\n\n# Combine both dataframes\nall_unused_elements = pd.concat([unused_slots_for_merge, unused_non_slots_for_merge], ignore_index=True)\n\n# Sort by element type and name\nall_unused_elements = all_unused_elements.sort_values(['element_type', 'element_name']).reset_index(drop=True)\n\nprint(f\"Total unused elements: {len(all_unused_elements)}\")\nprint(f\"  - Unused slots: {len(unused_slots_for_merge)}\")\nprint(f\"  - Unused non-slots: {len(unused_non_slots_for_merge)}\")\nprint(f\"\\nWith deprecation info: {len(all_unused_elements[all_unused_elements['deprecation_count'] > 0])}\")\nprint(f\"Without deprecation info: {len(all_unused_elements[all_unused_elements['deprecation_count'] == 0])}\")\n\nall_unused_elements",
   "metadata": {},
   "outputs": [],
   "execution_count": null
  },
  {
   "cell_type": "code",
   "id": "cf7ftqcvy89",
   "source": "# Breakdown by type and deprecation status\nsummary = all_unused_elements.groupby(['element_type', 'deprecation_count']).size().reset_index(name='count')\nprint(\"Breakdown by type and deprecation status:\")\nsummary",
   "metadata": {},
   "outputs": [],
   "execution_count": null
  },
  {
   "cell_type": "code",
   "id": "7a6xm4hm18b",
   "source": "# Save combined unused elements report to TSV\nall_unused_elements.to_csv('all_unused_elements.tsv', sep='\\t', index=False)\nprint(f\"Saved {len(all_unused_elements)} unused elements to all_unused_elements.tsv\")",
   "metadata": {},
   "outputs": [],
   "execution_count": null
  },
  {
   "metadata": {},
   "cell_type": "code",
   "source": "all_unused_slots",
   "id": "6aa057871f2d5317",
   "outputs": [],
   "execution_count": null
  },
  {
   "metadata": {},
   "cell_type": "code",
   "source": "all_unused_slots.to_csv('unused_slots.tsv', sep='\\t', index=False)",
   "id": "14707974d028ca64",
   "outputs": [],
   "execution_count": null
  },
  {
   "metadata": {},
   "cell_type": "markdown",
   "source": [
    "Here are additional ways a slot could be used that we're NOT currently checking:\n",
    "\n",
    "Slot hierarchy & relationships:\n",
    "\n",
    "1. mixins - Other slots might use this slot as a mixin (not just is_a)\n",
    "2. apply_to - This slot could be applied to other definitions\n",
    "3. subproperty_of - Similar to is_a but more RDF-specific\n",
    "4. inverse - Another slot might declare this as its inverse\n",
    "5. disjoint_with - Other slots might reference this in disjoint relationships\n",
    "\n",
    "Referenced in class definitions:\n",
    "\n",
    "6. domain_of - Which classes explicitly declare this slot in their definition (might differ from get_classes_by_slot which includes inherited usage)\n",
    "7. attributes - Could be used as a class attribute\n",
    "8. defining_slots - Could be used to define a class\n",
    "\n",
    "Referenced in expressions:\n",
    "\n",
    "9. slot_conditions - Used in conditional logic\n",
    "10. any_of, all_of, exactly_one_of, none_of - Logical slot expressions\n",
    "11. equals_expression - Value constraint expressions\n",
    "12. Path expressions - traverse, followed_by for reachability\n",
    "\n",
    "Other references:\n",
    "\n",
    "13. alias - Other slots using this as their alias target\n",
    "14. owner - Ownership relationships15. unique_key_slots - Used in unique key definitions\n",
    "16. rules / classification_rules - Used in class-level rules\n",
    "\n",
    "The most practically important ones to add would probably be:\n",
    "\n",
    "- Checking if used as a mixin by other slots\n",
    "- domain_of to see explicit class declarations\n",
    "- inverse relationships\n",
    "- unique_key_slots usage\n"
   ],
   "id": "bd324216e2e31bf2"
  },
  {
   "metadata": {},
   "cell_type": "code",
   "source": [
    "subsets_file = \"../src/schema/nmdc_subsets.yaml\"\n",
    "# not imported any more\n",
    "subsets_view = SchemaView(subsets_file)\n",
    "all_subsets = subsets_view.all_subsets()"
   ],
   "id": "94156770d112994f",
   "outputs": [],
   "execution_count": null
  },
  {
   "metadata": {},
   "cell_type": "markdown",
   "source": [
    "## read_only investigation\n",
    "\n",
    "Which metamodel elements have read_only set?"
   ],
   "id": "y1ax2vh4lia"
  },
  {
   "metadata": {},
   "cell_type": "code",
   "source": [
    "# Check which metamodel elements have read_only attribute set\n",
    "meta_elements_with_readonly = []"
   ],
   "id": "17b9f539ec445e0f",
   "outputs": [],
   "execution_count": null
  },
  {
   "metadata": {},
   "cell_type": "code",
   "source": "meta_elements = meta_view.all_elements()",
   "id": "8ca70b93c5b3de0d",
   "outputs": [],
   "execution_count": null
  },
  {
   "metadata": {},
   "cell_type": "code",
   "source": [
    "\n",
    "for element_name, element in meta_elements.items():\n",
    "    # Check if the element has a read_only attribute\n",
    "    read_only_value = getattr(element, 'readonly', None)\n",
    "\n",
    "    if read_only_value is not None:\n",
    "        meta_elements_with_readonly.append({\n",
    "            'element_name': element_name,\n",
    "            'element_type': type(element).__name__,\n",
    "            'readonly': read_only_value,\n",
    "            'from_schema': element.from_schema\n",
    "        })"
   ],
   "id": "d86915b0631f29f3",
   "outputs": [],
   "execution_count": null
  },
  {
   "metadata": {},
   "cell_type": "code",
   "source": [
    "meta_readonly_df = pd.DataFrame(meta_elements_with_readonly)\n",
    "print(f\"Metamodel elements with read_only set: {len(meta_readonly_df)}\")\n"
   ],
   "id": "ada76411ef610aca",
   "outputs": [],
   "execution_count": null
  },
  {
   "metadata": {},
   "cell_type": "code",
   "source": "meta_readonly_df",
   "id": "16efd6706b4b5a23",
   "outputs": [],
   "execution_count": null
  },
  {
   "cell_type": "markdown",
   "id": "slqkx2ofhu",
   "source": "## Which NMDC schema elements assert readonly?",
   "metadata": {}
  },
  {
   "metadata": {},
   "cell_type": "code",
   "source": "import glob",
   "id": "59e650c8e1b1a26",
   "outputs": [],
   "execution_count": null
  },
  {
   "metadata": {},
   "cell_type": "code",
   "source": [
    "# Get all YAML files in src/schema and find elements with readonly set\n",
    "schema_files = list(glob.glob('../src/schema/*.yaml'))\n",
    "schema_files.sort()"
   ],
   "id": "78611d5501c5ce57",
   "outputs": [],
   "execution_count": null
  },
  {
   "metadata": {},
   "cell_type": "code",
   "source": "nmdc_elements_with_readonly = []",
   "id": "27e92f9411c3c86c",
   "outputs": [],
   "execution_count": null
  },
  {
   "metadata": {},
   "cell_type": "code",
   "source": [
    "# todo: discover from metamodel\n",
    "element_types = ['classes', 'slots', 'enums', 'types', 'subsets']"
   ],
   "id": "8f7e3899041bc73a",
   "outputs": [],
   "execution_count": null
  },
  {
   "cell_type": "code",
   "id": "82x67k2c8sw",
   "source": "# Get list of metaslot names that are readonly in the metamodel\nreadonly_metaslots = meta_readonly_df['element_name'].tolist() if len(meta_readonly_df) > 0 else []\nprint(f\"Readonly metaslots from metamodel: {readonly_metaslots}\")",
   "metadata": {},
   "outputs": [],
   "execution_count": null
  },
  {
   "metadata": {},
   "cell_type": "code",
   "source": [
    "# Now check which NMDC elements are asserting these readonly metaslots\n",
    "nmdc_elements_asserting_readonly_metaslots = []"
   ],
   "id": "7d4aada22b1dd20b",
   "outputs": [],
   "execution_count": null
  },
  {
   "metadata": {},
   "cell_type": "code",
   "source": "nmdc_elements_asserting_readonly_metaslots",
   "id": "c81ae24022e2394f",
   "outputs": [],
   "execution_count": null
  },
  {
   "cell_type": "code",
   "id": "46bnl7eijk9",
   "source": [
    "\n",
    "for schema_file_path in schema_files:\n",
    "    with open(schema_file_path, 'r') as f:\n",
    "        schema_dict = yaml.safe_load(f)\n",
    "    \n",
    "    for element_type in element_types:\n",
    "        if element_type in schema_dict and schema_dict[element_type] is not None:\n",
    "            for element_name, element_def in schema_dict[element_type].items():\n",
    "                # Check if element_def is a dict before checking for keys\n",
    "                if element_def and isinstance(element_def, dict):\n",
    "                    for metaslot in readonly_metaslots:\n",
    "\n",
    "                        if metaslot in element_def:\n",
    "                            temp = {\n",
    "                                'element_name': element_name,\n",
    "                                'element_type': element_type.rstrip('s'),\n",
    "                                'readonly_metaslot': metaslot,\n",
    "                                'metaslot_value': str(element_def[metaslot])[:100],  # Truncate long values\n",
    "                                'schema_file': schema_file_path.split('/')[-1]\n",
    "                            }\n",
    "\n",
    "                            nmdc_elements_asserting_readonly_metaslots.append(temp)\n"
   ],
   "metadata": {},
   "outputs": [],
   "execution_count": null
  },
  {
   "metadata": {},
   "cell_type": "code",
   "source": [
    "nmdc_readonly_df = pd.DataFrame(nmdc_elements_asserting_readonly_metaslots)\n",
    "print(f\"NMDC schema elements with readonly set: {len(nmdc_readonly_df)}\")\n"
   ],
   "id": "ef2e7994f1c06e82",
   "outputs": [],
   "execution_count": null
  },
  {
   "cell_type": "code",
   "id": "pgetx79rp0a",
   "source": "nmdc_readonly_df",
   "metadata": {},
   "outputs": [],
   "execution_count": null
  },
  {
   "metadata": {},
   "cell_type": "code",
   "source": "nmdc_readonly_df.to_csv('nmdc_elements_with_readonly.tsv', sep='\\t', index=False)",
   "id": "66a7ed69ea92d516",
   "outputs": [],
   "execution_count": null
  },
  {
   "metadata": {},
   "cell_type": "markdown",
   "source": "----",
   "id": "bee105836488b2ad"
  },
  {
   "metadata": {},
   "cell_type": "code",
   "source": "meta_elements = meta_view.all_elements()",
   "id": "930a81a345fdee43",
   "outputs": [],
   "execution_count": null
  },
  {
   "metadata": {},
   "cell_type": "code",
   "source": [
    "meta_element_names = list(meta_elements.keys())\n",
    "meta_element_names.sort()"
   ],
   "id": "335b300d7f847ccd",
   "outputs": [],
   "execution_count": null
  },
  {
   "metadata": {},
   "cell_type": "code",
   "source": [
    "annotation_dict = schema_view.annotation_dict('depth')\n",
    "annotation_dict"
   ],
   "id": "23334ca2f8a0691",
   "outputs": [],
   "execution_count": null
  },
  {
   "metadata": {},
   "cell_type": "code",
   "source": [
    "class_name_mappings = schema_view.class_name_mappings()\n",
    "class_name_mappings"
   ],
   "id": "5bb3af18b0e3f8b0",
   "outputs": [],
   "execution_count": null
  },
  {
   "metadata": {},
   "cell_type": "code",
   "source": [
    "depth = schema_view.get_slot('depth')\n",
    "classes_by_slot = schema_view.get_classes_by_slot(depth)\n",
    "classes_by_slot"
   ],
   "id": "813765adbd90c87e",
   "outputs": [],
   "execution_count": null
  },
  {
   "metadata": {},
   "cell_type": "code",
   "source": [
    "has_unit = schema_view.get_slot('has_unit')\n",
    "schema_view.get_classes_modifying_slot(has_unit)"
   ],
   "id": "7562afbed65beb91",
   "outputs": [],
   "execution_count": null
  },
  {
   "metadata": {},
   "cell_type": "code",
   "source": [
    "# get_elements_applicable_by_identifier\n",
    "# get_elements_applicable_by_prefix"
   ],
   "id": "a91c1cb8268b80df",
   "outputs": [],
   "execution_count": null
  },
  {
   "metadata": {},
   "cell_type": "code",
   "source": [
    "mapping_index = schema_view.get_mapping_index()\n",
    "mapping_index"
   ],
   "id": "2b98721d05a99c95",
   "outputs": [],
   "execution_count": null
  },
  {
   "metadata": {},
   "cell_type": "code",
   "source": [
    "slots_by_enum = schema_view.get_slots_by_enum('UnitEnum')\n",
    "slots_by_enum"
   ],
   "id": "7fdcf8918eb41e7c",
   "outputs": [],
   "execution_count": null
  },
  {
   "metadata": {},
   "cell_type": "code",
   "source": [
    "uri_gotten = schema_view.get_uri(depth)\n",
    "uri_gotten"
   ],
   "id": "295c0d294c0dd434",
   "outputs": [],
   "execution_count": null
  },
  {
   "metadata": {},
   "cell_type": "code",
   "source": [
    "importmap = schema_view.importmap\n",
    "importmap"
   ],
   "id": "a98bf812f68a5ca8",
   "outputs": [],
   "execution_count": null
  },
  {
   "metadata": {},
   "cell_type": "code",
   "source": [
    "imports_closure = schema_view.imports_closure\n",
    "imports_closure"
   ],
   "id": "e9d604143a0df621",
   "outputs": [],
   "execution_count": null
  },
  {
   "metadata": {},
   "cell_type": "code",
   "source": [
    "in_schema = schema_view.in_schema('QuantityValue')\n",
    "in_schema"
   ],
   "id": "d759e101cd680a78",
   "outputs": [],
   "execution_count": null
  },
  {
   "metadata": {},
   "cell_type": "code",
   "source": [
    "namespaces = schema_view.namespaces\n",
    "namespaces"
   ],
   "id": "d52831cfa809b622",
   "outputs": [],
   "execution_count": null
  }
 ],
 "metadata": {
  "kernelspec": {
   "display_name": "Python 3",
   "language": "python",
   "name": "python3"
  },
  "language_info": {
   "codemirror_mode": {
    "name": "ipython",
    "version": 2
   },
   "file_extension": ".py",
   "mimetype": "text/x-python",
   "name": "python",
   "nbconvert_exporter": "python",
   "pygments_lexer": "ipython2",
   "version": "2.7.6"
  }
 },
 "nbformat": 4,
 "nbformat_minor": 5
}
