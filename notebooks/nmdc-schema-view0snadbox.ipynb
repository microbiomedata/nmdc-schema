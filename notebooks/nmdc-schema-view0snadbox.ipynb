{
 "cells": [
  {
   "cell_type": "markdown",
   "id": "satisfied-wagon",
   "metadata": {
    "pycharm": {
     "name": "#%% md\n"
    }
   },
   "source": [
    "# NMDC Schema sandbox\n",
    "## Using the LinkML SchemaView() methods.\n",
    "\n",
    "First example: what can we learn from GOLD identifiers, that might be applicable to IMG identifiers?"
   ]
  },
  {
   "cell_type": "code",
   "execution_count": 38,
   "outputs": [],
   "source": [
    "from linkml_runtime.utils.schemaview import SchemaView\n",
    "from linkml_runtime.dumpers import yaml_dumper\n",
    "from nmdc_schema.nmdc import Biosample\n",
    "from nmdc_schema.nmdc import ControlledTermValue"
   ],
   "metadata": {
    "collapsed": false,
    "pycharm": {
     "name": "#%%\n"
    }
   }
  },
  {
   "cell_type": "code",
   "execution_count": 16,
   "id": "muslim-volunteer",
   "metadata": {
    "pycharm": {
     "name": "#%%\n"
    }
   },
   "outputs": [],
   "source": [
    "view = SchemaView('../src/schema/nmdc.yaml')"
   ]
  },
  {
   "cell_type": "code",
   "execution_count": 20,
   "outputs": [],
   "source": [
    "anchor_slot_name = 'GOLD identifiers'"
   ],
   "metadata": {
    "collapsed": false,
    "pycharm": {
     "name": "#%%\n"
    }
   }
  },
  {
   "cell_type": "code",
   "execution_count": 21,
   "outputs": [],
   "source": [
    "anchor_slot = view.get_slot(anchor_slot_name)"
   ],
   "metadata": {
    "collapsed": false,
    "pycharm": {
     "name": "#%%\n"
    }
   }
  },
  {
   "cell_type": "code",
   "execution_count": 23,
   "outputs": [
    {
     "data": {
      "text/plain": "'slot_definition'"
     },
     "execution_count": 23,
     "metadata": {},
     "output_type": "execute_result"
    }
   ],
   "source": [
    "type(anchor_slot).class_name"
   ],
   "metadata": {
    "collapsed": false,
    "pycharm": {
     "name": "#%%\n"
    }
   }
  },
  {
   "cell_type": "code",
   "execution_count": 19,
   "outputs": [
    {
     "name": "stdout",
     "output_type": "stream",
     "text": [
      "name: GOLD identifiers\n",
      "from_schema: https://microbiomedata/schema/external_identifiers\n",
      "see_also:\n",
      "- https://gold.jgi.doe.gov/\n",
      "mixin: true\n",
      "\n"
     ]
    }
   ],
   "source": [
    "print(yaml_dumper.dumps(anchor_slot))"
   ],
   "metadata": {
    "collapsed": false,
    "pycharm": {
     "name": "#%%\n"
    }
   }
  },
  {
   "cell_type": "code",
   "execution_count": 13,
   "outputs": [
    {
     "data": {
      "text/plain": "['GOLD identifiers',\n 'GOLD study identifiers',\n 'GOLD sample identifiers',\n 'GOLD sequencing project identifiers',\n 'GOLD analysis project identifiers']"
     },
     "execution_count": 13,
     "metadata": {},
     "output_type": "execute_result"
    }
   ],
   "source": [
    "view.slot_descendants(anchor_slot_name)"
   ],
   "metadata": {
    "collapsed": false,
    "pycharm": {
     "name": "#%%\n"
    }
   }
  },
  {
   "cell_type": "code",
   "execution_count": 26,
   "outputs": [],
   "source": [
    "anchor_ancestor_names = view.slot_ancestors('GOLD sample identifiers')"
   ],
   "metadata": {
    "collapsed": false,
    "pycharm": {
     "name": "#%%\n"
    }
   }
  },
  {
   "cell_type": "code",
   "execution_count": 28,
   "outputs": [
    {
     "name": "stdout",
     "output_type": "stream",
     "text": [
      "name: GOLD sample identifiers\n",
      "description: identifiers for corresponding sample in GOLD\n",
      "examples:\n",
      "- value: https://identifiers.org/gold:Gb0312930\n",
      "from_schema: https://microbiomedata/schema/external_identifiers\n",
      "is_a: sample identifiers\n",
      "mixins:\n",
      "- GOLD identifiers\n",
      "multivalued: true\n",
      "pattern: ^GOLD:Gb[0-9]+$\n",
      "\n",
      "name: GOLD identifiers\n",
      "from_schema: https://microbiomedata/schema/external_identifiers\n",
      "see_also:\n",
      "- https://gold.jgi.doe.gov/\n",
      "mixin: true\n",
      "\n",
      "name: sample identifiers\n",
      "from_schema: https://microbiomedata/schema/external_identifiers\n",
      "is_a: external database identifiers\n",
      "abstract: true\n",
      "\n",
      "name: external database identifiers\n",
      "description: Link to corresponding identifier in external database\n",
      "comments:\n",
      "- The value of this field is always a registered CURIE\n",
      "from_schema: https://microbiomedata/schema/external_identifiers\n",
      "close_mappings:\n",
      "- skos:closeMatch\n",
      "is_a: alternative identifiers\n",
      "abstract: true\n",
      "multivalued: true\n",
      "range: external identifier\n",
      "\n",
      "name: alternative identifiers\n",
      "description: A list of alternative identifiers for the entity.\n",
      "from_schema: https://microbiomedata/schema/basic_slots\n",
      "multivalued: true\n",
      "range: string\n",
      "\n"
     ]
    }
   ],
   "source": [
    "for i in anchor_ancestor_names:\n",
    "    print(yaml_dumper.dumps(view.get_slot(i)))"
   ],
   "metadata": {
    "collapsed": false,
    "pycharm": {
     "name": "#%%\n"
    }
   }
  },
  {
   "cell_type": "markdown",
   "source": [
    "Would be nice to know the domain!"
   ],
   "metadata": {
    "collapsed": false,
    "pycharm": {
     "name": "#%% md\n"
    }
   }
  },
  {
   "cell_type": "code",
   "execution_count": 30,
   "outputs": [],
   "source": [
    "ex_id_element = view.get_element('external identifier')"
   ],
   "metadata": {
    "collapsed": false,
    "pycharm": {
     "name": "#%%\n"
    }
   }
  },
  {
   "cell_type": "code",
   "execution_count": 32,
   "outputs": [
    {
     "data": {
      "text/plain": "'type_definition'"
     },
     "execution_count": 32,
     "metadata": {},
     "output_type": "execute_result"
    }
   ],
   "source": [
    "type(ex_id_element).class_name"
   ],
   "metadata": {
    "collapsed": false,
    "pycharm": {
     "name": "#%%\n"
    }
   }
  },
  {
   "cell_type": "code",
   "execution_count": 31,
   "outputs": [
    {
     "name": "stdout",
     "output_type": "stream",
     "text": [
      "name: external identifier\n",
      "description: A CURIE representing an external identifier\n",
      "from_schema: https://microbiomedata/schema/external_identifiers\n",
      "see_also:\n",
      "- https://microbiomedata.github.io/nmdc-schema/identifiers.html\n",
      "typeof: uriorcurie\n",
      "\n"
     ]
    }
   ],
   "source": [
    "print(yaml_dumper.dumps(ex_id_element))"
   ],
   "metadata": {
    "collapsed": false,
    "pycharm": {
     "name": "#%%\n"
    }
   }
  },
  {
   "cell_type": "code",
   "execution_count": 37,
   "outputs": [
    {
     "ename": "TypeError",
     "evalue": "nmdc_schema.nmdc.ControlledTermValue() argument after ** must be a mapping, not str",
     "output_type": "error",
     "traceback": [
      "\u001B[0;31m---------------------------------------------------------------------------\u001B[0m",
      "\u001B[0;31mTypeError\u001B[0m                                 Traceback (most recent call last)",
      "Cell \u001B[0;32mIn [37], line 1\u001B[0m\n\u001B[0;32m----> 1\u001B[0m bs1 \u001B[38;5;241m=\u001B[39m \u001B[43mBiosample\u001B[49m\u001B[43m(\u001B[49m\u001B[38;5;28;43mid\u001B[39;49m\u001B[38;5;241;43m=\u001B[39;49m\u001B[38;5;124;43m'\u001B[39;49m\u001B[38;5;124;43mxyz\u001B[39;49m\u001B[38;5;124;43m'\u001B[39;49m\u001B[43m,\u001B[49m\u001B[43m \u001B[49m\u001B[43mpart_of\u001B[49m\u001B[38;5;241;43m=\u001B[39;49m\u001B[38;5;124;43m'\u001B[39;49m\u001B[38;5;124;43mabc\u001B[39;49m\u001B[38;5;124;43m'\u001B[39;49m\u001B[43m,\u001B[49m\u001B[43m \u001B[49m\u001B[43menv_broad_scale\u001B[49m\u001B[38;5;241;43m=\u001B[39;49m\u001B[38;5;124;43m'\u001B[39;49m\u001B[38;5;124;43mlmlmlm\u001B[39;49m\u001B[38;5;124;43m'\u001B[39;49m\u001B[43m)\u001B[49m\n",
      "File \u001B[0;32m<string>:150\u001B[0m, in \u001B[0;36m__init__\u001B[0;34m(self, id, name, description, alternative_identifiers, part_of, env_broad_scale, env_local_scale, env_medium, type, agrochem_addition, alkalinity, alkalinity_method, alkyl_diethers, alt, al_sat, al_sat_meth, aminopept_act, ammonium, annual_precpt, annual_temp, bacteria_carb_prod, bishomohopanol, bromide, calcium, carb_nitro_ratio, chem_administration, chloride, chlorophyll, collection_date, cur_land_use, cur_vegetation, cur_vegetation_meth, crop_rotation, density, depth, diss_carb_dioxide, diss_hydrogen, diss_inorg_carb, diss_inorg_phosp, diss_org_carb, diss_org_nitro, diss_oxygen, drainage_class, elev, env_package, extreme_event, fao_class, fire, flooding, geo_loc_name, glucosidase_act, heavy_metals, heavy_metals_meth, horizon, horizon_meth, lat_lon, link_addit_analys, link_class_info, link_climate_info, local_class, local_class_meth, magnesium, mean_frict_vel, mean_peak_frict_vel, microbial_biomass, microbial_biomass_meth, misc_param, n_alkanes, nitrate, nitrite, org_matter, org_nitro, organism_count, oxy_stat_samp, part_org_carb, perturbation, petroleum_hydrocarb, ph, ph_meth, phaeopigments, phosplipid_fatt_acid, pool_dna_extracts, potassium, pressure, previous_land_use, previous_land_use_meth, profile_position, redox_potential, salinity, salinity_meth, samp_collect_device, samp_mat_process, samp_store_dur, samp_store_loc, samp_store_temp, samp_vol_we_dna_ext, season_temp, season_precpt, sieving, size_frac_low, size_frac_up, slope_gradient, slope_aspect, sodium, soil_type, soil_type_meth, store_cond, sulfate, sulfide, temp, texture, texture_meth, tillage, tidal_stage, tot_carb, tot_depth_water_col, tot_diss_nitro, tot_org_carb, tot_org_c_meth, tot_nitro_content, tot_phosp, water_content, ecosystem, ecosystem_category, ecosystem_type, ecosystem_subtype, specific_ecosystem, add_date, community, depth2, habitat, host_name, identifier, location, mod_date, ncbi_taxonomy_name, proport_woa_temperature, salinity_category, sample_collection_site, soluble_iron_micromol, subsurface_depth, subsurface_depth2, GOLD_sample_identifiers, INSDC_biosample_identifiers, INSDC_secondary_sample_identifiers, tot_nitro_cont_meth, water_cont_soil_meth, **_kwargs)\u001B[0m\n",
      "File \u001B[0;32m~/Documents/gitrepos/nmdc-schema/nmdc_schema/nmdc.py:649\u001B[0m, in \u001B[0;36mBiosample.__post_init__\u001B[0;34m(self, *_, **kwargs)\u001B[0m\n\u001B[1;32m    647\u001B[0m     \u001B[38;5;28mself\u001B[39m\u001B[38;5;241m.\u001B[39mMissingRequiredField(\u001B[38;5;124m\"\u001B[39m\u001B[38;5;124menv_broad_scale\u001B[39m\u001B[38;5;124m\"\u001B[39m)\n\u001B[1;32m    648\u001B[0m \u001B[38;5;28;01mif\u001B[39;00m \u001B[38;5;129;01mnot\u001B[39;00m \u001B[38;5;28misinstance\u001B[39m(\u001B[38;5;28mself\u001B[39m\u001B[38;5;241m.\u001B[39menv_broad_scale, ControlledTermValue):\n\u001B[0;32m--> 649\u001B[0m     \u001B[38;5;28mself\u001B[39m\u001B[38;5;241m.\u001B[39menv_broad_scale \u001B[38;5;241m=\u001B[39m ControlledTermValue(\u001B[38;5;241m*\u001B[39m\u001B[38;5;241m*\u001B[39mas_dict(\u001B[38;5;28mself\u001B[39m\u001B[38;5;241m.\u001B[39menv_broad_scale))\n\u001B[1;32m    651\u001B[0m \u001B[38;5;28;01mif\u001B[39;00m \u001B[38;5;28mself\u001B[39m\u001B[38;5;241m.\u001B[39m_is_empty(\u001B[38;5;28mself\u001B[39m\u001B[38;5;241m.\u001B[39menv_local_scale):\n\u001B[1;32m    652\u001B[0m     \u001B[38;5;28mself\u001B[39m\u001B[38;5;241m.\u001B[39mMissingRequiredField(\u001B[38;5;124m\"\u001B[39m\u001B[38;5;124menv_local_scale\u001B[39m\u001B[38;5;124m\"\u001B[39m)\n",
      "\u001B[0;31mTypeError\u001B[0m: nmdc_schema.nmdc.ControlledTermValue() argument after ** must be a mapping, not str"
     ]
    }
   ],
   "source": [
    "\n",
    "from nmdc_schema.nmdc import ControlledTermValue\n",
    "\n",
    "bs1 = Biosample(id='xyz', part_of='abc', env_broad_scale=ControlledTermValue('lmlmlm')"
   ],
   "metadata": {
    "collapsed": false,
    "pycharm": {
     "name": "#%%\n"
    }
   }
  },
  {
   "cell_type": "code",
   "execution_count": null,
   "outputs": [],
   "source": [],
   "metadata": {
    "collapsed": false,
    "pycharm": {
     "name": "#%%\n"
    }
   }
  },
  {
   "cell_type": "code",
   "execution_count": 41,
   "outputs": [
    {
     "data": {
      "text/plain": "['biosample']"
     },
     "execution_count": 41,
     "metadata": {},
     "output_type": "execute_result"
    }
   ],
   "source": [
    "view.get_classes_by_slot(view.get_slot('GOLD sample identifiers'))"
   ],
   "metadata": {
    "collapsed": false,
    "pycharm": {
     "name": "#%%\n"
    }
   }
  },
  {
   "cell_type": "code",
   "execution_count": null,
   "outputs": [],
   "source": [],
   "metadata": {
    "collapsed": false,
    "pycharm": {
     "name": "#%%\n"
    }
   }
  }
 ],
 "metadata": {
  "kernelspec": {
   "display_name": "Python 3 (ipykernel)",
   "language": "python",
   "name": "python3"
  },
  "language_info": {
   "codemirror_mode": {
    "name": "ipython",
    "version": 3
   },
   "file_extension": ".py",
   "mimetype": "text/x-python",
   "name": "python",
   "nbconvert_exporter": "python",
   "pygments_lexer": "ipython3",
   "version": "3.9.7"
  }
 },
 "nbformat": 4,
 "nbformat_minor": 5
}