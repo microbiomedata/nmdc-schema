{
 "cells": [
  {
   "cell_type": "code",
   "execution_count": 1,
   "outputs": [],
   "source": [
    "import pandas as pd"
   ],
   "metadata": {
    "collapsed": false,
    "ExecuteTime": {
     "end_time": "2023-06-05T12:47:05.277062Z",
     "start_time": "2023-06-05T12:47:04.563441Z"
    }
   }
  },
  {
   "cell_type": "code",
   "execution_count": 3,
   "outputs": [],
   "source": [
    "mixs_slots_by_submission_class = pd.read_csv(\"../assets/mixs_slots_by_submission_class.tsv\", delimiter=\"\\t\")"
   ],
   "metadata": {
    "collapsed": false,
    "ExecuteTime": {
     "end_time": "2023-06-05T12:47:56.190103Z",
     "start_time": "2023-06-05T12:47:56.162820Z"
    }
   }
  },
  {
   "cell_type": "code",
   "execution_count": 4,
   "outputs": [],
   "source": [
    "mixs_slots_from_sheets_and_friends = mixs_slots_by_submission_class['slot'].unique().tolist()"
   ],
   "metadata": {
    "collapsed": false,
    "ExecuteTime": {
     "end_time": "2023-06-05T12:48:07.718034Z",
     "start_time": "2023-06-05T12:48:07.712349Z"
    }
   }
  },
  {
   "cell_type": "code",
   "execution_count": 5,
   "outputs": [],
   "source": [
    "# mixs_slots_from_sheets_and_friends"
   ],
   "metadata": {
    "collapsed": false,
    "ExecuteTime": {
     "end_time": "2023-06-05T12:48:08.501608Z",
     "start_time": "2023-06-05T12:48:08.494800Z"
    }
   }
  },
  {
   "cell_type": "code",
   "execution_count": 6,
   "outputs": [],
   "source": [
    "from linkml_runtime import SchemaView"
   ],
   "metadata": {
    "collapsed": false,
    "ExecuteTime": {
     "end_time": "2023-06-05T12:48:10.109463Z",
     "start_time": "2023-06-05T12:48:09.711650Z"
    }
   }
  },
  {
   "cell_type": "code",
   "execution_count": 7,
   "outputs": [],
   "source": [
    "nmdc_mixs_file = \"../src/schema/mixs.yaml\""
   ],
   "metadata": {
    "collapsed": false,
    "ExecuteTime": {
     "end_time": "2023-06-05T12:48:13.729411Z",
     "start_time": "2023-06-05T12:48:13.723564Z"
    }
   }
  },
  {
   "cell_type": "code",
   "execution_count": 8,
   "outputs": [],
   "source": [
    "nmdc_mixs_view = SchemaView(nmdc_mixs_file)"
   ],
   "metadata": {
    "collapsed": false,
    "ExecuteTime": {
     "end_time": "2023-06-05T12:48:16.824138Z",
     "start_time": "2023-06-05T12:48:14.977081Z"
    }
   }
  },
  {
   "cell_type": "code",
   "execution_count": 9,
   "outputs": [],
   "source": [
    "nmdc_mixs_slots = nmdc_mixs_view.all_slots()\n",
    "nmdc_mixs_slot_names = [v.name for k,v in nmdc_mixs_slots.items()]\n",
    "nmdc_mixs_slot_names.sort()"
   ],
   "metadata": {
    "collapsed": false,
    "ExecuteTime": {
     "end_time": "2023-06-05T12:48:18.132782Z",
     "start_time": "2023-06-05T12:48:17.996531Z"
    }
   }
  },
  {
   "cell_type": "code",
   "execution_count": 10,
   "outputs": [],
   "source": [
    "for_augmentation = list(set(mixs_slots_from_sheets_and_friends) - set(nmdc_mixs_slot_names))\n",
    "for_augmentation.sort()\n"
   ],
   "metadata": {
    "collapsed": false,
    "ExecuteTime": {
     "end_time": "2023-06-05T12:48:26.217191Z",
     "start_time": "2023-06-05T12:48:26.213151Z"
    }
   }
  },
  {
   "cell_type": "code",
   "execution_count": 11,
   "outputs": [
    {
     "name": "stdout",
     "output_type": "stream",
     "text": [
      "['ammonium_nitrogen', 'dna_cont_well', 'ecosystem', 'ecosystem_category', 'ecosystem_subtype', 'ecosystem_type', 'lbc_thirty', 'lbceq', 'manganese', 'nitrate_nitrogen', 'nitrite_nitrogen', 'rel_to_oxygen', 'specific_ecosystem', 'zinc']\n"
     ]
    }
   ],
   "source": [
    "print(list(for_augmentation))"
   ],
   "metadata": {
    "collapsed": false,
    "ExecuteTime": {
     "end_time": "2023-06-05T12:48:27.634421Z",
     "start_time": "2023-06-05T12:48:27.595746Z"
    }
   }
  },
  {
   "cell_type": "code",
   "execution_count": null,
   "outputs": [],
   "source": [],
   "metadata": {
    "collapsed": false
   }
  }
 ],
 "metadata": {
  "kernelspec": {
   "display_name": "Python 3",
   "language": "python",
   "name": "python3"
  },
  "language_info": {
   "codemirror_mode": {
    "name": "ipython",
    "version": 2
   },
   "file_extension": ".py",
   "mimetype": "text/x-python",
   "name": "python",
   "nbconvert_exporter": "python",
   "pygments_lexer": "ipython2",
   "version": "2.7.6"
  }
 },
 "nbformat": 4,
 "nbformat_minor": 0
}
