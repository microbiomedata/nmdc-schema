{
 "cells": [
  {
   "metadata": {
    "ExecuteTime": {
     "end_time": "2025-06-25T18:05:15.653662Z",
     "start_time": "2025-06-25T18:05:15.032391Z"
    }
   },
   "cell_type": "code",
   "source": "from linkml_runtime import SchemaView",
   "id": "2fc292d130237649",
   "outputs": [],
   "execution_count": 1
  },
  {
   "cell_type": "code",
   "id": "initial_id",
   "metadata": {
    "collapsed": true,
    "ExecuteTime": {
     "end_time": "2025-06-25T18:05:15.677777Z",
     "start_time": "2025-06-25T18:05:15.674642Z"
    }
   },
   "source": "schema_file = \"../nmdc_schema/nmdc_materialized_patterns.yaml\"",
   "outputs": [],
   "execution_count": 2
  },
  {
   "metadata": {
    "ExecuteTime": {
     "end_time": "2025-06-25T18:05:16.804916Z",
     "start_time": "2025-06-25T18:05:15.693110Z"
    }
   },
   "cell_type": "code",
   "source": "schema_view = SchemaView(schema_file)",
   "id": "88fd4b49f2654560",
   "outputs": [],
   "execution_count": 3
  },
  {
   "metadata": {
    "ExecuteTime": {
     "end_time": "2025-06-25T18:05:21.760550Z",
     "start_time": "2025-06-25T18:05:21.755991Z"
    }
   },
   "cell_type": "code",
   "source": "class_names = schema_view.all_classes(ordered_by=None).keys()",
   "id": "5bff68b464a33bfb",
   "outputs": [],
   "execution_count": 4
  },
  {
   "metadata": {},
   "cell_type": "code",
   "source": "# print(class_names)",
   "id": "5b8be7ff434f5abe",
   "outputs": [],
   "execution_count": null
  },
  {
   "metadata": {
    "ExecuteTime": {
     "end_time": "2025-06-25T18:13:01.340794Z",
     "start_time": "2025-06-25T18:13:01.333753Z"
    }
   },
   "cell_type": "code",
   "source": [
    "# Get all class names and sort them alphabetically\n",
    "class_names = sorted(schema_view.all_classes(ordered_by=None).keys())\n",
    "\n",
    "for cn in class_names:\n",
    "    induced_class = schema_view.induced_class(cn)\n",
    "    ic_slots = induced_class.attributes\n",
    "    total_slots = len(ic_slots)\n",
    "    required_slots = sum(1 for _, slot in ic_slots.items() if slot.required)\n",
    "\n",
    "    if total_slots > 0:\n",
    "        required_percentage = (required_slots / total_slots) * 100\n",
    "        print(f\"{cn}: {required_percentage:.2f}% required ({required_slots}/{total_slots})\")\n",
    "    else:\n",
    "        print(f\"{cn}: No slots found\")"
   ],
   "id": "f73f4e13d493586a",
   "outputs": [
    {
     "name": "stdout",
     "output_type": "stream",
     "text": [
      "AnnotatingWorkflow: 35.00% required (7/20)\n",
      "AttributeValue: 50.00% required (1/2)\n",
      "Biosample: 1.02% required (6/586)\n",
      "CalibrationInformation: 44.44% required (4/9)\n",
      "ChemicalConversionProcess: 10.00% required (2/20)\n",
      "ChemicalEntity: 18.18% required (2/11)\n",
      "ChromatographicSeparationProcess: 10.53% required (2/19)\n",
      "ChromatographyConfiguration: 44.44% required (4/9)\n",
      "CollectingBiosamplesFromSite: 28.57% required (4/14)\n",
      "Configuration: 40.00% required (2/5)\n",
      "ControlledIdentifiedTermValue: 66.67% required (2/3)\n",
      "ControlledTermValue: 33.33% required (1/3)\n",
      "CreditAssociation: 100.00% required (3/3)\n",
      "DataEmitterProcess: 14.29% required (2/14)\n",
      "DataGeneration: 25.00% required (5/20)\n",
      "DataObject: 28.57% required (4/14)\n",
      "Database: 0.00% required (0/17)\n",
      "DissolvingProcess: 11.11% required (2/18)\n",
      "Doi: 75.00% required (3/4)\n",
      "EnvironmentalMaterialTerm: 20.00% required (2/10)\n",
      "EukEval: 20.00% required (1/5)\n",
      "Extraction: 21.05% required (4/19)\n",
      "FailureCategorization: 33.33% required (1/3)\n",
      "FieldResearchSite: 15.38% required (2/13)\n",
      "FiltrationProcess: 8.70% required (2/23)\n",
      "FunctionalAnnotation: 20.00% required (1/5)\n",
      "FunctionalAnnotationAggMember: 100.00% required (4/4)\n",
      "FunctionalAnnotationTerm: 20.00% required (2/10)\n",
      "GeneProduct: 40.00% required (2/5)\n",
      "GenomeFeature: 44.44% required (4/9)\n",
      "GeolocationValue: 75.00% required (3/4)\n",
      "ImageValue: 20.00% required (1/5)\n",
      "InformationObject: 40.00% required (2/5)\n",
      "Instrument: 28.57% required (2/7)\n",
      "LibraryPreparation: 17.39% required (4/23)\n",
      "MagBin: 9.52% required (2/21)\n",
      "MagsAnalysis: 25.93% required (7/27)\n",
      "Manifest: 50.00% required (3/6)\n",
      "MassSpectrometry: 20.83% required (5/24)\n",
      "MassSpectrometryConfiguration: 36.36% required (4/11)\n",
      "MaterialEntity: 40.00% required (2/5)\n",
      "MaterialProcessing: 13.33% required (2/15)\n",
      "MetaboliteIdentification: 25.00% required (1/4)\n",
      "MetabolomicsAnalysis: 34.78% required (8/23)\n",
      "MetagenomeAnnotation: 31.82% required (7/22)\n",
      "MetagenomeAssembly: 14.58% required (7/48)\n",
      "MetagenomeSequencing: 35.00% required (7/20)\n",
      "MetaproteomicsAnalysis: 38.10% required (8/21)\n",
      "MetatranscriptomeAnnotation: 31.82% required (7/22)\n",
      "MetatranscriptomeAssembly: 14.58% required (7/48)\n",
      "MetatranscriptomeExpressionAnalysis: 33.33% required (7/21)\n",
      "MixingProcess: 12.50% required (2/16)\n",
      "MobilePhaseSegment: 25.00% required (1/4)\n",
      "NamedThing: 40.00% required (2/5)\n",
      "NomAnalysis: 33.33% required (7/21)\n",
      "NucleotideSequencing: 19.23% required (5/26)\n",
      "OntologyClass: 20.00% required (2/10)\n",
      "OntologyRelation: 100.00% required (4/4)\n",
      "OrthologyGroup: 20.00% required (2/10)\n",
      "Pathway: 20.00% required (2/10)\n",
      "PersonValue: 14.29% required (1/7)\n",
      "PlannedProcess: 14.29% required (2/14)\n",
      "Pooling: 26.67% required (4/15)\n",
      "PortionOfSubstance: 14.29% required (1/7)\n",
      "ProcessedSample: 22.22% required (2/9)\n",
      "Protocol: 33.33% required (1/3)\n",
      "QuantityValue: 16.67% required (1/6)\n",
      "ReadBasedTaxonomyAnalysis: 35.00% required (7/20)\n",
      "ReadQcAnalysis: 26.92% required (7/26)\n",
      "Sample: 40.00% required (2/5)\n",
      "Site: 40.00% required (2/5)\n",
      "StorageProcess: 11.76% required (2/17)\n",
      "Study: 8.82% required (3/34)\n",
      "SubSamplingProcess: 9.52% required (2/21)\n",
      "TextValue: 33.33% required (1/3)\n",
      "TimestampValue: 50.00% required (1/2)\n",
      "WorkflowExecution: 35.00% required (7/20)\n"
     ]
    }
   ],
   "execution_count": 9
  }
 ],
 "metadata": {
  "kernelspec": {
   "display_name": "Python 3",
   "language": "python",
   "name": "python3"
  },
  "language_info": {
   "codemirror_mode": {
    "name": "ipython",
    "version": 2
   },
   "file_extension": ".py",
   "mimetype": "text/x-python",
   "name": "python",
   "nbconvert_exporter": "python",
   "pygments_lexer": "ipython2",
   "version": "2.7.6"
  }
 },
 "nbformat": 4,
 "nbformat_minor": 5
}
