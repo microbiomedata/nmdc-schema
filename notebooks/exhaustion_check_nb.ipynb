{
 "cells": [
  {
   "metadata": {},
   "cell_type": "markdown",
   "source": "I have a PyPI package for this too but let's try from scratch with an LLM",
   "id": "2b95f9bfb79c7e64"
  },
  {
   "cell_type": "code",
   "id": "initial_id",
   "metadata": {
    "collapsed": true,
    "ExecuteTime": {
     "end_time": "2025-07-09T00:14:41.906039Z",
     "start_time": "2025-07-09T00:14:41.285377Z"
    }
   },
   "source": [
    "import glob\n",
    "import os\n",
    "\n",
    "import yaml\n",
    "\n",
    "from nmdc_schema.get_nmdc_view import ViewGetter"
   ],
   "outputs": [],
   "execution_count": 1
  },
  {
   "metadata": {
    "ExecuteTime": {
     "end_time": "2025-07-09T00:14:43.067993Z",
     "start_time": "2025-07-09T00:14:42.178507Z"
    }
   },
   "cell_type": "code",
   "source": [
    "vg = ViewGetter()\n",
    "schema_view = vg.get_view()"
   ],
   "id": "4945d6336485c5c0",
   "outputs": [],
   "execution_count": 2
  },
  {
   "metadata": {
    "ExecuteTime": {
     "end_time": "2025-07-09T00:14:44.606378Z",
     "start_time": "2025-07-09T00:14:44.268749Z"
    }
   },
   "cell_type": "code",
   "source": "induced_biosample = schema_view.induced_class(\"Biosample\")",
   "id": "ae0e33de400e8348",
   "outputs": [],
   "execution_count": 3
  },
  {
   "metadata": {
    "ExecuteTime": {
     "end_time": "2025-07-09T00:14:46.204004Z",
     "start_time": "2025-07-09T00:14:46.200440Z"
    }
   },
   "cell_type": "code",
   "source": "ib_attributes = induced_biosample.attributes",
   "id": "12eb7dccde2f7b48",
   "outputs": [],
   "execution_count": 4
  },
  {
   "metadata": {
    "ExecuteTime": {
     "end_time": "2025-07-09T00:14:47.644383Z",
     "start_time": "2025-07-09T00:14:47.640682Z"
    }
   },
   "cell_type": "code",
   "source": "biosample_slots = ib_attributes.keys()",
   "id": "8be8d7e64384baac",
   "outputs": [],
   "execution_count": 5
  },
  {
   "metadata": {
    "ExecuteTime": {
     "end_time": "2025-07-09T00:14:49.100247Z",
     "start_time": "2025-07-09T00:14:49.092549Z"
    }
   },
   "cell_type": "code",
   "source": "len(biosample_slots)",
   "id": "a11d94484d8416f1",
   "outputs": [
    {
     "data": {
      "text/plain": [
       "586"
      ]
     },
     "execution_count": 6,
     "metadata": {},
     "output_type": "execute_result"
    }
   ],
   "execution_count": 6
  },
  {
   "metadata": {
    "ExecuteTime": {
     "end_time": "2025-07-09T00:14:50.548506Z",
     "start_time": "2025-07-09T00:14:50.545257Z"
    }
   },
   "cell_type": "code",
   "source": "biosample_qv_slots = [k for k in biosample_slots if ib_attributes[k].range == \"QuantityValue\"]",
   "id": "269bab86e71b1147",
   "outputs": [],
   "execution_count": 7
  },
  {
   "metadata": {
    "ExecuteTime": {
     "end_time": "2025-07-09T00:14:52.042830Z",
     "start_time": "2025-07-09T00:14:52.039759Z"
    }
   },
   "cell_type": "code",
   "source": "biosample_qv_slots.sort()",
   "id": "f8ac282624f60906",
   "outputs": [],
   "execution_count": 8
  },
  {
   "metadata": {
    "ExecuteTime": {
     "end_time": "2025-07-09T00:14:53.483929Z",
     "start_time": "2025-07-09T00:14:53.478589Z"
    }
   },
   "cell_type": "code",
   "source": "# biosample_qv_slots",
   "id": "5fe91dae6f361067",
   "outputs": [
    {
     "data": {
      "text/plain": [
       "['abs_air_humidity',\n",
       " 'air_temp',\n",
       " 'al_sat',\n",
       " 'alkalinity',\n",
       " 'alkyl_diethers',\n",
       " 'alt',\n",
       " 'aminopept_act',\n",
       " 'ammonium',\n",
       " 'ammonium_nitrogen',\n",
       " 'amount_light',\n",
       " 'annual_precpt',\n",
       " 'annual_temp',\n",
       " 'api',\n",
       " 'avg_dew_point',\n",
       " 'avg_temp',\n",
       " 'bac_prod',\n",
       " 'bac_resp',\n",
       " 'bacteria_carb_prod',\n",
       " 'barometric_press',\n",
       " 'benzene',\n",
       " 'biochem_oxygen_dem',\n",
       " 'bishomohopanol',\n",
       " 'blood_press_diast',\n",
       " 'blood_press_syst',\n",
       " 'bromide',\n",
       " 'built_struc_age',\n",
       " 'bulk_elect_conductivity',\n",
       " 'calcium',\n",
       " 'carb_dioxide',\n",
       " 'carb_monoxide',\n",
       " 'carb_nitro_ratio',\n",
       " 'ceil_area',\n",
       " 'ceil_thermal_mass',\n",
       " 'chem_oxygen_dem',\n",
       " 'chloride',\n",
       " 'chlorophyll',\n",
       " 'conduc',\n",
       " 'density',\n",
       " 'depth',\n",
       " 'dew_point',\n",
       " 'diss_carb_dioxide',\n",
       " 'diss_hydrogen',\n",
       " 'diss_inorg_carb',\n",
       " 'diss_inorg_nitro',\n",
       " 'diss_inorg_phosp',\n",
       " 'diss_iron',\n",
       " 'diss_org_carb',\n",
       " 'diss_org_nitro',\n",
       " 'diss_oxygen',\n",
       " 'diss_oxygen_fluid',\n",
       " 'door_size',\n",
       " 'down_par',\n",
       " 'efficiency_percent',\n",
       " 'ethylbenzene',\n",
       " 'exp_duct',\n",
       " 'exp_pipe',\n",
       " 'floor_age',\n",
       " 'floor_area',\n",
       " 'floor_thermal_mass',\n",
       " 'fluor',\n",
       " 'freq_clean',\n",
       " 'freq_cook',\n",
       " 'glucosidase_act',\n",
       " 'hcr_fw_salinity',\n",
       " 'height_carper_fiber',\n",
       " 'host_age',\n",
       " 'host_body_temp',\n",
       " 'host_dry_mass',\n",
       " 'host_height',\n",
       " 'host_length',\n",
       " 'host_tot_mass',\n",
       " 'host_wet_mass',\n",
       " 'humidity',\n",
       " 'indust_eff_percent',\n",
       " 'inside_lux',\n",
       " 'iwf',\n",
       " 'lbc_thirty',\n",
       " 'lbceq',\n",
       " 'light_intensity',\n",
       " 'magnesium',\n",
       " 'manganese',\n",
       " 'max_occup',\n",
       " 'mean_frict_vel',\n",
       " 'mean_peak_frict_vel',\n",
       " 'methane',\n",
       " 'microbial_biomass',\n",
       " 'nitrate',\n",
       " 'nitrate_nitrogen',\n",
       " 'nitrite',\n",
       " 'nitrite_nitrogen',\n",
       " 'nitro',\n",
       " 'number_pets',\n",
       " 'number_plants',\n",
       " 'number_resident',\n",
       " 'occup_density_samp',\n",
       " 'occup_samp',\n",
       " 'org_carb',\n",
       " 'org_matter',\n",
       " 'org_nitro',\n",
       " 'organism_count',\n",
       " 'owc_tvdss',\n",
       " 'oxygen',\n",
       " 'part_org_carb',\n",
       " 'part_org_nitro',\n",
       " 'petroleum_hydrocarb',\n",
       " 'phosphate',\n",
       " 'photon_flux',\n",
       " 'potassium',\n",
       " 'pour_point',\n",
       " 'pressure',\n",
       " 'primary_prod',\n",
       " 'prod_rate',\n",
       " 'redox_potential',\n",
       " 'rel_air_humidity',\n",
       " 'rel_humidity_out',\n",
       " 'room_air_exch_rate',\n",
       " 'room_occup',\n",
       " 'root_med_ph',\n",
       " 'salinity',\n",
       " 'samp_md',\n",
       " 'samp_size',\n",
       " 'samp_store_temp',\n",
       " 'season_precpt',\n",
       " 'season_temp',\n",
       " 'silicate',\n",
       " 'size_frac_low',\n",
       " 'size_frac_up',\n",
       " 'slope_aspect',\n",
       " 'slope_gradient',\n",
       " 'sludge_retent_time',\n",
       " 'sodium',\n",
       " 'soil_text_measure',\n",
       " 'solar_irradiance',\n",
       " 'soluble_react_phosp',\n",
       " 'specific_humidity',\n",
       " 'subsurface_depth',\n",
       " 'sulfate',\n",
       " 'sulfate_fw',\n",
       " 'sulfide',\n",
       " 'surf_humidity',\n",
       " 'surf_moisture',\n",
       " 'surf_temp',\n",
       " 'suspend_part_matter',\n",
       " 'tan',\n",
       " 'temp',\n",
       " 'temp_out',\n",
       " 'toluene',\n",
       " 'tot_carb',\n",
       " 'tot_depth_water_col',\n",
       " 'tot_diss_nitro',\n",
       " 'tot_inorg_nitro',\n",
       " 'tot_iron',\n",
       " 'tot_nitro',\n",
       " 'tot_nitro_content',\n",
       " 'tot_org_carb',\n",
       " 'tot_part_carb',\n",
       " 'tot_phosp',\n",
       " 'tot_phosphate',\n",
       " 'tot_sulfur',\n",
       " 'turbidity',\n",
       " 'tvdss_of_hcr_press',\n",
       " 'tvdss_of_hcr_temp',\n",
       " 'ventilation_rate',\n",
       " 'vfa',\n",
       " 'vfa_fw',\n",
       " 'wall_area',\n",
       " 'wall_height',\n",
       " 'wall_thermal_mass',\n",
       " 'water_current',\n",
       " 'water_cut',\n",
       " 'water_feat_size',\n",
       " 'water_prod_rate',\n",
       " 'wind_speed',\n",
       " 'xylene',\n",
       " 'zinc']"
      ]
     },
     "execution_count": 9,
     "metadata": {},
     "output_type": "execute_result"
    }
   ],
   "execution_count": 9
  },
  {
   "metadata": {
    "ExecuteTime": {
     "end_time": "2025-07-09T00:14:55.035267Z",
     "start_time": "2025-07-09T00:14:55.031802Z"
    }
   },
   "cell_type": "code",
   "source": [
    "biosample_files = []\n",
    "database_biosample_files = []"
   ],
   "id": "980f77da8c8cc18f",
   "outputs": [],
   "execution_count": 10
  },
  {
   "metadata": {
    "ExecuteTime": {
     "end_time": "2025-07-09T00:14:56.515527Z",
     "start_time": "2025-07-09T00:14:56.493533Z"
    }
   },
   "cell_type": "code",
   "source": [
    "# Iterate through YAML files in src/data/valid\n",
    "for yaml_file in glob.glob(\"../src/data/valid/*.yaml\"):\n",
    "    filename = os.path.basename(yaml_file)\n",
    "    # print(\"Processing file:\", filename)\n",
    "\n",
    "    if filename.startswith(\"Biosample\"):\n",
    "        biosample_files.append(yaml_file)\n",
    "\n",
    "    elif filename.startswith(\"Database\"):\n",
    "        # Read and check content for biosample_set\n",
    "        with open(yaml_file) as f:\n",
    "            content = f.read()\n",
    "            if \"biosample_set\" in content:\n",
    "                database_biosample_files.append(yaml_file)\n"
   ],
   "id": "788451367e9e8d76",
   "outputs": [],
   "execution_count": 11
  },
  {
   "metadata": {
    "ExecuteTime": {
     "end_time": "2025-07-09T00:14:57.995706Z",
     "start_time": "2025-07-09T00:14:57.993232Z"
    }
   },
   "cell_type": "code",
   "source": [
    "# print(\"Biosample files:\", biosample_files)\n",
    "# print(\"Database files with biosamples:\", database_biosample_files)"
   ],
   "id": "65bdc54e55ab7625",
   "outputs": [],
   "execution_count": 12
  },
  {
   "metadata": {
    "ExecuteTime": {
     "end_time": "2025-07-09T00:14:59.769924Z",
     "start_time": "2025-07-09T00:14:59.766906Z"
    }
   },
   "cell_type": "code",
   "source": "biosample_file_field_counts = {}",
   "id": "98d8dd5d75100922",
   "outputs": [],
   "execution_count": 13
  },
  {
   "metadata": {
    "ExecuteTime": {
     "end_time": "2025-07-09T00:15:01.443754Z",
     "start_time": "2025-07-09T00:15:01.274964Z"
    }
   },
   "cell_type": "code",
   "source": [
    "for yaml_file in biosample_files:\n",
    "    with open(yaml_file) as f:\n",
    "        yaml_dict = yaml.safe_load(f)\n",
    "        if yaml_dict:\n",
    "            biosample_id = yaml_dict.get('id', 'unknown')  # Get id or 'unknown' if not present\n",
    "            field_count = len(yaml_dict)\n",
    "            filename = os.path.basename(yaml_file)\n",
    "            biosample_file_field_counts[filename] = {'id': biosample_id, 'field_count': field_count}\n"
   ],
   "id": "7ffad0330759a069",
   "outputs": [],
   "execution_count": 14
  },
  {
   "metadata": {
    "ExecuteTime": {
     "end_time": "2025-07-09T00:15:02.934705Z",
     "start_time": "2025-07-09T00:15:02.930879Z"
    }
   },
   "cell_type": "code",
   "source": "biosample_file_field_counts",
   "id": "43eff0f1a7bdc913",
   "outputs": [
    {
     "data": {
      "text/plain": [
       "{'Biosample-possibly-exhaustive.yaml': {'id': 'nmdc:bsm-99-4444444',\n",
       "  'field_count': 576},\n",
       " 'Biosample-embargoed.yaml': {'id': 'nmdc:bsm-99-dtTMNb', 'field_count': 7},\n",
       " 'Biosample-soil_horizon.yaml': {'id': 'nmdc:bsm-99-dtTMNb', 'field_count': 7},\n",
       " 'Biosample-minimal.yaml': {'id': 'nmdc:bsm-99-dtTMNb', 'field_count': 6},\n",
       " 'Biosample-amplicon.yaml': {'id': 'nmdc:bsm-99-dtTMNb', 'field_count': 7},\n",
       " 'Biosample-with-fire.yaml': {'id': 'nmdc:bsm-99-dtTMNb', 'field_count': 7}}"
      ]
     },
     "execution_count": 15,
     "metadata": {},
     "output_type": "execute_result"
    }
   ],
   "execution_count": 15
  },
  {
   "metadata": {
    "ExecuteTime": {
     "end_time": "2025-07-09T00:15:04.420513Z",
     "start_time": "2025-07-09T00:15:04.417250Z"
    }
   },
   "cell_type": "code",
   "source": "database_biosample_data = {}",
   "id": "d707d1b863c55acd",
   "outputs": [],
   "execution_count": 16
  },
  {
   "metadata": {
    "ExecuteTime": {
     "end_time": "2025-07-09T00:15:06.313387Z",
     "start_time": "2025-07-09T00:15:05.918089Z"
    }
   },
   "cell_type": "code",
   "source": [
    "for yaml_file in database_biosample_files:\n",
    "    with open(yaml_file) as f:\n",
    "        yaml_dict = yaml.safe_load(f)\n",
    "        filename = os.path.basename(yaml_file)\n",
    "\n",
    "        if yaml_dict and 'biosample_set' in yaml_dict:\n",
    "            database_biosample_data[filename] = {}\n",
    "\n",
    "            for biosample in yaml_dict['biosample_set']:\n",
    "                if 'id' in biosample:\n",
    "                    biosample_id = biosample['id']\n",
    "                    field_count = len(biosample)\n",
    "                    database_biosample_data[filename][biosample_id] = field_count\n"
   ],
   "id": "150d3eaa190556b5",
   "outputs": [],
   "execution_count": 17
  },
  {
   "metadata": {
    "ExecuteTime": {
     "end_time": "2025-07-09T00:15:07.808682Z",
     "start_time": "2025-07-09T00:15:07.802221Z"
    }
   },
   "cell_type": "code",
   "source": "database_biosample_data",
   "id": "889030d8760afffc",
   "outputs": [
    {
     "data": {
      "text/plain": [
       "{'Database-biosamples-dna-in-tube.yaml': {'nmdc:bsm-99-dtTMNb': 7},\n",
       " 'Database-nmdc-example.yaml': {'nmdc:bsm-99-isqhuW': 24,\n",
       "  'nmdc:bsm-99-dge3H9': 24,\n",
       "  'nmdc:bsm-99-dc6tg6': 25},\n",
       " 'Database-biosamples-infiltrations.yaml': {'nmdc:bsm-99-dtTMNb': 7,\n",
       "  'nmdc:bsm-99-abcdef': 7,\n",
       "  'nmdc:bsm-99-qwerty': 7},\n",
       " 'Database-neon-story.yaml': {'nmdc:bsm-99-abcdef1': 6,\n",
       "  'nmdc:bsm-99-abcdef2': 6,\n",
       "  'nmdc:bsm-99-abcdef3': 6},\n",
       " 'Database-biosamples-dna-in-plate-valid-well-val.yaml': {'nmdc:bsm-99-dtTMNb': 8,\n",
       "  'nmdc:bsm-99-000001': 8,\n",
       "  'nmdc:bsm-99-000002': 8,\n",
       "  'nmdc:bsm-99-000003': 8,\n",
       "  'nmdc:bsm-99-000004': 8,\n",
       "  'nmdc:bsm-99-000005': 8,\n",
       "  'nmdc:bsm-99-000006': 8},\n",
       " 'Database-biosamples-rna-in-plate-valid-well-val.yaml': {'nmdc:bsm-99-dtTMNb': 8,\n",
       "  'nmdc:bsm-99-000001': 8,\n",
       "  'nmdc:bsm-99-000002': 8,\n",
       "  'nmdc:bsm-99-000003': 8,\n",
       "  'nmdc:bsm-99-000004': 8,\n",
       "  'nmdc:bsm-99-000005': 8,\n",
       "  'nmdc:bsm-99-000006': 8},\n",
       " 'Database-biosamples-sites.yaml': {'nmdc:bsm-99-J9FcnC': 10,\n",
       "  'nmdc:bsm-99-BdlWdQ': 10,\n",
       "  'nmdc:bsm-99-vn74Wq': 10,\n",
       "  'nmdc:bsm-99-P8FdpS': 10,\n",
       "  'nmdc:bsm-99-ugBwz3': 10,\n",
       "  'nmdc:bsm-99-tN5lxM': 10},\n",
       " 'Database-biosamples-rna-in-tube.yaml': {'nmdc:bsm-99-dtTMNb': 7},\n",
       " 'Database-biosamples-1.yaml': {'nmdc:bsm-99-dtTMNb': 24,\n",
       "  'nmdc:bsm-99-AtTUOs': 25,\n",
       "  'nmdc:bsm-99-eBVHjN': 24,\n",
       "  'nmdc:bsm-99-TDPHTh': 24},\n",
       " 'Database-multiple-paths.yaml': {'nmdc:bsm-99-dtTMNb': 7,\n",
       "  'nmdc:bsm-99-XYZ': 7},\n",
       " 'Database-interleaved.yaml': {'nmdc:bsm-99-isqhuW': 24,\n",
       "  'nmdc:bsm-99-dge3H9': 24,\n",
       "  'nmdc:bsm-99-dc6tg6': 25,\n",
       "  'nmdc:bsm-99-dtTMNb': 7,\n",
       "  'nmdc:bsm-99-J9FcnC': 10,\n",
       "  'nmdc:bsm-99-BdlWdQ': 10,\n",
       "  'nmdc:bsm-99-vn74Wq': 10,\n",
       "  'nmdc:bsm-99-P8FdpS': 10,\n",
       "  'nmdc:bsm-99-ugBwz3': 10,\n",
       "  'nmdc:bsm-99-tN5lxM': 10,\n",
       "  'nmdc:bsm-99-n3ybxz': 9,\n",
       "  'nmdc:bsm-99-b316vq': 9,\n",
       "  'nmdc:bsm-99-q9t93w': 9,\n",
       "  'nmdc:bsm-99-t2r77l': 9,\n",
       "  'nmdc:bsm-99-x971d3': 9,\n",
       "  'nmdc:bsm-99-c6dlm7': 9,\n",
       "  'nmdc:bsm-99-p7k6v9': 9,\n",
       "  'nmdc:bsm-99-bbbbbb': 9,\n",
       "  'nmdc:bsm-99-d9j6n9': 9,\n",
       "  'nmdc:bsm-99-999999': 24,\n",
       "  'nmdc:bsm-99-AtTUOs': 25,\n",
       "  'nmdc:bsm-99-eBVHjN': 24,\n",
       "  'nmdc:bsm-99-TDPHTh': 24,\n",
       "  'nmdc:bsm-99-111111': 7,\n",
       "  'nmdc:bsm-99-abcdef': 7,\n",
       "  'nmdc:bsm-99-qwerty': 7,\n",
       "  'nmdc:bsm-99-74d83z': 18,\n",
       "  'nmdc:bsm-99-49z38t': 14,\n",
       "  'nmdc:bsm-99-aaaaaa': 14,\n",
       "  'nmdc:bsm-99-222222': 7,\n",
       "  'nmdc:bsm-99-333333': 8,\n",
       "  'nmdc:bsm-99-000002': 8,\n",
       "  'nmdc:bsm-99-000003': 8,\n",
       "  'nmdc:bsm-99-000004': 8,\n",
       "  'nmdc:bsm-99-000005': 8,\n",
       "  'nmdc:bsm-99-4444444': 576,\n",
       "  'nmdc:bsm-99-555555': 8,\n",
       "  'nmdc:bsm-99-000001': 8,\n",
       "  'nmdc:bsm-99-000006': 8,\n",
       "  'nmdc:bsm-99-666666': 7,\n",
       "  'nmdc:bsm-99-XYZ': 7,\n",
       "  'nmdc:bsm-99-abcdef1': 6,\n",
       "  'nmdc:bsm-99-abcdef2': 6,\n",
       "  'nmdc:bsm-99-abcdef3': 6},\n",
       " 'Database-biosample_set_low-but-acceptable-rna_volume.yaml': {'nmdc:bsm-99-dtTMNb': 7},\n",
       " 'Database-biosamples-minimal.yaml': {'nmdc:bsm-99-dtTMNb': 6},\n",
       " 'Database-neon_Biosample_to_DataObject_NEON.yaml': {'nmdc:bsm-99-abcdef1': 6,\n",
       "  'nmdc:bsm-99-abcdef2': 6,\n",
       "  'nmdc:bsm-99-abcdef3': 6}}"
      ]
     },
     "execution_count": 18,
     "metadata": {},
     "output_type": "execute_result"
    }
   ],
   "execution_count": 18
  },
  {
   "metadata": {
    "ExecuteTime": {
     "end_time": "2025-07-09T00:15:09.347112Z",
     "start_time": "2025-07-09T00:15:09.344498Z"
    }
   },
   "cell_type": "code",
   "source": [
    "# # Integrate the data from both dictionaries\n",
    "# integrated_biosample_data = {}"
   ],
   "id": "2e58244711c57340",
   "outputs": [],
   "execution_count": 19
  },
  {
   "metadata": {
    "ExecuteTime": {
     "end_time": "2025-07-09T00:15:10.870479Z",
     "start_time": "2025-07-09T00:15:10.866428Z"
    }
   },
   "cell_type": "code",
   "source": [
    "# # Process biosample_file_field_counts\n",
    "# for filename, data in biosample_file_field_counts.items():\n",
    "#     biosample_id = data['id']\n",
    "#     field_count = data['field_count']\n",
    "#     if biosample_id not in integrated_biosample_data:\n",
    "#         integrated_biosample_data[biosample_id] = {\n",
    "#             'individual_files': {},\n",
    "#             'database_files': {}\n",
    "#         }\n",
    "#     integrated_biosample_data[biosample_id]['individual_files'][filename] = field_count"
   ],
   "id": "52e1280df2597118",
   "outputs": [],
   "execution_count": 20
  },
  {
   "metadata": {
    "ExecuteTime": {
     "end_time": "2025-07-09T00:15:12.390223Z",
     "start_time": "2025-07-09T00:15:12.387101Z"
    }
   },
   "cell_type": "code",
   "source": [
    "# # Process database_biosample_data  \n",
    "# for db_file, biosamples in database_biosample_data.items():\n",
    "#     for biosample_id, field_count in biosamples.items():\n",
    "#         if biosample_id not in integrated_biosample_data:\n",
    "#             integrated_biosample_data[biosample_id] = {\n",
    "#                 'individual_files': {},\n",
    "#                 'database_files': {}\n",
    "#             }\n",
    "#         integrated_biosample_data[biosample_id]['database_files'][db_file] = field_count\n"
   ],
   "id": "75e200b1e6e39467",
   "outputs": [],
   "execution_count": 21
  },
  {
   "metadata": {
    "ExecuteTime": {
     "end_time": "2025-07-09T00:15:13.877059Z",
     "start_time": "2025-07-09T00:15:13.874382Z"
    }
   },
   "cell_type": "code",
   "source": "# integrated_biosample_data",
   "id": "fff92f6eb58b22b2",
   "outputs": [],
   "execution_count": 22
  },
  {
   "metadata": {
    "ExecuteTime": {
     "end_time": "2025-07-09T00:16:08.728124Z",
     "start_time": "2025-07-09T00:16:08.637397Z"
    }
   },
   "cell_type": "code",
   "source": [
    "with open(\"../src/data/valid/Biosample-possibly-exhaustive.yaml\") as f:\n",
    "    biosample = yaml.safe_load(f)\n",
    "    current_keys = list(biosample.keys())\n"
   ],
   "id": "971e2849384ea9d6",
   "outputs": [],
   "execution_count": 23
  },
  {
   "metadata": {
    "ExecuteTime": {
     "end_time": "2025-07-09T00:18:42.634590Z",
     "start_time": "2025-07-09T00:18:42.631396Z"
    }
   },
   "cell_type": "code",
   "source": "exhaustive_failures = list(set(biosample_slots).difference(set(current_keys)))\n",
   "id": "620345e9eb310aa2",
   "outputs": [],
   "execution_count": 26
  },
  {
   "metadata": {
    "ExecuteTime": {
     "end_time": "2025-07-09T00:18:44.116332Z",
     "start_time": "2025-07-09T00:18:44.113096Z"
    }
   },
   "cell_type": "code",
   "source": "exhaustive_failures.sort()",
   "id": "4562bac07b04edd6",
   "outputs": [],
   "execution_count": 27
  },
  {
   "metadata": {
    "ExecuteTime": {
     "end_time": "2025-07-09T00:18:45.875458Z",
     "start_time": "2025-07-09T00:18:45.872091Z"
    }
   },
   "cell_type": "code",
   "source": [
    "for i in exhaustive_failures:\n",
    "    print(i)"
   ],
   "id": "c66dadbace769c27",
   "outputs": [
    {
     "name": "stdout",
     "output_type": "stream",
     "text": [
      "bulk_elect_conductivity\n",
      "core field\n",
      "environment field\n",
      "host_disease_stat\n",
      "infiltrations\n",
      "investigation field\n",
      "neon_biosample_identifiers\n",
      "nitrate_nitrogen\n",
      "nucleic acid sequence source field\n",
      "sequencing field\n"
     ]
    }
   ],
   "execution_count": 28
  },
  {
   "metadata": {
    "ExecuteTime": {
     "end_time": "2025-07-09T00:30:37.883954Z",
     "start_time": "2025-07-09T00:30:37.880403Z"
    }
   },
   "cell_type": "code",
   "source": "slots = schema_view.all_slots()",
   "id": "7cc02cc081d79f9c",
   "outputs": [],
   "execution_count": 31
  },
  {
   "metadata": {
    "ExecuteTime": {
     "end_time": "2025-07-09T00:30:39.369965Z",
     "start_time": "2025-07-09T00:30:39.366147Z"
    }
   },
   "cell_type": "code",
   "source": [
    "abstract_slots = []\n",
    "for slot_name, slot_info in slots.items():\n",
    "    if slot_info.abstract:\n",
    "        abstract_slots.append(slot_name)"
   ],
   "id": "15393f807eb5c09",
   "outputs": [],
   "execution_count": 32
  },
  {
   "metadata": {
    "ExecuteTime": {
     "end_time": "2025-07-09T00:32:27.195270Z",
     "start_time": "2025-07-09T00:32:27.192539Z"
    }
   },
   "cell_type": "code",
   "source": "abstract_slots.sort()",
   "id": "1dad1909ded53c22",
   "outputs": [],
   "execution_count": 36
  },
  {
   "metadata": {
    "ExecuteTime": {
     "end_time": "2025-07-09T00:32:28.724653Z",
     "start_time": "2025-07-09T00:32:28.720101Z"
    }
   },
   "cell_type": "code",
   "source": [
    "for i in abstract_slots:\n",
    "    print(i)"
   ],
   "id": "65f61f842725879e",
   "outputs": [
    {
     "name": "stdout",
     "output_type": "stream",
     "text": [
      "analysis_identifiers\n",
      "assembly_identifiers\n",
      "biosample_identifiers\n",
      "core field\n",
      "environment field\n",
      "external_database_identifiers\n",
      "gold_path_field\n",
      "investigation field\n",
      "metagenome_assembly_parameter\n",
      "mixs_env_triad_field\n",
      "nucleic acid sequence source field\n",
      "omics_processing_identifiers\n",
      "read_qc_analysis_statistic\n",
      "sequencing field\n",
      "study_identifiers\n"
     ]
    }
   ],
   "execution_count": 37
  },
  {
   "metadata": {
    "ExecuteTime": {
     "end_time": "2025-07-09T00:31:39.443720Z",
     "start_time": "2025-07-09T00:31:39.439286Z"
    }
   },
   "cell_type": "code",
   "source": [
    "intersection = set(biosample_slots).intersection(set(abstract_slots))\n",
    "intersection = list(intersection)\n",
    "intersection.sort()\n",
    "print(\"Slots that are both in biosample_slots and abstract_slots:\")\n",
    "for slot in intersection:\n",
    "    print(slot)\n"
   ],
   "id": "73aa280aa632ce07",
   "outputs": [
    {
     "name": "stdout",
     "output_type": "stream",
     "text": [
      "Slots that are both in biosample_slots and abstract_slots:\n",
      "core field\n",
      "environment field\n",
      "investigation field\n",
      "nucleic acid sequence source field\n",
      "sequencing field\n"
     ]
    }
   ],
   "execution_count": 34
  },
  {
   "metadata": {
    "ExecuteTime": {
     "end_time": "2025-07-09T00:35:08.644006Z",
     "start_time": "2025-07-09T00:35:08.627663Z"
    }
   },
   "cell_type": "code",
   "source": [
    "# Create a dictionary to store inheritance relationships\n",
    "is_a_hierarchy = {}\n",
    "\n",
    "# Iterate through slots to build hierarchy\n",
    "for slot_name, slot_info in slots.items():\n",
    "    if hasattr(slot_info, 'is_a') and slot_info.is_a:\n",
    "        if slot_info.is_a not in is_a_hierarchy:\n",
    "            is_a_hierarchy[slot_info.is_a] = []\n",
    "        is_a_hierarchy[slot_info.is_a].append(slot_name)\n",
    "\n",
    "\n",
    "# Print the hierarchy recursively\n",
    "def print_hierarchy(parent, level=0):\n",
    "    indent = \"  \" * level\n",
    "    print(f\"{indent}{parent}\")\n",
    "    if parent in is_a_hierarchy:\n",
    "        for child in is_a_hierarchy[parent]:\n",
    "            print_hierarchy(child, level + 1)\n",
    "\n",
    "\n",
    "# Print starting from root slots (those that are not children)\n",
    "all_children = [child for children in is_a_hierarchy.values() for child in children]\n",
    "root_slots = [slot for slot in slots.keys() if slot not in all_children and slot in is_a_hierarchy]\n",
    "\n",
    "print(\"Slot Hierarchy:\")\n",
    "for root in root_slots:\n",
    "    print_hierarchy(root)\n"
   ],
   "id": "c2b57f052601a43d",
   "outputs": [
    {
     "name": "stdout",
     "output_type": "stream",
     "text": [
      "Slot Hierarchy:\n",
      "concentration\n",
      "  source_concentration\n",
      "  final_concentration\n",
      "gff_coordinate\n",
      "  end\n",
      "  start\n",
      "biomaterial_purity\n",
      "  dna_absorb1\n",
      "  dna_absorb2\n",
      "assembly_identifiers\n",
      "  insdc_assembly_identifiers\n",
      "core field\n",
      "  abs_air_humidity\n",
      "  add_recov_method\n",
      "  additional_info\n",
      "  address\n",
      "  adj_room\n",
      "  aero_struc\n",
      "  agrochem_addition\n",
      "  air_PM_concen\n",
      "  air_temp\n",
      "  air_temp_regm\n",
      "  al_sat\n",
      "  al_sat_meth\n",
      "  alkalinity\n",
      "  alkalinity_method\n",
      "  alkyl_diethers\n",
      "  aminopept_act\n",
      "  ammonium\n",
      "  amount_light\n",
      "  ances_data\n",
      "  annual_precpt\n",
      "  annual_temp\n",
      "  antibiotic_regm\n",
      "  api\n",
      "  arch_struc\n",
      "  aromatics_pc\n",
      "  asphaltenes_pc\n",
      "  atmospheric_data\n",
      "  avg_dew_point\n",
      "  avg_occup\n",
      "  avg_temp\n",
      "  bac_prod\n",
      "  bac_resp\n",
      "  bacteria_carb_prod\n",
      "  barometric_press\n",
      "  basin\n",
      "  bathroom_count\n",
      "  bedroom_count\n",
      "  benzene\n",
      "  biochem_oxygen_dem\n",
      "  biocide\n",
      "  biocide_admin_method\n",
      "  biol_stat\n",
      "  biomass\n",
      "  biotic_regm\n",
      "  bishomohopanol\n",
      "  blood_press_diast\n",
      "  blood_press_syst\n",
      "  bromide\n",
      "  build_docs\n",
      "  build_occup_type\n",
      "  building_setting\n",
      "  built_struc_age\n",
      "  built_struc_set\n",
      "  built_struc_type\n",
      "  calcium\n",
      "  carb_dioxide\n",
      "  carb_monoxide\n",
      "  carb_nitro_ratio\n",
      "  ceil_area\n",
      "  ceil_cond\n",
      "  ceil_finish_mat\n",
      "  ceil_struc\n",
      "  ceil_texture\n",
      "  ceil_thermal_mass\n",
      "  ceil_type\n",
      "  ceil_water_mold\n",
      "  chem_administration\n",
      "  chem_mutagen\n",
      "  chem_oxygen_dem\n",
      "  chem_treat_method\n",
      "  chem_treatment\n",
      "  chloride\n",
      "  chlorophyll\n",
      "  climate_environment\n",
      "  conduc\n",
      "  cool_syst_id\n",
      "  crop_rotation\n",
      "  cult_root_med\n",
      "  cur_land_use\n",
      "  cur_vegetation\n",
      "  cur_vegetation_meth\n",
      "  date_last_rain\n",
      "  density\n",
      "  depos_env\n",
      "  dew_point\n",
      "  diether_lipids\n",
      "  diss_carb_dioxide\n",
      "  diss_hydrogen\n",
      "  diss_inorg_carb\n",
      "  diss_inorg_nitro\n",
      "  diss_inorg_phosp\n",
      "  diss_iron\n",
      "  diss_org_carb\n",
      "  diss_org_nitro\n",
      "  diss_oxygen\n",
      "  diss_oxygen_fluid\n",
      "  door_comp_type\n",
      "  door_cond\n",
      "  door_direct\n",
      "  door_loc\n",
      "  door_mat\n",
      "  door_move\n",
      "  door_size\n",
      "  door_type\n",
      "  door_type_metal\n",
      "  door_type_wood\n",
      "  door_water_mold\n",
      "  down_par\n",
      "  drainage_class\n",
      "  drawings\n",
      "  efficiency_percent\n",
      "  elevator\n",
      "  emulsions\n",
      "  escalator\n",
      "  ethylbenzene\n",
      "  exp_duct\n",
      "  exp_pipe\n",
      "  ext_door\n",
      "  ext_wall_orient\n",
      "  ext_window_orient\n",
      "  extreme_event\n",
      "  fao_class\n",
      "  fertilizer_regm\n",
      "  field\n",
      "  filter_type\n",
      "  fire\n",
      "  fireplace_type\n",
      "  flooding\n",
      "  floor_age\n",
      "  floor_area\n",
      "  floor_cond\n",
      "  floor_count\n",
      "  floor_finish_mat\n",
      "  floor_struc\n",
      "  floor_thermal_mass\n",
      "  floor_water_mold\n",
      "  fluor\n",
      "  freq_clean\n",
      "  freq_cook\n",
      "  fungicide_regm\n",
      "  furniture\n",
      "  gaseous_environment\n",
      "  gaseous_substances\n",
      "  gender_restroom\n",
      "  genetic_mod\n",
      "  glucosidase_act\n",
      "  gravidity\n",
      "  gravity\n",
      "  growth_facil\n",
      "  growth_habit\n",
      "  growth_hormone_regm\n",
      "  hall_count\n",
      "  handidness\n",
      "  hc_produced\n",
      "  hcr\n",
      "  hcr_fw_salinity\n",
      "  hcr_geol_age\n",
      "  hcr_pressure\n",
      "  hcr_temp\n",
      "  heat_cool_type\n",
      "  heat_deliv_loc\n",
      "  heat_sys_deliv_meth\n",
      "  heat_system_id\n",
      "  heavy_metals\n",
      "  heavy_metals_meth\n",
      "  height_carper_fiber\n",
      "  herbicide_regm\n",
      "  horizon_meth\n",
      "  host_age\n",
      "  host_body_habitat\n",
      "  host_body_product\n",
      "  host_body_site\n",
      "  host_body_temp\n",
      "  host_color\n",
      "  host_common_name\n",
      "  host_diet\n",
      "  host_dry_mass\n",
      "  host_family_relation\n",
      "  host_genotype\n",
      "  host_growth_cond\n",
      "  host_height\n",
      "  host_last_meal\n",
      "  host_length\n",
      "  host_life_stage\n",
      "  host_phenotype\n",
      "  host_sex\n",
      "  host_shape\n",
      "  host_subject_id\n",
      "  host_subspecf_genlin\n",
      "  host_substrate\n",
      "  host_symbiont\n",
      "  host_taxid\n",
      "  host_tot_mass\n",
      "  host_wet_mass\n",
      "  humidity\n",
      "  humidity_regm\n",
      "  indoor_space\n",
      "  indoor_surf\n",
      "  indust_eff_percent\n",
      "  inorg_particles\n",
      "  inside_lux\n",
      "  int_wall_cond\n",
      "  iw_bt_date_well\n",
      "  iwf\n",
      "  last_clean\n",
      "  light_intensity\n",
      "  light_regm\n",
      "  light_type\n",
      "  link_addit_analys\n",
      "  link_class_info\n",
      "  link_climate_info\n",
      "  lithology\n",
      "  local_class\n",
      "  local_class_meth\n",
      "  magnesium\n",
      "  max_occup\n",
      "  mean_frict_vel\n",
      "  mean_peak_frict_vel\n",
      "  mech_struc\n",
      "  mechanical_damage\n",
      "  methane\n",
      "  micro_biomass_meth\n",
      "  microbial_biomass\n",
      "  mineral_nutr_regm\n",
      "  misc_param\n",
      "  n_alkanes\n",
      "  nitrate\n",
      "  nitrite\n",
      "  nitro\n",
      "  non_min_nutr_regm\n",
      "  number_pets\n",
      "  number_plants\n",
      "  number_resident\n",
      "  occup_density_samp\n",
      "  occup_document\n",
      "  occup_samp\n",
      "  org_carb\n",
      "  org_count_qpcr_info\n",
      "  org_matter\n",
      "  org_nitro\n",
      "  org_particles\n",
      "  organism_count\n",
      "  owc_tvdss\n",
      "  oxy_stat_samp\n",
      "  oxygen\n",
      "  part_org_carb\n",
      "  part_org_nitro\n",
      "  particle_class\n",
      "  permeability\n",
      "  perturbation\n",
      "  pesticide_regm\n",
      "  petroleum_hydrocarb\n",
      "  ph\n",
      "  ph_meth\n",
      "  ph_regm\n",
      "  phaeopigments\n",
      "  phosphate\n",
      "  phosplipid_fatt_acid\n",
      "  photon_flux\n",
      "  plant_growth_med\n",
      "  plant_product\n",
      "  plant_sex\n",
      "  plant_struc\n",
      "  pollutants\n",
      "  pool_dna_extracts\n",
      "  porosity\n",
      "  potassium\n",
      "  pour_point\n",
      "  pre_treatment\n",
      "  pres_animal_insect\n",
      "  pressure\n",
      "  prev_land_use_meth\n",
      "  previous_land_use\n",
      "  primary_prod\n",
      "  primary_treatment\n",
      "  prod_rate\n",
      "  prod_start_date\n",
      "  profile_position\n",
      "  quad_pos\n",
      "  radiation_regm\n",
      "  rainfall_regm\n",
      "  reactor_type\n",
      "  redox_potential\n",
      "  rel_air_humidity\n",
      "  rel_humidity_out\n",
      "  rel_samp_loc\n",
      "  reservoir\n",
      "  resins_pc\n",
      "  room_air_exch_rate\n",
      "  room_architec_elem\n",
      "  room_condt\n",
      "  room_connected\n",
      "  room_count\n",
      "  room_dim\n",
      "  room_door_dist\n",
      "  room_door_share\n",
      "  room_hallway\n",
      "  room_loc\n",
      "  room_moist_dam_hist\n",
      "  room_net_area\n",
      "  room_occup\n",
      "  room_samp_pos\n",
      "  room_type\n",
      "  room_vol\n",
      "  room_wall_share\n",
      "  room_window_count\n",
      "  root_cond\n",
      "  root_med_carbon\n",
      "  root_med_macronutr\n",
      "  root_med_micronutr\n",
      "  root_med_ph\n",
      "  root_med_regl\n",
      "  root_med_solid\n",
      "  root_med_suppl\n",
      "  salinity\n",
      "  salinity_meth\n",
      "  salt_regm\n",
      "  samp_capt_status\n",
      "  samp_collect_point\n",
      "  samp_dis_stage\n",
      "  samp_floor\n",
      "  samp_loc_corr_rate\n",
      "  samp_md\n",
      "  samp_preserv\n",
      "  samp_room_id\n",
      "  samp_sort_meth\n",
      "  samp_store_dur\n",
      "  samp_store_loc\n",
      "  samp_store_temp\n",
      "  samp_subtype\n",
      "  samp_time_out\n",
      "  samp_transport_cond\n",
      "  samp_tvdss\n",
      "  samp_type\n",
      "  samp_weather\n",
      "  samp_well_name\n",
      "  saturates_pc\n",
      "  season\n",
      "  season_environment\n",
      "  season_precpt\n",
      "  season_temp\n",
      "  season_use\n",
      "  secondary_treatment\n",
      "  sediment_type\n",
      "  sewage_type\n",
      "  shad_dev_water_mold\n",
      "  shading_device_cond\n",
      "  shading_device_loc\n",
      "  shading_device_mat\n",
      "  shading_device_type\n",
      "  sieving\n",
      "  silicate\n",
      "  size_frac_low\n",
      "  size_frac_up\n",
      "  slope_aspect\n",
      "  slope_gradient\n",
      "  sludge_retent_time\n",
      "  sodium\n",
      "  soil_horizon\n",
      "  soil_text_measure\n",
      "  soil_texture_meth\n",
      "  soil_type\n",
      "  soil_type_meth\n",
      "  solar_irradiance\n",
      "  soluble_inorg_mat\n",
      "  soluble_org_mat\n",
      "  soluble_react_phosp\n",
      "  space_typ_state\n",
      "  specific\n",
      "  specific_humidity\n",
      "  sr_dep_env\n",
      "  sr_geol_age\n",
      "  sr_kerog_type\n",
      "  sr_lithology\n",
      "  standing_water_regm\n",
      "  store_cond\n",
      "  substructure_type\n",
      "  sulfate\n",
      "  sulfate_fw\n",
      "  sulfide\n",
      "  surf_air_cont\n",
      "  surf_humidity\n",
      "  surf_material\n",
      "  surf_moisture\n",
      "  surf_moisture_ph\n",
      "  surf_temp\n",
      "  suspend_part_matter\n",
      "  suspend_solids\n",
      "  tan\n",
      "  temp_out\n",
      "  tertiary_treatment\n",
      "  tidal_stage\n",
      "  tillage\n",
      "  tiss_cult_growth_med\n",
      "  toluene\n",
      "  tot_carb\n",
      "  tot_depth_water_col\n",
      "  tot_diss_nitro\n",
      "  tot_inorg_nitro\n",
      "  tot_iron\n",
      "  tot_nitro\n",
      "  tot_nitro_cont_meth\n",
      "  tot_nitro_content\n",
      "  tot_org_c_meth\n",
      "  tot_org_carb\n",
      "  tot_part_carb\n",
      "  tot_phosp\n",
      "  tot_phosphate\n",
      "  tot_sulfur\n",
      "  train_line\n",
      "  train_stat_loc\n",
      "  train_stop_loc\n",
      "  turbidity\n",
      "  tvdss_of_hcr_press\n",
      "  tvdss_of_hcr_temp\n",
      "  typ_occup_density\n",
      "  ventilation_rate\n",
      "  ventilation_type\n",
      "  vfa\n",
      "  vfa_fw\n",
      "  vis_media\n",
      "  viscosity\n",
      "  volatile_org_comp\n",
      "  wall_area\n",
      "  wall_const_type\n",
      "  wall_finish_mat\n",
      "  wall_height\n",
      "  wall_loc\n",
      "  wall_surf_treatment\n",
      "  wall_texture\n",
      "  wall_thermal_mass\n",
      "  wall_water_mold\n",
      "  wastewater_type\n",
      "  water_cont_soil_meth\n",
      "  water_content\n",
      "  water_current\n",
      "  water_cut\n",
      "  water_feat_size\n",
      "  water_feat_type\n",
      "  water_prod_rate\n",
      "  water_temp_regm\n",
      "  watering_regm\n",
      "  weekday\n",
      "  win\n",
      "  wind_direction\n",
      "  wind_speed\n",
      "  window_cond\n",
      "  window_cover\n",
      "  window_horiz_pos\n",
      "  window_loc\n",
      "  window_mat\n",
      "  window_open_freq\n",
      "  window_size\n",
      "  window_status\n",
      "  window_type\n",
      "  window_vert_pos\n",
      "  window_water_mold\n",
      "  xylene\n",
      "environment field\n",
      "  alt\n",
      "  collection_date\n",
      "  depth\n",
      "  elev\n",
      "  geo_loc_name\n",
      "  lat_lon\n",
      "  temp\n",
      "investigation field\n",
      "  experimental_factor\n",
      "  samp_name\n",
      "  samp_taxon_id\n",
      "nucleic acid sequence source field\n",
      "  biotic_relationship\n",
      "  host_disease_stat\n",
      "  samp_collec_device\n",
      "  samp_collec_method\n",
      "  samp_mat_process\n",
      "  samp_size\n",
      "  samp_vol_we_dna_ext\n",
      "  size_frac\n",
      "  source_mat_id\n",
      "sequencing field\n",
      "  chimera_check\n",
      "  nucl_acid_amp\n",
      "  nucl_acid_ext\n",
      "  pcr_cond\n",
      "  pcr_primers\n",
      "  seq_meth\n",
      "  seq_quality_check\n",
      "  target_gene\n",
      "  target_subfragment\n",
      "mixs_env_triad_field\n",
      "  env_broad_scale\n",
      "  env_local_scale\n",
      "  env_medium\n",
      "websites\n",
      "  homepage_website\n",
      "has_numeric_value\n",
      "  has_minimum_numeric_value\n",
      "  has_maximum_numeric_value\n",
      "gold_path_field\n",
      "  ecosystem\n",
      "  ecosystem_category\n",
      "  ecosystem_type\n",
      "  ecosystem_subtype\n",
      "  specific_ecosystem\n",
      "alternative_identifiers\n",
      "  external_database_identifiers\n",
      "    img_identifiers\n",
      "    study_identifiers\n",
      "      jgi_portal_study_identifiers\n",
      "      neon_study_identifiers\n",
      "      insdc_sra_ena_study_identifiers\n",
      "      insdc_bioproject_identifiers\n",
      "      gold_study_identifiers\n",
      "      mgnify_project_identifiers\n",
      "      gnps_task_identifiers\n",
      "      emsl_project_identifiers\n",
      "    biosample_identifiers\n",
      "      neon_biosample_identifiers\n",
      "      gold_biosample_identifiers\n",
      "      insdc_biosample_identifiers\n",
      "      insdc_secondary_sample_identifiers\n",
      "      emsl_biosample_identifiers\n",
      "      igsn_biosample_identifiers\n",
      "    omics_processing_identifiers\n",
      "      gold_sequencing_project_identifiers\n",
      "    insdc_experiment_identifiers\n",
      "    analysis_identifiers\n",
      "      gold_analysis_project_identifiers\n",
      "      jgi_portal_analysis_project_identifiers\n",
      "      insdc_analysis_identifiers\n",
      "      mgnify_analysis_identifiers\n",
      "metagenome_assembly_parameter\n",
      "  asm_score\n",
      "  scaffolds\n",
      "  scaf_logsum\n",
      "  scaf_powsum\n",
      "  scaf_max\n",
      "  scaf_bp\n",
      "  scaf_n50\n",
      "  scaf_n90\n",
      "  scaf_l50\n",
      "  scaf_l90\n",
      "  scaf_n_gt50k\n",
      "  scaf_l_gt50k\n",
      "  scaf_pct_gt50k\n",
      "  contigs\n",
      "  contig_bp\n",
      "  ctg_n50\n",
      "  ctg_l50\n",
      "  ctg_n90\n",
      "  ctg_l90\n",
      "  ctg_logsum\n",
      "  ctg_powsum\n",
      "  ctg_max\n",
      "  gap_pct\n",
      "  gc_std\n",
      "  gc_avg\n",
      "  num_input_reads\n",
      "  num_aligned_reads\n",
      "read_qc_analysis_statistic\n",
      "  input_read_count\n",
      "  input_base_count\n",
      "  output_read_count\n",
      "  output_base_count\n"
     ]
    }
   ],
   "execution_count": 38
  },
  {
   "metadata": {
    "ExecuteTime": {
     "end_time": "2025-07-09T00:41:13.955290Z",
     "start_time": "2025-07-09T00:41:13.952317Z"
    }
   },
   "cell_type": "code",
   "source": "elements = schema_view.all_elements()",
   "id": "2c07e52c8715d53",
   "outputs": [],
   "execution_count": 40
  },
  {
   "metadata": {
    "ExecuteTime": {
     "end_time": "2025-07-09T00:41:15.460060Z",
     "start_time": "2025-07-09T00:41:15.456815Z"
    }
   },
   "cell_type": "code",
   "source": [
    "# Get elements with whitespace in their names\n",
    "whitespace_elements = [name for name in elements.keys() if ' ' in name]\n",
    "whitespace_elements.sort()\n",
    "for element in whitespace_elements:\n",
    "    print(element)\n"
   ],
   "id": "666964705a2dfc10",
   "outputs": [
    {
     "name": "stdout",
     "output_type": "stream",
     "text": [
      "core field\n",
      "environment field\n",
      "investigation field\n",
      "nucleic acid sequence source field\n",
      "sequencing field\n"
     ]
    }
   ],
   "execution_count": 41
  },
  {
   "metadata": {
    "ExecuteTime": {
     "end_time": "2025-07-09T00:42:26.209519Z",
     "start_time": "2025-07-09T00:42:26.205759Z"
    }
   },
   "cell_type": "code",
   "source": [
    "print(\"Are intersection and whitespace_elements identical?\")\n",
    "print(intersection == whitespace_elements)\n",
    "print(\"\\nIntersection:\", intersection)\n",
    "print(\"Whitespace elements:\", whitespace_elements)\n"
   ],
   "id": "4c415d7f73cce787",
   "outputs": [
    {
     "name": "stdout",
     "output_type": "stream",
     "text": [
      "Are intersection and whitespace_elements identical?\n",
      "True\n",
      "\n",
      "Intersection: ['core field', 'environment field', 'investigation field', 'nucleic acid sequence source field', 'sequencing field']\n",
      "Whitespace elements: ['core field', 'environment field', 'investigation field', 'nucleic acid sequence source field', 'sequencing field']\n"
     ]
    }
   ],
   "execution_count": 42
  },
  {
   "metadata": {
    "ExecuteTime": {
     "end_time": "2025-07-09T00:54:05.424214Z",
     "start_time": "2025-07-09T00:54:05.406785Z"
    }
   },
   "cell_type": "code",
   "source": "identifiers = schema_view.slot_descendants(\"alternative_identifiers\")",
   "id": "809c1cc8ee70b9c2",
   "outputs": [],
   "execution_count": 47
  },
  {
   "metadata": {
    "ExecuteTime": {
     "end_time": "2025-07-09T00:54:06.897009Z",
     "start_time": "2025-07-09T00:54:06.893835Z"
    }
   },
   "cell_type": "code",
   "source": "print(type(identifiers))",
   "id": "81ce2a52979583d5",
   "outputs": [
    {
     "name": "stdout",
     "output_type": "stream",
     "text": [
      "<class 'list'>\n"
     ]
    }
   ],
   "execution_count": 48
  },
  {
   "metadata": {
    "ExecuteTime": {
     "end_time": "2025-07-09T00:54:08.397931Z",
     "start_time": "2025-07-09T00:54:08.394044Z"
    }
   },
   "cell_type": "code",
   "source": "identifiers",
   "id": "43aae7fc13f82f20",
   "outputs": [
    {
     "data": {
      "text/plain": [
       "['alternative_identifiers',\n",
       " 'external_database_identifiers',\n",
       " 'img_identifiers',\n",
       " 'study_identifiers',\n",
       " 'biosample_identifiers',\n",
       " 'omics_processing_identifiers',\n",
       " 'insdc_experiment_identifiers',\n",
       " 'analysis_identifiers',\n",
       " 'gold_analysis_project_identifiers',\n",
       " 'jgi_portal_analysis_project_identifiers',\n",
       " 'insdc_analysis_identifiers',\n",
       " 'mgnify_analysis_identifiers',\n",
       " 'gold_sequencing_project_identifiers',\n",
       " 'neon_biosample_identifiers',\n",
       " 'gold_biosample_identifiers',\n",
       " 'insdc_biosample_identifiers',\n",
       " 'insdc_secondary_sample_identifiers',\n",
       " 'emsl_biosample_identifiers',\n",
       " 'igsn_biosample_identifiers',\n",
       " 'jgi_portal_study_identifiers',\n",
       " 'neon_study_identifiers',\n",
       " 'insdc_sra_ena_study_identifiers',\n",
       " 'insdc_bioproject_identifiers',\n",
       " 'gold_study_identifiers',\n",
       " 'mgnify_project_identifiers',\n",
       " 'gnps_task_identifiers',\n",
       " 'emsl_project_identifiers']"
      ]
     },
     "execution_count": 49,
     "metadata": {},
     "output_type": "execute_result"
    }
   ],
   "execution_count": 49
  },
  {
   "metadata": {
    "ExecuteTime": {
     "end_time": "2025-07-09T00:54:09.965782Z",
     "start_time": "2025-07-09T00:54:09.960758Z"
    }
   },
   "cell_type": "code",
   "source": [
    "# Get the set difference between abstract_slots and identifiers\n",
    "difference = set(abstract_slots).difference(set(identifiers))\n",
    "difference = list(difference)\n",
    "difference.sort()\n",
    "\n",
    "print(\"Slots that are in abstract_slots but not in identifiers:\")\n",
    "for slot in difference:\n",
    "    print(slot)\n"
   ],
   "id": "d04d1d4b94e3ae6e",
   "outputs": [
    {
     "name": "stdout",
     "output_type": "stream",
     "text": [
      "Slots that are in abstract_slots but not in identifiers:\n",
      "assembly_identifiers\n",
      "core field\n",
      "environment field\n",
      "gold_path_field\n",
      "investigation field\n",
      "metagenome_assembly_parameter\n",
      "mixs_env_triad_field\n",
      "nucleic acid sequence source field\n",
      "read_qc_analysis_statistic\n",
      "sequencing field\n"
     ]
    }
   ],
   "execution_count": 50
  },
  {
   "metadata": {},
   "cell_type": "code",
   "outputs": [],
   "execution_count": null,
   "source": "",
   "id": "3e911a7efaa9a917"
  }
 ],
 "metadata": {
  "kernelspec": {
   "display_name": "Python 3",
   "language": "python",
   "name": "python3"
  },
  "language_info": {
   "codemirror_mode": {
    "name": "ipython",
    "version": 2
   },
   "file_extension": ".py",
   "mimetype": "text/x-python",
   "name": "python",
   "nbconvert_exporter": "python",
   "pygments_lexer": "ipython2",
   "version": "2.7.6"
  }
 },
 "nbformat": 4,
 "nbformat_minor": 5
}
