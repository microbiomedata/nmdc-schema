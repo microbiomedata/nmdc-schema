{
 "cells": [
  {
   "cell_type": "markdown",
   "id": "satisfied-wagon",
   "metadata": {
    "pycharm": {
     "name": "#%% md\n"
    }
   },
   "source": [
    "# Test Schema View\n",
    "Notebook that tests how to use the linkml shema view utility for interrogating the NMDC Schema."
   ]
  },
  {
   "cell_type": "code",
   "execution_count": 1,
   "id": "veterinary-palmer",
   "metadata": {
    "pycharm": {
     "name": "#%%\n"
    }
   },
   "outputs": [],
   "source": [
    "from linkml_runtime.utils.schemaview import SchemaView"
   ]
  },
  {
   "cell_type": "code",
   "execution_count": 2,
   "id": "muslim-volunteer",
   "metadata": {
    "pycharm": {
     "name": "#%%\n"
    }
   },
   "outputs": [],
   "source": [
    "view = SchemaView('../src/schema/nmdc.yaml')"
   ]
  },
  {
   "cell_type": "code",
   "execution_count": 3,
   "id": "going-detective",
   "metadata": {
    "pycharm": {
     "name": "#%%\n"
    }
   },
   "outputs": [
    {
     "data": {
      "text/plain": "['NMDC',\n 'workflow_execution_activity',\n 'external_identifiers',\n 'core',\n 'prov',\n 'basic_slots',\n 'linkml:types',\n 'portal/sample_id',\n 'portal/mixs_inspired',\n 'portal/jgi_metatranscriptomics',\n 'portal/jgi_metagenomics',\n 'portal/emsl',\n 'mixs',\n 'bioscales',\n 'annotation']"
     },
     "execution_count": 3,
     "metadata": {},
     "output_type": "execute_result"
    }
   ],
   "source": [
    "view.imports_closure()"
   ]
  },
  {
   "cell_type": "markdown",
   "id": "behavioral-yugoslavia",
   "metadata": {
    "pycharm": {
     "name": "#%% md\n"
    }
   },
   "source": [
    "### Get list of classes (limit to 5)"
   ]
  },
  {
   "cell_type": "code",
   "execution_count": 4,
   "id": "intense-christian",
   "metadata": {
    "pycharm": {
     "name": "#%%\n"
    }
   },
   "outputs": [
    {
     "name": "stderr",
     "output_type": "stream",
     "text": [
      "/var/folders/vt/f297tpjn6n1b6dwkcwhhnmxm0000gp/T/ipykernel_70120/2491830333.py:1: DeprecationWarning: Call to deprecated method all_class. (Use `all_classes` instead)\n",
      "  list(view.all_class())[0:5]\n"
     ]
    },
    {
     "data": {
      "text/plain": "['database', 'data object', 'biosample', 'study', 'biosample processing']"
     },
     "execution_count": 4,
     "metadata": {},
     "output_type": "execute_result"
    }
   ],
   "source": [
    "list(view.all_class())[0:5]"
   ]
  },
  {
   "cell_type": "markdown",
   "id": "cross-minneapolis",
   "metadata": {
    "pycharm": {
     "name": "#%% md\n"
    }
   },
   "source": [
    "### Get list of all slots (limit to 5)"
   ]
  },
  {
   "cell_type": "code",
   "execution_count": 5,
   "id": "together-fusion",
   "metadata": {
    "pycharm": {
     "name": "#%%\n"
    }
   },
   "outputs": [
    {
     "name": "stderr",
     "output_type": "stream",
     "text": [
      "/var/folders/vt/f297tpjn6n1b6dwkcwhhnmxm0000gp/T/ipykernel_70120/2484584644.py:1: DeprecationWarning: Call to deprecated method all_slot. (Use `all_slots` instead)\n",
      "  list(view.all_slot())[0:5]\n"
     ]
    },
    {
     "data": {
      "text/plain": "['canary',\n 'ess dive datasets',\n 'has credit associations',\n 'study image',\n 'relevant protocols']"
     },
     "execution_count": 5,
     "metadata": {},
     "output_type": "execute_result"
    }
   ],
   "source": [
    "list(view.all_slot())[0:5]"
   ]
  },
  {
   "cell_type": "markdown",
   "id": "skilled-shannon",
   "metadata": {
    "pycharm": {
     "name": "#%% md\n"
    }
   },
   "source": [
    "### Check if slot is mulitvalued"
   ]
  },
  {
   "cell_type": "code",
   "execution_count": 6,
   "id": "leading-popularity",
   "metadata": {
    "pycharm": {
     "name": "#%%\n"
    }
   },
   "outputs": [
    {
     "data": {
      "text/plain": [
       "True"
      ]
     },
     "execution_count": 6,
     "metadata": {},
     "output_type": "execute_result"
    }
   ],
   "source": [
    "view.get_slot('study set').multivalued"
   ]
  },
  {
   "cell_type": "markdown",
   "id": "hybrid-senator",
   "metadata": {
    "tags": [],
    "pycharm": {
     "name": "#%% md\n"
    }
   },
   "source": [
    "### Determine range of slot"
   ]
  },
  {
   "cell_type": "code",
   "execution_count": 7,
   "id": "clean-consensus",
   "metadata": {
    "pycharm": {
     "name": "#%%\n"
    }
   },
   "outputs": [
    {
     "data": {
      "text/plain": [
       "'named thing'"
      ]
     },
     "execution_count": 7,
     "metadata": {},
     "output_type": "execute_result"
    }
   ],
   "source": [
    "view.get_slot('has input').range"
   ]
  },
  {
   "cell_type": "markdown",
   "id": "hired-diving",
   "metadata": {
    "pycharm": {
     "name": "#%% md\n"
    }
   },
   "source": [
    "### Determine range as specified in the slot_usage"
   ]
  },
  {
   "cell_type": "code",
   "execution_count": 8,
   "id": "bearing-february",
   "metadata": {
    "pycharm": {
     "name": "#%%\n"
    }
   },
   "outputs": [
    {
     "data": {
      "text/plain": [
       "'biosample'"
      ]
     },
     "execution_count": 8,
     "metadata": {},
     "output_type": "execute_result"
    }
   ],
   "source": [
    "view.get_class('biosample processing').slot_usage['has input'].range"
   ]
  },
  {
   "cell_type": "markdown",
   "id": "alternate-trinidad",
   "metadata": {
    "pycharm": {
     "name": "#%% md\n"
    }
   },
   "source": [
    "### If slot is not in slot_usage, an error will be throw. So, use function to determine slot range."
   ]
  },
  {
   "cell_type": "code",
   "execution_count": 9,
   "id": "found-branch",
   "metadata": {
    "pycharm": {
     "name": "#%%\n"
    }
   },
   "outputs": [
    {
     "name": "stdout",
     "output_type": "stream",
     "text": [
      "biosample\n",
      "named thing\n"
     ]
    }
   ],
   "source": [
    "def get_class_slot_range(view, class_name, slot_name):\n",
    "    if slot_name in view.get_class(class_name).slot_usage:\n",
    "        return view.get_class(class_name).slot_usage[slot_name].range\n",
    "    else:\n",
    "        return view.get_slot(slot_name).range\n",
    "\n",
    "print(get_class_slot_range(view, 'biosample processing', 'has input'))\n",
    "print(get_class_slot_range(view, 'biosample processing', 'has output'))\n",
    "        "
   ]
  },
  {
   "cell_type": "markdown",
   "id": "greater-jacksonville",
   "metadata": {
    "pycharm": {
     "name": "#%% md\n"
    }
   },
   "source": [
    "### Test for non-existent slots"
   ]
  },
  {
   "cell_type": "code",
   "execution_count": 10,
   "id": "gothic-weight",
   "metadata": {
    "pycharm": {
     "name": "#%%\n"
    }
   },
   "outputs": [],
   "source": [
    "view.get_slot('foo') ## nothing returned"
   ]
  },
  {
   "cell_type": "code",
   "execution_count": 11,
   "id": "experimental-masters",
   "metadata": {
    "tags": [],
    "pycharm": {
     "name": "#%%\n"
    }
   },
   "outputs": [
    {
     "data": {
      "text/plain": [
       "False"
      ]
     },
     "execution_count": 11,
     "metadata": {},
     "output_type": "execute_result"
    }
   ],
   "source": [
    "'foo' in view.get_class('biosample processing').slots"
   ]
  },
  {
   "cell_type": "markdown",
   "id": "specialized-civilian",
   "metadata": {
    "pycharm": {
     "name": "#%% md\n"
    }
   },
   "source": [
    "### Use induced_slot method to find range"
   ]
  },
  {
   "cell_type": "code",
   "execution_count": 12,
   "id": "dominant-modification",
   "metadata": {
    "pycharm": {
     "name": "#%%\n"
    }
   },
   "outputs": [
    {
     "name": "stdout",
     "output_type": "stream",
     "text": [
      "Help on _lru_cache_wrapper in module linkml_runtime.utils.schemaview:\n",
      "\n",
      "induced_slot(self, slot_name: Union[linkml_runtime.linkml_model.meta.SlotDefinitionName, str], class_name: Union[linkml_runtime.linkml_model.meta.ClassDefinitionName, str] = None, imports=True) -> linkml_runtime.linkml_model.meta.SlotDefinition\n",
      "    Given a slot, in the context of a particular class, yield a dynamic SlotDefinition that\n",
      "    has all properties materialized.\n",
      "    \n",
      "    This makes use of schema slots, such as attributes, slot_usage. It also uses ancestor relationships\n",
      "    to infer missing values\n",
      "    \n",
      "    :param slot_name: slot to be queries\n",
      "    :param class_name: class used as context\n",
      "    :param imports: include imports closure\n",
      "    :return: dynamic slot constructed by inference\n",
      "\n"
     ]
    }
   ],
   "source": [
    " help(SchemaView.induced_slot)"
   ]
  },
  {
   "cell_type": "code",
   "execution_count": 13,
   "id": "blocked-deficit",
   "metadata": {
    "tags": [],
    "pycharm": {
     "name": "#%%\n"
    }
   },
   "outputs": [
    {
     "data": {
      "text/plain": [
       "'biosample'"
      ]
     },
     "execution_count": 13,
     "metadata": {},
     "output_type": "execute_result"
    }
   ],
   "source": [
    "view.induced_slot('has input', 'biosample processing').range"
   ]
  },
  {
   "cell_type": "code",
   "execution_count": 14,
   "id": "graduate-engineer",
   "metadata": {
    "pycharm": {
     "name": "#%%\n"
    }
   },
   "outputs": [
    {
     "data": {
      "text/plain": [
       "'biosample'"
      ]
     },
     "execution_count": 14,
     "metadata": {},
     "output_type": "execute_result"
    }
   ],
   "source": [
    "view.induced_slot('has input', 'omics processing').range"
   ]
  },
  {
   "cell_type": "markdown",
   "id": "extra-bridal",
   "metadata": {
    "pycharm": {
     "name": "#%% md\n"
    }
   },
   "source": [
    "### SchemaView won't return the name of the class as it is named in the module. This does."
   ]
  },
  {
   "cell_type": "code",
   "execution_count": 15,
   "id": "economic-allowance",
   "metadata": {
    "pycharm": {
     "name": "#%%\n"
    }
   },
   "outputs": [],
   "source": [
    "import inspect\n",
    "from nmdc_schema import nmdc\n",
    "from nmdc_schema.nmdc import *"
   ]
  },
  {
   "cell_type": "code",
   "execution_count": 16,
   "id": "central-parent",
   "metadata": {
    "pycharm": {
     "name": "#%%\n"
    }
   },
   "outputs": [
    {
     "name": "stdout",
     "output_type": "stream",
     "text": [
      "[('Activity', 'activity'), ('Agent', 'agent'), ('AttributeValue', 'attribute value'), ('Biosample', 'biosample'), ('BiosampleProcessing', 'biosample processing')]\n"
     ]
    }
   ],
   "source": [
    "python_name_dict = {}\n",
    "\n",
    "for name, member in inspect.getmembers(nmdc):\n",
    "    if inspect.isclass(member) and hasattr(member, 'class_name'):\n",
    "        python_name_dict[name] = member.class_name\n",
    "        \n",
    "print(list(python_name_dict.items())[0:5])"
   ]
  },
  {
   "cell_type": "markdown",
   "id": "brown-cigarette",
   "metadata": {
    "pycharm": {
     "name": "#%% md\n"
    }
   },
   "source": [
    "### Use dict of class names to get info"
   ]
  },
  {
   "cell_type": "code",
   "execution_count": 17,
   "id": "legal-procedure",
   "metadata": {
    "pycharm": {
     "name": "#%%\n"
    }
   },
   "outputs": [],
   "source": [
    "# class_name = 'Study'\n",
    "class_name = 'nmdc:Study' # test for curie\n",
    "x_name = class_name if -1 == class_name.find(\":\") else class_name.partition(\":\")[-1]\n",
    "x = view.get_class(python_name_dict[x_name])"
   ]
  },
  {
   "cell_type": "code",
   "execution_count": 18,
   "id": "fantastic-memphis",
   "metadata": {
    "pycharm": {
     "name": "#%%\n"
    }
   },
   "outputs": [
    {
     "data": {
      "text/plain": [
       "'study'"
      ]
     },
     "execution_count": 18,
     "metadata": {},
     "output_type": "execute_result"
    }
   ],
   "source": [
    "x.name"
   ]
  },
  {
   "cell_type": "code",
   "execution_count": 19,
   "id": "later-recipient",
   "metadata": {
    "pycharm": {
     "name": "#%%\n"
    }
   },
   "outputs": [
    {
     "data": {
      "text/plain": [
       "['ecosystem',\n",
       " 'ecosystem_category',\n",
       " 'ecosystem_type',\n",
       " 'ecosystem_subtype',\n",
       " 'specific_ecosystem',\n",
       " 'principal investigator',\n",
       " 'doi',\n",
       " 'title',\n",
       " 'alternative titles',\n",
       " 'alternative descriptions',\n",
       " 'alternative names',\n",
       " 'abstract',\n",
       " 'objective',\n",
       " 'websites',\n",
       " 'publications',\n",
       " 'ess dive datasets',\n",
       " 'type',\n",
       " 'relevant protocols',\n",
       " 'funding sources',\n",
       " 'INSDC bioproject identifiers',\n",
       " 'INSDC SRA ENA study identifiers',\n",
       " 'GOLD study identifiers',\n",
       " 'MGnify project identifiers',\n",
       " 'has credit associations',\n",
       " 'study image']"
      ]
     },
     "execution_count": 19,
     "metadata": {},
     "output_type": "execute_result"
    }
   ],
   "source": [
    "x.slots"
   ]
  },
  {
   "cell_type": "code",
   "execution_count": 20,
   "id": "romantic-apartment",
   "metadata": {
    "pycharm": {
     "name": "#%%\n"
    }
   },
   "outputs": [],
   "source": [
    "s = view.get_slot('websites')"
   ]
  },
  {
   "cell_type": "code",
   "execution_count": 21,
   "id": "fossil-advocacy",
   "metadata": {
    "pycharm": {
     "name": "#%%\n"
    }
   },
   "outputs": [
    {
     "data": {
      "text/plain": [
       "'A list of websites that are assocatiated with the entity.'"
      ]
     },
     "execution_count": 21,
     "metadata": {},
     "output_type": "execute_result"
    }
   ],
   "source": [
    "s.description"
   ]
  },
  {
   "cell_type": "code",
   "execution_count": 22,
   "id": "neural-fleet",
   "metadata": {
    "pycharm": {
     "name": "#%%\n"
    }
   },
   "outputs": [
    {
     "data": {
      "text/plain": [
       "['doi']"
      ]
     },
     "execution_count": 22,
     "metadata": {},
     "output_type": "execute_result"
    }
   ],
   "source": [
    "list(x.slot_usage) # slot usage is a dict"
   ]
  },
  {
   "cell_type": "code",
   "execution_count": 23,
   "id": "alone-poverty",
   "metadata": {
    "pycharm": {
     "name": "#%%\n"
    }
   },
   "outputs": [],
   "source": [
    "s = view.induced_slot('doi', x.name)"
   ]
  },
  {
   "cell_type": "code",
   "execution_count": 24,
   "id": "centered-negotiation",
   "metadata": {
    "pycharm": {
     "name": "#%%\n"
    }
   },
   "outputs": [],
   "source": [
    "s.description # <-- should have the description: The dataset citation for this study"
   ]
  },
  {
   "cell_type": "markdown",
   "id": "floral-psychiatry",
   "metadata": {
    "pycharm": {
     "name": "#%% md\n"
    }
   },
   "source": [
    "### If necessary, here is how you retrieve a class using a string."
   ]
  },
  {
   "cell_type": "code",
   "execution_count": 25,
   "id": "employed-memorial",
   "metadata": {
    "pycharm": {
     "name": "#%%\n"
    }
   },
   "outputs": [
    {
     "data": {
      "text/plain": [
       "nmdc_schema.nmdc.Biosample"
      ]
     },
     "execution_count": 25,
     "metadata": {},
     "output_type": "execute_result"
    }
   ],
   "source": [
    "eval('nmdc.Biosample')"
   ]
  },
  {
   "cell_type": "code",
   "execution_count": 26,
   "id": "efficient-wilderness",
   "metadata": {
    "pycharm": {
     "name": "#%%\n"
    }
   },
   "outputs": [
    {
     "data": {
      "text/plain": [
       "nmdc_schema.nmdc.Biosample"
      ]
     },
     "execution_count": 26,
     "metadata": {},
     "output_type": "execute_result"
    }
   ],
   "source": [
    "eval('Biosample')"
   ]
  },
  {
   "cell_type": "code",
   "execution_count": 27,
   "id": "resident-european",
   "metadata": {
    "pycharm": {
     "name": "#%%\n"
    }
   },
   "outputs": [
    {
     "data": {
      "text/plain": [
       "True"
      ]
     },
     "execution_count": 27,
     "metadata": {},
     "output_type": "execute_result"
    }
   ],
   "source": [
    "inspect.isclass(eval('Biosample'))"
   ]
  },
  {
   "cell_type": "code",
   "execution_count": 28,
   "id": "stuffed-shark",
   "metadata": {
    "pycharm": {
     "name": "#%%\n"
    }
   },
   "outputs": [],
   "source": [
    "x = eval('BiosampleProcessing')"
   ]
  },
  {
   "cell_type": "code",
   "execution_count": 29,
   "id": "economic-uncertainty",
   "metadata": {
    "pycharm": {
     "name": "#%%\n"
    }
   },
   "outputs": [
    {
     "data": {
      "text/plain": [
       "'biosample processing'"
      ]
     },
     "execution_count": 29,
     "metadata": {},
     "output_type": "execute_result"
    }
   ],
   "source": [
    "x.class_name"
   ]
  },
  {
   "cell_type": "markdown",
   "id": "stylish-motivation",
   "metadata": {
    "pycharm": {
     "name": "#%% md\n"
    }
   },
   "source": [
    "### Example of how to get the permissible values for enums"
   ]
  },
  {
   "cell_type": "code",
   "execution_count": 67,
   "id": "reasonable-courtesy",
   "metadata": {
    "pycharm": {
     "name": "#%%\n"
    }
   },
   "outputs": [],
   "source": [
    "file_enums = view.get_enum('file type enum').permissible_values # returns a dict"
   ]
  },
  {
   "cell_type": "markdown",
   "id": "worth-auction",
   "metadata": {
    "pycharm": {
     "name": "#%% md\n"
    }
   },
   "source": [
    "#### get a permissible value"
   ]
  },
  {
   "cell_type": "code",
   "execution_count": 68,
   "id": "mathematical-nebraska",
   "metadata": {
    "pycharm": {
     "name": "#%%\n"
    }
   },
   "outputs": [
    {
     "data": {
      "text/plain": [
       "PermissibleValue(text='TIGRFam Annotation GFF', description='GFF3 format file with TIGRfam', meaning=None, is_a=None, mixins=[], extensions={}, annotations={'file_name_pattern': Annotation(tag='file_name_pattern', value='[GOLD-AP]_tigrfam.gff', extensions={}, annotations={})}, alt_descriptions={}, title=None, deprecated=None, todos=[], notes=[], comments=[], examples=[], in_subset=[], from_schema=None, imported_from=None, see_also=[], deprecated_element_has_exact_replacement=None, deprecated_element_has_possible_replacement=None)"
      ]
     },
     "execution_count": 68,
     "metadata": {},
     "output_type": "execute_result"
    }
   ],
   "source": [
    "tigr = file_enums['TIGRFam Annotation GFF']\n",
    "tigr"
   ]
  },
  {
   "cell_type": "code",
   "execution_count": 61,
   "id": "enhanced-destination",
   "metadata": {
    "pycharm": {
     "name": "#%%\n"
    }
   },
   "outputs": [
    {
     "data": {
      "text/plain": [
       "'GFF3 format file with TIGRfam'"
      ]
     },
     "execution_count": 61,
     "metadata": {},
     "output_type": "execute_result"
    }
   ],
   "source": [
    "tigr.description"
   ]
  },
  {
   "cell_type": "markdown",
   "id": "ruled-tumor",
   "metadata": {
    "pycharm": {
     "name": "#%% md\n"
    }
   },
   "source": [
    "#### get the annotations for the permissible value\n",
    "note: trying to get the value from an annotation that doesn't exist will throw an error"
   ]
  },
  {
   "cell_type": "code",
   "execution_count": 63,
   "id": "occupied-letters",
   "metadata": {
    "pycharm": {
     "name": "#%%\n"
    }
   },
   "outputs": [
    {
     "data": {
      "text/plain": [
       "{'file_name_pattern': Annotation(tag='file_name_pattern', value='[GOLD-AP]_tigrfam.gff', extensions={}, annotations={})}"
      ]
     },
     "execution_count": 63,
     "metadata": {},
     "output_type": "execute_result"
    }
   ],
   "source": [
    "tigr.annotations"
   ]
  },
  {
   "cell_type": "code",
   "execution_count": 64,
   "id": "leading-presentation",
   "metadata": {
    "pycharm": {
     "name": "#%%\n"
    }
   },
   "outputs": [
    {
     "data": {
      "text/plain": [
       "Annotation(tag='file_name_pattern', value='[GOLD-AP]_tigrfam.gff', extensions={}, annotations={})"
      ]
     },
     "execution_count": 64,
     "metadata": {},
     "output_type": "execute_result"
    }
   ],
   "source": [
    "tigr.annotations.get('file_name_pattern', None)"
   ]
  },
  {
   "cell_type": "code",
   "execution_count": 66,
   "id": "least-greensboro",
   "metadata": {
    "pycharm": {
     "name": "#%%\n"
    }
   },
   "outputs": [
    {
     "data": {
      "text/plain": [
       "'[GOLD-AP]_tigrfam.gff'"
      ]
     },
     "execution_count": 66,
     "metadata": {},
     "output_type": "execute_result"
    }
   ],
   "source": [
    "tigr.annotations.get('file_name_pattern', None).value"
   ]
  },
  {
   "cell_type": "code",
   "execution_count": null,
   "id": "caring-easter",
   "metadata": {
    "pycharm": {
     "name": "#%%\n"
    }
   },
   "outputs": [],
   "source": []
  }
 ],
 "metadata": {
  "kernelspec": {
   "display_name": "Python 3 (ipykernel)",
   "language": "python",
   "name": "python3"
  },
  "language_info": {
   "codemirror_mode": {
    "name": "ipython",
    "version": 3
   },
   "file_extension": ".py",
   "mimetype": "text/x-python",
   "name": "python",
   "nbconvert_exporter": "python",
   "pygments_lexer": "ipython3",
   "version": "3.9.7"
  }
 },
 "nbformat": 4,
 "nbformat_minor": 5
}