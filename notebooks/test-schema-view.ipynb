{
 "cells": [
  {
   "cell_type": "markdown",
   "id": "satisfied-wagon",
   "metadata": {},
   "source": [
    "# Test Schema View\n",
    "Notebook that tests how to use the linkml schema view utility for interrogating the NMDC Schema."
   ]
  },
  {
   "cell_type": "code",
   "id": "veterinary-palmer",
   "metadata": {
    "ExecuteTime": {
     "end_time": "2024-06-11T16:52:31.789926Z",
     "start_time": "2024-06-11T16:52:31.254611Z"
    }
   },
   "source": [
    "from linkml_runtime.utils.schemaview import SchemaView\n",
    "from nmdc_schema.get_nmdc_view import ViewGetter"
   ],
   "outputs": [],
   "execution_count": 1
  },
  {
   "cell_type": "code",
   "id": "muslim-volunteer",
   "metadata": {
    "ExecuteTime": {
     "end_time": "2024-06-11T16:52:31.794518Z",
     "start_time": "2024-06-11T16:52:31.791715Z"
    }
   },
   "source": "vg = ViewGetter()",
   "outputs": [],
   "execution_count": 2
  },
  {
   "cell_type": "code",
   "id": "going-detective",
   "metadata": {
    "ExecuteTime": {
     "end_time": "2024-06-11T16:52:32.919509Z",
     "start_time": "2024-06-11T16:52:31.795863Z"
    }
   },
   "source": "view = vg.get_view()",
   "outputs": [],
   "execution_count": 3
  },
  {
   "cell_type": "markdown",
   "id": "behavioral-yugoslavia",
   "metadata": {},
   "source": "### Get list of 5 classes"
  },
  {
   "cell_type": "code",
   "id": "intense-christian",
   "metadata": {
    "ExecuteTime": {
     "end_time": "2024-06-11T16:52:32.929596Z",
     "start_time": "2024-06-11T16:52:32.920928Z"
    }
   },
   "source": "list(view.all_classes())[0:5]",
   "outputs": [
    {
     "data": {
      "text/plain": [
       "['NucleotideSequencing',\n",
       " 'MassSpectrometry',\n",
       " 'Configuration',\n",
       " 'MassSpectrometryConfiguration',\n",
       " 'ChromatographyConfiguration']"
      ]
     },
     "execution_count": 4,
     "metadata": {},
     "output_type": "execute_result"
    }
   ],
   "execution_count": 4
  },
  {
   "cell_type": "markdown",
   "id": "cross-minneapolis",
   "metadata": {},
   "source": "### Get list of 5 slots"
  },
  {
   "cell_type": "code",
   "id": "together-fusion",
   "metadata": {
    "ExecuteTime": {
     "end_time": "2024-06-11T16:52:32.951268Z",
     "start_time": "2024-06-11T16:52:32.932088Z"
    }
   },
   "source": "list(view.all_slots())[0:5]",
   "outputs": [
    {
     "data": {
      "text/plain": [
       "['polarity_mode',\n",
       " 'mass_spectrum_collection_modes',\n",
       " 'ionization_source',\n",
       " 'mass_analyzers',\n",
       " 'resolution_categories']"
      ]
     },
     "execution_count": 5,
     "metadata": {},
     "output_type": "execute_result"
    }
   ],
   "execution_count": 5
  },
  {
   "cell_type": "markdown",
   "id": "skilled-shannon",
   "metadata": {},
   "source": [
    "### Check if slot is mulitvalued"
   ]
  },
  {
   "cell_type": "code",
   "id": "leading-popularity",
   "metadata": {
    "ExecuteTime": {
     "end_time": "2024-06-11T16:52:32.961387Z",
     "start_time": "2024-06-11T16:52:32.952891Z"
    }
   },
   "source": "view.get_slot('study_set').multivalued",
   "outputs": [],
   "execution_count": 6
  },
  {
   "cell_type": "markdown",
   "id": "hybrid-senator",
   "metadata": {
    "tags": []
   },
   "source": [
    "### Determine range of slot"
   ]
  },
  {
   "cell_type": "code",
   "id": "clean-consensus",
   "metadata": {
    "ExecuteTime": {
     "end_time": "2024-06-11T16:52:32.973601Z",
     "start_time": "2024-06-11T16:52:32.962581Z"
    }
   },
   "source": "view.get_slot('has_input').range",
   "outputs": [
    {
     "data": {
      "text/plain": [
       "'NamedThing'"
      ]
     },
     "execution_count": 7,
     "metadata": {},
     "output_type": "execute_result"
    }
   ],
   "execution_count": 7
  },
  {
   "cell_type": "markdown",
   "id": "hired-diving",
   "metadata": {},
   "source": [
    "### Determine range as specified in the slot_usage"
   ]
  },
  {
   "cell_type": "code",
   "id": "bearing-february",
   "metadata": {
    "ExecuteTime": {
     "end_time": "2024-06-11T16:52:32.984223Z",
     "start_time": "2024-06-11T16:52:32.974729Z"
    }
   },
   "source": "view.get_class('MaterialProcessing').slot_usage['has_input'].range",
   "outputs": [],
   "execution_count": 8
  },
  {
   "cell_type": "markdown",
   "id": "alternate-trinidad",
   "metadata": {},
   "source": [
    "### If slot is not in slot_usage, an error will be throw. So, use function to determine slot range."
   ]
  },
  {
   "cell_type": "code",
   "id": "found-branch",
   "metadata": {
    "ExecuteTime": {
     "end_time": "2024-06-11T16:52:32.996467Z",
     "start_time": "2024-06-11T16:52:32.985906Z"
    }
   },
   "source": [
    "def get_class_slot_range(view_obj, class_name, slot_name):\n",
    "    if slot_name in view_obj.get_class(class_name).slot_usage:\n",
    "        return view_obj.get_class(class_name).slot_usage[slot_name].range\n",
    "    else:\n",
    "        return view_obj.get_slot(slot_name).range\n",
    "\n",
    "print(get_class_slot_range(view, 'MaterialProcessing', 'has_input'))\n",
    "        "
   ],
   "outputs": [
    {
     "name": "stdout",
     "output_type": "stream",
     "text": [
      "None\n"
     ]
    }
   ],
   "execution_count": 9
  },
  {
   "cell_type": "markdown",
   "id": "greater-jacksonville",
   "metadata": {},
   "source": [
    "### Test for non-existent slots"
   ]
  },
  {
   "cell_type": "code",
   "id": "gothic-weight",
   "metadata": {
    "ExecuteTime": {
     "end_time": "2024-06-11T16:52:33.007485Z",
     "start_time": "2024-06-11T16:52:32.998094Z"
    }
   },
   "source": [
    "view.get_slot('foo') ## nothing returned"
   ],
   "outputs": [],
   "execution_count": 10
  },
  {
   "cell_type": "code",
   "id": "experimental-masters",
   "metadata": {
    "tags": [],
    "ExecuteTime": {
     "end_time": "2024-06-11T16:52:33.020817Z",
     "start_time": "2024-06-11T16:52:33.009109Z"
    }
   },
   "source": "'foo' in view.get_class('MaterialProcessing').slots",
   "outputs": [
    {
     "data": {
      "text/plain": [
       "False"
      ]
     },
     "execution_count": 11,
     "metadata": {},
     "output_type": "execute_result"
    }
   ],
   "execution_count": 11
  },
  {
   "cell_type": "markdown",
   "id": "specialized-civilian",
   "metadata": {},
   "source": [
    "### Use induced_slot method to find range"
   ]
  },
  {
   "cell_type": "code",
   "id": "dominant-modification",
   "metadata": {
    "ExecuteTime": {
     "end_time": "2024-06-11T16:52:33.032381Z",
     "start_time": "2024-06-11T16:52:33.022536Z"
    }
   },
   "source": "help(SchemaView.induced_slot)",
   "outputs": [
    {
     "name": "stdout",
     "output_type": "stream",
     "text": [
      "Help on _lru_cache_wrapper in module linkml_runtime.utils.schemaview:\n",
      "\n",
      "induced_slot(self, slot_name: Union[linkml_runtime.linkml_model.meta.SlotDefinitionName, str], class_name: Union[linkml_runtime.linkml_model.meta.ClassDefinitionName, str] = None, imports=True, mangle_name=False) -> linkml_runtime.linkml_model.meta.SlotDefinition\n",
      "    Given a slot, in the context of a particular class, yield a dynamic SlotDefinition that\n",
      "    has all properties materialized.\n",
      "    \n",
      "    This makes use of schema slots, such as attributes, slot_usage. It also uses ancestor relationships\n",
      "    to infer missing values, for inheritable slots\n",
      "    \n",
      "    :param slot_name: slot to be queries\n",
      "    :param class_name: class used as context\n",
      "    :param imports: include imports closure\n",
      "    :return: dynamic slot constructed by inference\n",
      "\n"
     ]
    }
   ],
   "execution_count": 12
  },
  {
   "cell_type": "code",
   "id": "blocked-deficit",
   "metadata": {
    "tags": [],
    "ExecuteTime": {
     "end_time": "2024-06-11T16:52:33.046080Z",
     "start_time": "2024-06-11T16:52:33.033528Z"
    }
   },
   "source": "view.induced_slot('has_input', 'MaterialProcessing').range",
   "outputs": [
    {
     "data": {
      "text/plain": [
       "'NamedThing'"
      ]
     },
     "execution_count": 13,
     "metadata": {},
     "output_type": "execute_result"
    }
   ],
   "execution_count": 13
  },
  {
   "cell_type": "markdown",
   "id": "extra-bridal",
   "metadata": {},
   "source": [
    "### SchemaView won't return the name of the class as it is named in the module. This does."
   ]
  },
  {
   "cell_type": "code",
   "id": "economic-allowance",
   "metadata": {
    "ExecuteTime": {
     "end_time": "2024-06-11T16:52:33.382445Z",
     "start_time": "2024-06-11T16:52:33.049564Z"
    }
   },
   "source": [
    "import inspect\n",
    "from nmdc_schema import nmdc\n"
   ],
   "outputs": [],
   "execution_count": 14
  },
  {
   "cell_type": "code",
   "id": "central-parent",
   "metadata": {
    "ExecuteTime": {
     "end_time": "2024-06-11T16:52:33.388638Z",
     "start_time": "2024-06-11T16:52:33.383763Z"
    }
   },
   "source": [
    "python_name_dict = {}\n",
    "\n",
    "for name, member in inspect.getmembers(nmdc):\n",
    "    if inspect.isclass(member) and hasattr(member, 'class_name'):\n",
    "        python_name_dict[name] = member.class_name\n",
    "        \n",
    "print(list(python_name_dict.items())[0:5])"
   ],
   "outputs": [
    {
     "name": "stdout",
     "output_type": "stream",
     "text": [
      "[('AttributeValue', 'AttributeValue'), ('Biosample', 'Biosample'), ('CalibrationInformation', 'CalibrationInformation'), ('ChemicalConversionProcess', 'ChemicalConversionProcess'), ('ChemicalEntity', 'ChemicalEntity')]\n"
     ]
    }
   ],
   "execution_count": 15
  },
  {
   "cell_type": "markdown",
   "id": "brown-cigarette",
   "metadata": {},
   "source": [
    "### Use dict of class names to get info"
   ]
  },
  {
   "cell_type": "code",
   "id": "legal-procedure",
   "metadata": {
    "ExecuteTime": {
     "end_time": "2024-06-11T16:52:33.408163Z",
     "start_time": "2024-06-11T16:52:33.390017Z"
    }
   },
   "source": [
    "class_name = 'nmdc:Study' # test for curie\n",
    "x_name = class_name if -1 == class_name.find(\":\") else class_name.partition(\":\")[-1]\n",
    "x = view.get_class(python_name_dict[x_name])"
   ],
   "outputs": [],
   "execution_count": 16
  },
  {
   "cell_type": "code",
   "id": "fantastic-memphis",
   "metadata": {
    "ExecuteTime": {
     "end_time": "2024-06-11T16:52:33.420718Z",
     "start_time": "2024-06-11T16:52:33.409534Z"
    }
   },
   "source": [
    "x.name"
   ],
   "outputs": [
    {
     "data": {
      "text/plain": [
       "'Study'"
      ]
     },
     "execution_count": 17,
     "metadata": {},
     "output_type": "execute_result"
    }
   ],
   "execution_count": 17
  },
  {
   "cell_type": "code",
   "id": "later-recipient",
   "metadata": {
    "ExecuteTime": {
     "end_time": "2024-06-11T16:52:33.434099Z",
     "start_time": "2024-06-11T16:52:33.422108Z"
    }
   },
   "source": [
    "x.slots"
   ],
   "outputs": [
    {
     "data": {
      "text/plain": [
       "['emsl_project_identifiers',\n",
       " 'gnps_task_identifiers',\n",
       " 'gold_study_identifiers',\n",
       " 'insdc_bioproject_identifiers',\n",
       " 'jgi_portal_study_identifiers',\n",
       " 'mgnify_project_identifiers',\n",
       " 'neon_study_identifiers',\n",
       " 'related_identifiers',\n",
       " 'alternative_descriptions',\n",
       " 'alternative_names',\n",
       " 'alternative_titles',\n",
       " 'ecosystem',\n",
       " 'ecosystem_category',\n",
       " 'ecosystem_subtype',\n",
       " 'ecosystem_type',\n",
       " 'specific_ecosystem',\n",
       " 'associated_dois',\n",
       " 'funding_sources',\n",
       " 'has_credit_associations',\n",
       " 'homepage_website',\n",
       " 'notes',\n",
       " 'objective',\n",
       " 'part_of',\n",
       " 'principal_investigator',\n",
       " 'protocol_link',\n",
       " 'study_category',\n",
       " 'study_image',\n",
       " 'title',\n",
       " 'websites']"
      ]
     },
     "execution_count": 18,
     "metadata": {},
     "output_type": "execute_result"
    }
   ],
   "execution_count": 18
  },
  {
   "cell_type": "code",
   "id": "romantic-apartment",
   "metadata": {
    "ExecuteTime": {
     "end_time": "2024-06-11T16:52:33.444649Z",
     "start_time": "2024-06-11T16:52:33.435709Z"
    }
   },
   "source": [
    "s = view.get_slot('websites')"
   ],
   "outputs": [],
   "execution_count": 19
  },
  {
   "cell_type": "code",
   "id": "fossil-advocacy",
   "metadata": {
    "ExecuteTime": {
     "end_time": "2024-06-11T16:52:33.460019Z",
     "start_time": "2024-06-11T16:52:33.446361Z"
    }
   },
   "source": [
    "s.description"
   ],
   "outputs": [
    {
     "data": {
      "text/plain": [
       "'A list of websites that are associated with the entity.'"
      ]
     },
     "execution_count": 20,
     "metadata": {},
     "output_type": "execute_result"
    }
   ],
   "execution_count": 20
  },
  {
   "cell_type": "code",
   "id": "neural-fleet",
   "metadata": {
    "ExecuteTime": {
     "end_time": "2024-06-11T16:52:33.484858Z",
     "start_time": "2024-06-11T16:52:33.462086Z"
    }
   },
   "source": [
    "list(x.slot_usage) # slot usage is a dict"
   ],
   "outputs": [
    {
     "data": {
      "text/plain": [
       "['id',\n",
       " 'name',\n",
       " 'websites',\n",
       " 'homepage_website',\n",
       " 'description',\n",
       " 'notes',\n",
       " 'alternative_identifiers',\n",
       " 'alternative_names',\n",
       " 'related_identifiers',\n",
       " 'insdc_bioproject_identifiers',\n",
       " 'part_of',\n",
       " 'protocol_link']"
      ]
     },
     "execution_count": 21,
     "metadata": {},
     "output_type": "execute_result"
    }
   ],
   "execution_count": 21
  },
  {
   "cell_type": "code",
   "id": "alone-poverty",
   "metadata": {
    "ExecuteTime": {
     "end_time": "2024-06-11T16:52:33.496287Z",
     "start_time": "2024-06-11T16:52:33.486635Z"
    }
   },
   "source": "s = view.induced_slot('associated_dois', x.name)",
   "outputs": [],
   "execution_count": 22
  },
  {
   "cell_type": "code",
   "id": "centered-negotiation",
   "metadata": {
    "ExecuteTime": {
     "end_time": "2024-06-11T16:52:33.509393Z",
     "start_time": "2024-06-11T16:52:33.497677Z"
    }
   },
   "source": "s.description",
   "outputs": [
    {
     "data": {
      "text/plain": [
       "'A list of DOIs associated with a resource, such as a list of DOIS associated with a Study.'"
      ]
     },
     "execution_count": 23,
     "metadata": {},
     "output_type": "execute_result"
    }
   ],
   "execution_count": 23
  },
  {
   "cell_type": "markdown",
   "id": "floral-psychiatry",
   "metadata": {},
   "source": [
    "### If necessary, here is how you retrieve a class using a string."
   ]
  },
  {
   "cell_type": "code",
   "id": "employed-memorial",
   "metadata": {
    "ExecuteTime": {
     "end_time": "2024-06-11T16:52:33.520870Z",
     "start_time": "2024-06-11T16:52:33.510912Z"
    }
   },
   "source": [
    "eval('nmdc.Biosample')"
   ],
   "outputs": [
    {
     "data": {
      "text/plain": [
       "nmdc_schema.nmdc.Biosample"
      ]
     },
     "execution_count": 24,
     "metadata": {},
     "output_type": "execute_result"
    }
   ],
   "execution_count": 24
  },
  {
   "cell_type": "code",
   "id": "resident-european",
   "metadata": {
    "ExecuteTime": {
     "end_time": "2024-06-11T16:52:33.532440Z",
     "start_time": "2024-06-11T16:52:33.522425Z"
    }
   },
   "source": "inspect.isclass(eval('nmdc.Biosample'))",
   "outputs": [
    {
     "data": {
      "text/plain": [
       "True"
      ]
     },
     "execution_count": 25,
     "metadata": {},
     "output_type": "execute_result"
    }
   ],
   "execution_count": 25
  },
  {
   "cell_type": "markdown",
   "id": "stylish-motivation",
   "metadata": {},
   "source": [
    "### Example of how to get the permissible values for enums"
   ]
  },
  {
   "cell_type": "code",
   "id": "reasonable-courtesy",
   "metadata": {
    "ExecuteTime": {
     "end_time": "2024-06-11T16:52:33.543327Z",
     "start_time": "2024-06-11T16:52:33.533870Z"
    }
   },
   "source": "file_enums = view.get_enum('FileTypeEnum').permissible_values # returns a dict",
   "outputs": [],
   "execution_count": 26
  },
  {
   "cell_type": "markdown",
   "id": "worth-auction",
   "metadata": {},
   "source": [
    "#### get a permissible value"
   ]
  },
  {
   "cell_type": "code",
   "id": "mathematical-nebraska",
   "metadata": {
    "ExecuteTime": {
     "end_time": "2024-06-11T16:52:33.555597Z",
     "start_time": "2024-06-11T16:52:33.545026Z"
    }
   },
   "source": [
    "tigr = file_enums['TIGRFam Annotation GFF']\n",
    "tigr"
   ],
   "outputs": [
    {
     "data": {
      "text/plain": [
       "PermissibleValue(text='TIGRFam Annotation GFF', description='GFF3 format file with TIGRfam', meaning=None, unit=None, is_a=None, mixins=[], extensions={}, annotations={'file_name_pattern': Annotation(tag='file_name_pattern', value='[GOLD-AP]_tigrfam.gff', extensions={}, annotations={})}, alt_descriptions={}, title=None, deprecated=None, todos=[], notes=[], comments=[], examples=[], in_subset=[], from_schema=None, imported_from=None, source=None, in_language=None, see_also=[], deprecated_element_has_exact_replacement=None, deprecated_element_has_possible_replacement=None, aliases=[], structured_aliases={}, mappings=[], exact_mappings=[], close_mappings=[], related_mappings=[], narrow_mappings=[], broad_mappings=[], created_by=None, contributors=[], created_on=None, last_updated_on=None, modified_by=None, status=None, rank=None, categories=[], keywords=[])"
      ]
     },
     "execution_count": 27,
     "metadata": {},
     "output_type": "execute_result"
    }
   ],
   "execution_count": 27
  },
  {
   "cell_type": "code",
   "id": "enhanced-destination",
   "metadata": {
    "ExecuteTime": {
     "end_time": "2024-06-11T16:52:33.567067Z",
     "start_time": "2024-06-11T16:52:33.557011Z"
    }
   },
   "source": [
    "tigr.description"
   ],
   "outputs": [
    {
     "data": {
      "text/plain": [
       "'GFF3 format file with TIGRfam'"
      ]
     },
     "execution_count": 28,
     "metadata": {},
     "output_type": "execute_result"
    }
   ],
   "execution_count": 28
  },
  {
   "cell_type": "markdown",
   "id": "ruled-tumor",
   "metadata": {},
   "source": [
    "#### get the annotations for the permissible value\n",
    "note: trying to get the value from an annotation that doesn't exist will throw an error"
   ]
  },
  {
   "cell_type": "code",
   "id": "occupied-letters",
   "metadata": {
    "ExecuteTime": {
     "end_time": "2024-06-11T16:52:33.579201Z",
     "start_time": "2024-06-11T16:52:33.568214Z"
    }
   },
   "source": [
    "tigr.annotations"
   ],
   "outputs": [
    {
     "data": {
      "text/plain": [
       "{'file_name_pattern': Annotation(tag='file_name_pattern', value='[GOLD-AP]_tigrfam.gff', extensions={}, annotations={})}"
      ]
     },
     "execution_count": 29,
     "metadata": {},
     "output_type": "execute_result"
    }
   ],
   "execution_count": 29
  },
  {
   "cell_type": "code",
   "id": "leading-presentation",
   "metadata": {
    "ExecuteTime": {
     "end_time": "2024-06-11T16:52:33.590656Z",
     "start_time": "2024-06-11T16:52:33.580545Z"
    }
   },
   "source": [
    "tigr.annotations.get('file_name_pattern', None)"
   ],
   "outputs": [
    {
     "data": {
      "text/plain": [
       "Annotation(tag='file_name_pattern', value='[GOLD-AP]_tigrfam.gff', extensions={}, annotations={})"
      ]
     },
     "execution_count": 30,
     "metadata": {},
     "output_type": "execute_result"
    }
   ],
   "execution_count": 30
  },
  {
   "cell_type": "code",
   "id": "least-greensboro",
   "metadata": {
    "ExecuteTime": {
     "end_time": "2024-06-11T16:52:33.602353Z",
     "start_time": "2024-06-11T16:52:33.591924Z"
    }
   },
   "source": [
    "tigr.annotations.get('file_name_pattern', None).value"
   ],
   "outputs": [
    {
     "data": {
      "text/plain": [
       "'[GOLD-AP]_tigrfam.gff'"
      ]
     },
     "execution_count": 31,
     "metadata": {},
     "output_type": "execute_result"
    }
   ],
   "execution_count": 31
  }
 ],
 "metadata": {
  "kernelspec": {
   "display_name": "Python 3 (ipykernel)",
   "language": "python",
   "name": "python3"
  },
  "language_info": {
   "codemirror_mode": {
    "name": "ipython",
    "version": 3
   },
   "file_extension": ".py",
   "mimetype": "text/x-python",
   "name": "python",
   "nbconvert_exporter": "python",
   "pygments_lexer": "ipython3",
   "version": "3.9.7"
  }
 },
 "nbformat": 4,
 "nbformat_minor": 5
}
