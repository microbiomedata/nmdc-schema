{
 "cells": [
  {
   "cell_type": "code",
   "id": "initial_id",
   "metadata": {
    "collapsed": true,
    "ExecuteTime": {
     "end_time": "2025-06-30T20:11:38.951784Z",
     "start_time": "2025-06-30T20:11:25.552067Z"
    }
   },
   "source": [
    "# Test environment compatibility for quantulum3\n",
    "import quantulum3\n",
    "import sklearn\n",
    "import sys\n",
    "\n",
    "print(f\"Python version: {sys.version}\")\n",
    "print(f\"quantulum3 version: {quantulum3.__version__}\")\n",
    "print(f\"scikit-learn version: {sklearn.__version__}\")\n",
    "\n",
    "# Test if the classifier is working correctly\n",
    "try:\n",
    "    from quantulum3 import parser\n",
    "    test_string = \"5 mg/L\"\n",
    "    quants = parser.parse(test_string)\n",
    "    print(f\"\\nTest parse successful: '{test_string}' → {quants[0].unit.name}\")\n",
    "    print(\"Environment is correctly configured\")\n",
    "except Exception as e:\n",
    "    print(f\"\\nTest parse failed with error: {e}\")\n",
    "    print(\"Environment needs to be fixed - make sure scikit-learn is version 1.5.0\")"
   ],
   "outputs": [
    {
     "name": "stdout",
     "output_type": "stream",
     "text": [
      "Python version: 3.12.11 (main, Jun  3 2025, 15:41:47) [Clang 17.0.0 (clang-1700.0.13.3)]\n",
      "quantulum3 version: 0.9.2\n",
      "scikit-learn version: 1.5.0\n",
      "\n",
      "Test parse successful: '5 mg/L' → milligram per litre\n",
      "Environment is correctly configured\n"
     ]
    }
   ],
   "execution_count": 1
  },
  {
   "metadata": {},
   "cell_type": "code",
   "outputs": [],
   "execution_count": null,
   "source": "",
   "id": "69d5a196e4793304"
  }
 ],
 "metadata": {
  "kernelspec": {
   "display_name": "Python 3",
   "language": "python",
   "name": "python3"
  },
  "language_info": {
   "codemirror_mode": {
    "name": "ipython",
    "version": 2
   },
   "file_extension": ".py",
   "mimetype": "text/x-python",
   "name": "python",
   "nbconvert_exporter": "python",
   "pygments_lexer": "ipython2",
   "version": "2.7.6"
  }
 },
 "nbformat": 4,
 "nbformat_minor": 5
}
