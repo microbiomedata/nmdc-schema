{
 "cells": [
  {
   "cell_type": "code",
   "metadata": {
    "collapsed": true,
    "ExecuteTime": {
     "end_time": "2024-06-11T16:52:14.757387Z",
     "start_time": "2024-06-11T16:52:14.752643Z"
    }
   },
   "source": [
    "from nmdc_schema.get_nmdc_view import ViewGetter\n",
    "from nmdc_schema.nmdc import ReadQcAnalysis\n",
    "from linkml_runtime.dumpers import yaml_dumper\n",
    "from linkml_runtime.loaders import yaml_loader\n",
    "from linkml.validators.jsonschemavalidator import JsonSchemaDataValidator\n",
    "from nmdc_schema.nmdc_data import get_materialized_nmdc_yaml_string\n"
   ],
   "outputs": [],
   "execution_count": 2
  },
  {
   "metadata": {
    "ExecuteTime": {
     "end_time": "2024-06-11T16:52:14.790277Z",
     "start_time": "2024-06-11T16:52:14.787269Z"
    }
   },
   "cell_type": "code",
   "source": "target_class_name = 'ReadQcAnalysis'",
   "outputs": [],
   "execution_count": 3
  },
  {
   "metadata": {
    "ExecuteTime": {
     "end_time": "2024-06-11T16:52:14.812971Z",
     "start_time": "2024-06-11T16:52:14.794875Z"
    }
   },
   "cell_type": "code",
   "source": "materialized_schema_string = get_materialized_nmdc_yaml_string()",
   "outputs": [],
   "execution_count": 4
  },
  {
   "metadata": {
    "ExecuteTime": {
     "end_time": "2024-06-11T16:52:14.834838Z",
     "start_time": "2024-06-11T16:52:14.814607Z"
    }
   },
   "cell_type": "code",
   "source": "validator = JsonSchemaDataValidator(materialized_schema_string)",
   "outputs": [],
   "execution_count": 5
  },
  {
   "cell_type": "code",
   "source": [
    "# could also build the view from the schema string\n",
    "vg = ViewGetter()\n",
    "v = vg.get_view()\n",
    "target_class_def = v.induced_class(target_class_name)\n",
    "target_class_slots = target_class_def.attributes # why not induced?\n",
    "target_class_slot_slotnames = [v.name for k, v in target_class_slots.items()]\n",
    "target_class_slot_slotnames.sort()\n",
    "target_class_slot_slotnames.sort()"
   ],
   "metadata": {
    "collapsed": false,
    "ExecuteTime": {
     "end_time": "2024-06-11T16:52:16.130247Z",
     "start_time": "2024-06-11T16:52:14.836901Z"
    }
   },
   "outputs": [],
   "execution_count": 6
  },
  {
   "metadata": {
    "ExecuteTime": {
     "end_time": "2024-06-11T16:52:16.139830Z",
     "start_time": "2024-06-11T16:52:16.132266Z"
    }
   },
   "cell_type": "code",
   "source": "target_class_slot_slotnames",
   "outputs": [
    {
     "data": {
      "text/plain": [
       "['alternative_identifiers',\n",
       " 'description',\n",
       " 'end_date',\n",
       " 'ended_at_time',\n",
       " 'execution_resource',\n",
       " 'git_url',\n",
       " 'has_failure_categorization',\n",
       " 'has_input',\n",
       " 'has_output',\n",
       " 'id',\n",
       " 'input_base_count',\n",
       " 'input_read_bases',\n",
       " 'input_read_count',\n",
       " 'name',\n",
       " 'output_base_count',\n",
       " 'output_read_bases',\n",
       " 'output_read_count',\n",
       " 'part_of',\n",
       " 'processing_institution',\n",
       " 'protocol_link',\n",
       " 'qc_comment',\n",
       " 'qc_status',\n",
       " 'start_date',\n",
       " 'started_at_time',\n",
       " 'type',\n",
       " 'version']"
      ]
     },
     "execution_count": 7,
     "metadata": {},
     "output_type": "execute_result"
    }
   ],
   "execution_count": 7
  },
  {
   "metadata": {},
   "cell_type": "markdown",
   "source": [
    "**Now use knowledge of those slots to compose an instance of the target class**\n",
    "\n",
    "Can additionally check the schema YAML files in `src/schema` or read the documentation at \n",
    "\n",
    "- https://microbiomedata.github.io/nmdc-schema/ (stable)\n",
    "- https://microbiomedata.github.io/berkeley-schema-fy24/ (development)\n",
    "\n",
    "Or steal an instance from `src/data/valid/ReadQcAnalysis-1.yaml`"
   ]
  },
  {
   "cell_type": "code",
   "source": [
    "target_instance_yaml = \"\"\"\n",
    "id: nmdc:wfrqc-99-ABCDEF.1\n",
    "type: nmdc:ReadQcAnalysis\n",
    "ended_at_time: '2021-09-15T10:13:20+00:00'\n",
    "execution_resource: NERSC-Perlmutter\n",
    "git_url: git_url1\n",
    "input_base_count: 300.0\n",
    "input_read_bases: 300.0\n",
    "input_read_count: 10.0\n",
    "name: name1\n",
    "output_base_count: 100.0\n",
    "output_read_bases: 100.0\n",
    "output_read_count: 3.0\n",
    "started_at_time: '2021-08-05T14:48:51+00:00'\n",
    "part_of:\n",
    "  - nmdc:wfch-99-xxxxx1\n",
    "has_input:\n",
    "  - nmdc:dobj-99-xxxxx1\n",
    "has_output:\n",
    "  - nmdc:dobj-99-xxxxx2\n",
    "  - nmdc:dobj-99-xxxxx3\n",
    "\"\"\"\n"
   ],
   "metadata": {
    "collapsed": false,
    "ExecuteTime": {
     "end_time": "2024-06-11T16:52:16.165664Z",
     "start_time": "2024-06-11T16:52:16.141072Z"
    }
   },
   "outputs": [],
   "execution_count": 8
  },
  {
   "metadata": {
    "ExecuteTime": {
     "end_time": "2024-06-11T16:52:16.183482Z",
     "start_time": "2024-06-11T16:52:16.167507Z"
    }
   },
   "cell_type": "code",
   "source": [
    "target_instance_obj = yaml_loader.load(\n",
    "    target_instance_yaml, \n",
    "    target_class=ReadQcAnalysis\n",
    ") # how to mention this class symbolically, with target_class variable?"
   ],
   "outputs": [],
   "execution_count": 9
  },
  {
   "cell_type": "code",
   "source": "validator.validate_object(target_instance_obj, target_class=ReadQcAnalysis)",
   "metadata": {
    "collapsed": false,
    "ExecuteTime": {
     "end_time": "2024-06-11T16:52:19.439683Z",
     "start_time": "2024-06-11T16:52:16.185082Z"
    }
   },
   "outputs": [],
   "execution_count": 10
  },
  {
   "cell_type": "code",
   "source": "print(yaml_dumper.dumps(target_instance_obj)) # prints the instance in the canonical form",
   "metadata": {
    "collapsed": false,
    "ExecuteTime": {
     "end_time": "2024-06-11T16:52:19.446109Z",
     "start_time": "2024-06-11T16:52:19.440853Z"
    }
   },
   "outputs": [
    {
     "name": "stdout",
     "output_type": "stream",
     "text": [
      "id: nmdc:wfrqc-99-ABCDEF.1\n",
      "type: nmdc:ReadQcAnalysis\n",
      "name: name1\n",
      "has_input:\n",
      "- nmdc:dobj-99-xxxxx1\n",
      "has_output:\n",
      "- nmdc:dobj-99-xxxxx2\n",
      "- nmdc:dobj-99-xxxxx3\n",
      "ended_at_time: '2021-09-15T10:13:20+00:00'\n",
      "execution_resource: NERSC-Perlmutter\n",
      "git_url: git_url1\n",
      "part_of:\n",
      "- nmdc:wfch-99-xxxxx1\n",
      "started_at_time: '2021-08-05T14:48:51+00:00'\n",
      "input_base_count: 300.0\n",
      "input_read_bases: 300.0\n",
      "input_read_count: 10.0\n",
      "output_base_count: 100.0\n",
      "output_read_bases: 100.0\n",
      "output_read_count: 3.0\n",
      "\n"
     ]
    }
   ],
   "execution_count": 11
  }
 ],
 "metadata": {
  "kernelspec": {
   "display_name": "Python 3",
   "language": "python",
   "name": "python3"
  },
  "language_info": {
   "codemirror_mode": {
    "name": "ipython",
    "version": 2
   },
   "file_extension": ".py",
   "mimetype": "text/x-python",
   "name": "python",
   "nbconvert_exporter": "python",
   "pygments_lexer": "ipython2",
   "version": "2.7.6"
  }
 },
 "nbformat": 4,
 "nbformat_minor": 0
}
