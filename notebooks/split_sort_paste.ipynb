{
 "cells": [
  {
   "cell_type": "code",
   "execution_count": 31,
   "metadata": {
    "collapsed": true,
    "pycharm": {
     "name": "#%%\n"
    }
   },
   "outputs": [],
   "source": [
    "def split_sort_paste(old_pasted):\n",
    "    splitted = old_pasted.split('|')\n",
    "    splitted = list(set(splitted))\n",
    "    splitted.sort()\n",
    "    joined = '|'.join(splitted)\n",
    "    print(joined)\n",
    "    print('\\n\\n')"
   ]
  },
  {
   "cell_type": "code",
   "execution_count": 56,
   "outputs": [
    {
     "name": "stdout",
     "output_type": "stream",
     "text": [
      "bioscales|soil|soil_emsl|soil_emsl_jgi_mg|soil_emsl_jgi_mg_mt|soil_emsl_jgi_mt|soil_jgi_mg|soil_jgi_mt|water\n",
      "\n",
      "\n",
      "\n"
     ]
    }
   ],
   "source": [
    "x = 'soil|soil_emsl|soil_emsl_jgi_mg|soil_emsl_jgi_mt|soil_jgi_mg|soil_jgi_mt|water|bioscales|soil_emsl_jgi_mg_mt'\n",
    "split_sort_paste(x)"
   ],
   "metadata": {
    "collapsed": false,
    "pycharm": {
     "name": "#%%\n"
    }
   }
  },
  {
   "cell_type": "code",
   "execution_count": 32,
   "outputs": [],
   "source": [],
   "metadata": {
    "collapsed": false,
    "pycharm": {
     "name": "#%%\n"
    }
   }
  }
 ],
 "metadata": {
  "kernelspec": {
   "display_name": "Python 3",
   "language": "python",
   "name": "python3"
  },
  "language_info": {
   "codemirror_mode": {
    "name": "ipython",
    "version": 2
   },
   "file_extension": ".py",
   "mimetype": "text/x-python",
   "name": "python",
   "nbconvert_exporter": "python",
   "pygments_lexer": "ipython2",
   "version": "2.7.6"
  }
 },
 "nbformat": 4,
 "nbformat_minor": 0
}