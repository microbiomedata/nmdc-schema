{
 "cells": [
  {
   "cell_type": "code",
   "execution_count": 32,
   "metadata": {
    "collapsed": true
   },
   "outputs": [],
   "source": [
    "from linkml_runtime import SchemaView\n",
    "from linkml_runtime.dumpers import yaml_dumper\n",
    "import pprint\n",
    "# todo pandas is handy for viewing tables in a notebook\n",
    "#  but not really necessary for dumping a TSV file\n",
    "import pandas as pd"
   ]
  },
  {
   "cell_type": "code",
   "execution_count": 97,
   "outputs": [],
   "source": [
    "schema_file = \"../src/schema/nmdc.yaml\"\n",
    "types_url = \"https://w3id.org/linkml/types\""
   ],
   "metadata": {
    "collapsed": false
   }
  },
  {
   "cell_type": "code",
   "execution_count": 8,
   "outputs": [],
   "source": [
    "schema_view = SchemaView(schema_file)"
   ],
   "metadata": {
    "collapsed": false
   }
  },
  {
   "cell_type": "code",
   "execution_count": 101,
   "outputs": [
    {
     "name": "stdout",
     "output_type": "stream",
     "text": [
      "['boolean', 'date', 'date_or_datetime', 'datetime', 'decimal', 'double', 'float', 'integer', 'ncname', 'nodeidentifier', 'objectidentifier', 'string', 'time', 'uri', 'uriorcurie']\n"
     ]
    }
   ],
   "source": [
    "types_view = SchemaView(types_url)\n",
    "types_types = types_view.all_types()\n",
    "types_type_names = [v.name for k,v in types_types.items()]\n",
    "types_type_names.sort()\n",
    "print(types_type_names)"
   ],
   "metadata": {
    "collapsed": false
   }
  },
  {
   "cell_type": "code",
   "execution_count": 9,
   "outputs": [],
   "source": [
    "induced_bs = schema_view.induced_class('Biosample')\n",
    "# inferred classes have attributes, not slots"
   ],
   "metadata": {
    "collapsed": false
   }
  },
  {
   "cell_type": "code",
   "execution_count": 12,
   "outputs": [],
   "source": [
    "induced_bs_attribs = induced_bs.attributes"
   ],
   "metadata": {
    "collapsed": false
   }
  },
  {
   "cell_type": "code",
   "execution_count": 14,
   "outputs": [],
   "source": [
    "induced_bs_attrib_names = [v.name for k, v in induced_bs_attribs.items()]"
   ],
   "metadata": {
    "collapsed": false
   }
  },
  {
   "cell_type": "code",
   "execution_count": 16,
   "outputs": [],
   "source": [
    "induced_bs_attrib_names.sort()"
   ],
   "metadata": {
    "collapsed": false
   }
  },
  {
   "cell_type": "code",
   "execution_count": 136,
   "outputs": [],
   "source": [
    "biosample_slot_report = []"
   ],
   "metadata": {
    "collapsed": false
   }
  },
  {
   "cell_type": "code",
   "execution_count": 137,
   "outputs": [],
   "source": [
    "for i in induced_bs_attrib_names:\n",
    "    i_obj = schema_view.induced_slot(i, \"Biosample\")\n",
    "    i_range = str(i_obj.range)\n",
    "    i_range_obj = schema_view.get_element(i_range)\n",
    "    i_range_type = type(i_range_obj).class_name\n",
    "    i_range_children = schema_view.class_descendants(i_range)\n",
    "    if i_range in i_range_children:\n",
    "        i_range_children.remove(i_range)\n",
    "    i_range_children.sort()\n",
    "    i_range_children = '|'.join(i_range_children)\n",
    "    if i_range_type == \"class_definition\":\n",
    "        parent = i_range_obj.is_a\n",
    "    else:\n",
    "        parent = None\n",
    "    if i_range_type == \"type_definition\":\n",
    "        if i_range in types_type_names:\n",
    "            custom_type = False\n",
    "        else:\n",
    "            custom_type = True\n",
    "    else:\n",
    "        custom_type = None\n",
    "    inner_dict = {'biosample_slot': i, \"range\": i_range, \"range_type\": i_range_type, \"ranges_parent_class\": parent,\n",
    "                  \"custom_type\": custom_type, \"range_children\": i_range_children}\n",
    "    biosample_slot_report.append(inner_dict)\n"
   ],
   "metadata": {
    "collapsed": false
   }
  },
  {
   "cell_type": "code",
   "execution_count": 138,
   "outputs": [],
   "source": [
    "biosample_slot_report_frame = pd.DataFrame(biosample_slot_report)\n"
   ],
   "metadata": {
    "collapsed": false
   }
  },
  {
   "cell_type": "code",
   "execution_count": 139,
   "outputs": [],
   "source": [
    "# biosample_slot_report_frame"
   ],
   "metadata": {
    "collapsed": false
   }
  },
  {
   "cell_type": "code",
   "execution_count": 140,
   "outputs": [],
   "source": [
    "biosample_slot_report_frame.to_clipboard(index=False)"
   ],
   "metadata": {
    "collapsed": false
   }
  },
  {
   "cell_type": "code",
   "execution_count": null,
   "outputs": [],
   "source": [],
   "metadata": {
    "collapsed": false
   }
  }
 ],
 "metadata": {
  "kernelspec": {
   "display_name": "Python 3",
   "language": "python",
   "name": "python3"
  },
  "language_info": {
   "codemirror_mode": {
    "name": "ipython",
    "version": 2
   },
   "file_extension": ".py",
   "mimetype": "text/x-python",
   "name": "python",
   "nbconvert_exporter": "python",
   "pygments_lexer": "ipython2",
   "version": "2.7.6"
  }
 },
 "nbformat": 4,
 "nbformat_minor": 0
}
